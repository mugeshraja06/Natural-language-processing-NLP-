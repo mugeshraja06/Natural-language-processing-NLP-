{
 "cells": [
  {
   "cell_type": "markdown",
   "metadata": {},
   "source": [
    "### Convert Text to Speech in Python"
   ]
  },
  {
   "cell_type": "code",
   "execution_count": 1,
   "metadata": {},
   "outputs": [
    {
     "name": "stdout",
     "output_type": "stream",
     "text": [
      "Collecting gTTS\n",
      "  Downloading gTTS-2.1.1-py3-none-any.whl (25 kB)\n",
      "Requirement already satisfied: requests in c:\\users\\windows 10\\anaconda3\\lib\\site-packages (from gTTS) (2.22.0)\n",
      "Requirement already satisfied: click in c:\\users\\windows 10\\anaconda3\\lib\\site-packages (from gTTS) (7.0)\n",
      "Requirement already satisfied: beautifulsoup4 in c:\\users\\windows 10\\anaconda3\\lib\\site-packages (from gTTS) (4.7.1)\n",
      "Requirement already satisfied: six in c:\\users\\windows 10\\anaconda3\\lib\\site-packages (from gTTS) (1.12.0)\n",
      "Collecting gtts-token>=1.1.3\n",
      "  Downloading gTTS-token-1.1.3.tar.gz (3.4 kB)\n",
      "Requirement already satisfied: urllib3!=1.25.0,!=1.25.1,<1.26,>=1.21.1 in c:\\users\\windows 10\\anaconda3\\lib\\site-packages (from requests->gTTS) (1.24.2)\n",
      "Requirement already satisfied: chardet<3.1.0,>=3.0.2 in c:\\users\\windows 10\\anaconda3\\lib\\site-packages (from requests->gTTS) (3.0.4)\n",
      "Requirement already satisfied: idna<2.9,>=2.5 in c:\\users\\windows 10\\anaconda3\\lib\\site-packages (from requests->gTTS) (2.8)\n",
      "Requirement already satisfied: certifi>=2017.4.17 in c:\\users\\windows 10\\anaconda3\\lib\\site-packages (from requests->gTTS) (2019.11.28)\n",
      "Requirement already satisfied: soupsieve>=1.2 in c:\\users\\windows 10\\anaconda3\\lib\\site-packages (from beautifulsoup4->gTTS) (1.8)\n",
      "Building wheels for collected packages: gtts-token\n",
      "  Building wheel for gtts-token (setup.py): started\n",
      "  Building wheel for gtts-token (setup.py): finished with status 'done'\n",
      "  Created wheel for gtts-token: filename=gTTS_token-1.1.3-py3-none-any.whl size=4101 sha256=678771d617a70482b13023ff0e6e01ce366d0925c50461210cd12b9cc4352164\n",
      "  Stored in directory: c:\\users\\windows 10\\appdata\\local\\pip\\cache\\wheels\\c1\\78\\25\\81270af5521d88ea8db7da5d4f64872673976eb9692bcb0c13\n",
      "Successfully built gtts-token\n",
      "Installing collected packages: gtts-token, gTTS\n",
      "Successfully installed gTTS-2.1.1 gtts-token-1.1.3\n"
     ]
    }
   ],
   "source": [
    "# ! pip install gTTS"
   ]
  },
  {
   "cell_type": "markdown",
   "metadata": {},
   "source": [
    "Language code: https://www.science.co.il/language/Codes.php"
   ]
  },
  {
   "cell_type": "code",
   "execution_count": null,
   "metadata": {},
   "outputs": [],
   "source": []
  },
  {
   "cell_type": "code",
   "execution_count": 9,
   "metadata": {},
   "outputs": [],
   "source": [
    "from gtts import gTTS "
   ]
  },
  {
   "cell_type": "code",
   "execution_count": 14,
   "metadata": {},
   "outputs": [
    {
     "data": {
      "text/plain": [
       "0"
      ]
     },
     "execution_count": 14,
     "metadata": {},
     "output_type": "execute_result"
    }
   ],
   "source": [
    "import os \n",
    "  \n",
    "mytext = \"நான் இப்போது மனிதனாக மாறிவிட்டேன் என்று நினைக்கிறேன்\"\n",
    "  \n",
    "language = 'ta'\n",
    "  \n",
    "myobj = gTTS(text=mytext, lang=language, slow=False) \n",
    "\n",
    "myobj.save(\"welcome.mp3\") \n",
    "\n",
    "# Playing the converted file \n",
    "os.system(\"welcome.mp3\") "
   ]
  },
  {
   "cell_type": "code",
   "execution_count": null,
   "metadata": {},
   "outputs": [],
   "source": []
  },
  {
   "cell_type": "markdown",
   "metadata": {},
   "source": [
    "### pyTTSx3"
   ]
  },
  {
   "cell_type": "code",
   "execution_count": 15,
   "metadata": {},
   "outputs": [
    {
     "name": "stdout",
     "output_type": "stream",
     "text": [
      "Collecting pyttsx3\n",
      "  Downloading pyttsx3-2.87-py3-none-any.whl (39 kB)\n",
      "Requirement already satisfied: comtypes; platform_system == \"Windows\" in c:\\users\\windows 10\\anaconda3\\lib\\site-packages (from pyttsx3) (1.1.7)\n",
      "Installing collected packages: pyttsx3\n",
      "Successfully installed pyttsx3-2.87\n"
     ]
    }
   ],
   "source": [
    "# ! pip install pyttsx3"
   ]
  },
  {
   "cell_type": "code",
   "execution_count": 16,
   "metadata": {},
   "outputs": [],
   "source": [
    "import pyttsx3"
   ]
  },
  {
   "cell_type": "code",
   "execution_count": 21,
   "metadata": {},
   "outputs": [],
   "source": [
    "converter = pyttsx3.init() \n",
    "  \n",
    "converter.setProperty('rate', 175) \n",
    "\n",
    "# Set volume 0-1 \n",
    "converter.setProperty('volume', 0.7) \n",
    "  \n",
    "converter.say(\"i think i would say, i am changed man now\") \n",
    "converter.say(\"I'm Iron man\") \n",
    "  \n",
    "converter.runAndWait() "
   ]
  },
  {
   "cell_type": "code",
   "execution_count": null,
   "metadata": {},
   "outputs": [],
   "source": []
  },
  {
   "cell_type": "code",
   "execution_count": null,
   "metadata": {},
   "outputs": [],
   "source": []
  },
  {
   "cell_type": "code",
   "execution_count": null,
   "metadata": {},
   "outputs": [],
   "source": []
  },
  {
   "cell_type": "code",
   "execution_count": null,
   "metadata": {},
   "outputs": [],
   "source": []
  },
  {
   "cell_type": "code",
   "execution_count": null,
   "metadata": {},
   "outputs": [],
   "source": []
  },
  {
   "cell_type": "code",
   "execution_count": null,
   "metadata": {},
   "outputs": [],
   "source": []
  }
 ],
 "metadata": {
  "kernelspec": {
   "display_name": "Python 3",
   "language": "python",
   "name": "python3"
  },
  "language_info": {
   "codemirror_mode": {
    "name": "ipython",
    "version": 3
   },
   "file_extension": ".py",
   "mimetype": "text/x-python",
   "name": "python",
   "nbconvert_exporter": "python",
   "pygments_lexer": "ipython3",
   "version": "3.7.3"
  }
 },
 "nbformat": 4,
 "nbformat_minor": 2
}
