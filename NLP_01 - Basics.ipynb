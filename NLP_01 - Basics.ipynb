{
 "cells": [
  {
   "cell_type": "code",
   "execution_count": 1,
   "metadata": {},
   "outputs": [
    {
     "name": "stdout",
     "output_type": "stream",
     "text": [
      "Requirement already satisfied: nltk in c:\\users\\windows 10\\anaconda3\\lib\\site-packages (3.4.4)\n",
      "Requirement already satisfied: six in c:\\users\\windows 10\\anaconda3\\lib\\site-packages (from nltk) (1.12.0)\n"
     ]
    },
    {
     "name": "stderr",
     "output_type": "stream",
     "text": [
      "WARNING: You are using pip version 19.3.1; however, version 20.0.2 is available.\n",
      "You should consider upgrading via the 'python -m pip install --upgrade pip' command.\n"
     ]
    }
   ],
   "source": [
    "# ! pip install nltk"
   ]
  },
  {
   "cell_type": "code",
   "execution_count": 4,
   "metadata": {},
   "outputs": [],
   "source": [
    "from collections import Counter\n",
    "import nltk\n",
    "import string\n",
    "from nltk.tokenize import word_tokenize\n",
    "\n",
    "import math"
   ]
  },
  {
   "cell_type": "code",
   "execution_count": 1,
   "metadata": {},
   "outputs": [
    {
     "name": "stdout",
     "output_type": "stream",
     "text": [
      "Collecting spacy-lookups-data\n",
      "  Downloading https://files.pythonhosted.org/packages/3c/f1/be61b032e02a06a221e14f906dc251de90ac459dc2739f0c5225844ecb08/spacy_lookups_data-0.2.0.tar.gz (29.2MB)\n",
      "Requirement already satisfied, skipping upgrade: setuptools in c:\\users\\windows 10\\anaconda3\\lib\\site-packages (from spacy-lookups-data) (41.0.1)\n",
      "Building wheels for collected packages: spacy-lookups-data\n",
      "  Building wheel for spacy-lookups-data (setup.py): started\n",
      "  Building wheel for spacy-lookups-data (setup.py): finished with status 'done'\n",
      "  Created wheel for spacy-lookups-data: filename=spacy_lookups_data-0.2.0-py2.py3-none-any.whl size=29164788 sha256=b52ed8945e6434d48ded9a2d4b04e201f95671d858676c4762a038f786c24192\n",
      "  Stored in directory: C:\\Users\\Windows 10\\AppData\\Local\\pip\\Cache\\wheels\\79\\a4\\b8\\6085d282396938b29675292697e72871b145990d0079ceadc1\n",
      "Successfully built spacy-lookups-data\n",
      "Installing collected packages: spacy-lookups-data\n",
      "Successfully installed spacy-lookups-data-0.2.0\n"
     ]
    },
    {
     "name": "stderr",
     "output_type": "stream",
     "text": [
      "WARNING: You are using pip version 19.3.1; however, version 20.0.2 is available.\n",
      "You should consider upgrading via the 'python -m pip install --upgrade pip' command.\n"
     ]
    }
   ],
   "source": [
    "# !pip install -U spacy-lookups-data"
   ]
  },
  {
   "cell_type": "code",
   "execution_count": 2,
   "metadata": {},
   "outputs": [
    {
     "name": "stdout",
     "output_type": "stream",
     "text": [
      "Collecting spacy\n",
      "  Downloading https://files.pythonhosted.org/packages/39/c9/6c6bbb563588cd9b5d155ebda200796911588fb46a85e5f4d21b7b2ab759/spacy-2.2.4-cp37-cp37m-win_amd64.whl (9.9MB)\n",
      "Collecting srsly<1.1.0,>=1.0.2\n",
      "  Downloading https://files.pythonhosted.org/packages/fd/31/edaf3cdb7fcb644a51c7a568bc62a8c8d7462e61fa79b090f4d12d73d39e/srsly-1.0.2-cp37-cp37m-win_amd64.whl (179kB)\n",
      "Collecting tqdm<5.0.0,>=4.38.0\n",
      "  Downloading https://files.pythonhosted.org/packages/4a/1c/6359be64e8301b84160f6f6f7936bbfaaa5e9a4eab6cbc681db07600b949/tqdm-4.45.0-py2.py3-none-any.whl (60kB)\n",
      "Requirement already satisfied, skipping upgrade: setuptools in c:\\users\\windows 10\\anaconda3\\lib\\site-packages (from spacy) (41.0.1)\n",
      "Collecting wasabi<1.1.0,>=0.4.0\n",
      "  Downloading https://files.pythonhosted.org/packages/21/e1/e4e7b754e6be3a79c400eb766fb34924a6d278c43bb828f94233e0124a21/wasabi-0.6.0-py3-none-any.whl\n",
      "Collecting thinc==7.4.0\n",
      "  Downloading https://files.pythonhosted.org/packages/7b/5e/d7e297587f75f4932b57b47163fb92f7b479939327ca83badc0938194415/thinc-7.4.0-cp37-cp37m-win_amd64.whl (2.1MB)\n",
      "Collecting blis<0.5.0,>=0.4.0\n",
      "  Downloading https://files.pythonhosted.org/packages/d5/7e/1981d5389b75543f950026de40a9d346e2aec7e860b2800e54e65bd46c06/blis-0.4.1-cp37-cp37m-win_amd64.whl (5.0MB)\n",
      "Requirement already satisfied, skipping upgrade: numpy>=1.15.0 in c:\\users\\windows 10\\anaconda3\\lib\\site-packages (from spacy) (1.16.4)\n",
      "Requirement already satisfied, skipping upgrade: requests<3.0.0,>=2.13.0 in c:\\users\\windows 10\\anaconda3\\lib\\site-packages (from spacy) (2.22.0)\n",
      "Collecting catalogue<1.1.0,>=0.0.7\n",
      "  Downloading https://files.pythonhosted.org/packages/6c/f9/9a5658e2f56932e41eb264941f9a2cb7f3ce41a80cb36b2af6ab78e2f8af/catalogue-1.0.0-py2.py3-none-any.whl\n",
      "Collecting cymem<2.1.0,>=2.0.2\n",
      "  Downloading https://files.pythonhosted.org/packages/84/d1/35eab0c8cc9fd9432becaf3e90144762b3201a45079e62c47a8ae8739763/cymem-2.0.3-cp37-cp37m-win_amd64.whl\n",
      "Collecting preshed<3.1.0,>=3.0.2\n",
      "  Downloading https://files.pythonhosted.org/packages/3c/5a/0d1b575ed40989d74fab25723083837c220246b25f3582917135cb32453f/preshed-3.0.2-cp37-cp37m-win_amd64.whl (105kB)\n",
      "Collecting plac<1.2.0,>=0.9.6\n",
      "  Downloading https://files.pythonhosted.org/packages/86/85/40b8f66c2dd8f4fd9f09d59b22720cffecf1331e788b8a0cab5bafb353d1/plac-1.1.3-py2.py3-none-any.whl\n",
      "Collecting murmurhash<1.1.0,>=0.28.0\n",
      "  Downloading https://files.pythonhosted.org/packages/4f/7b/d77bc9bb101e113884b2d70a118e7ec8dcc9846a35a0e10d47ca37acdcbf/murmurhash-1.0.2-cp37-cp37m-win_amd64.whl\n",
      "Requirement already satisfied, skipping upgrade: urllib3!=1.25.0,!=1.25.1,<1.26,>=1.21.1 in c:\\users\\windows 10\\anaconda3\\lib\\site-packages (from requests<3.0.0,>=2.13.0->spacy) (1.24.2)\n",
      "Requirement already satisfied, skipping upgrade: idna<2.9,>=2.5 in c:\\users\\windows 10\\anaconda3\\lib\\site-packages (from requests<3.0.0,>=2.13.0->spacy) (2.8)\n",
      "Requirement already satisfied, skipping upgrade: certifi>=2017.4.17 in c:\\users\\windows 10\\anaconda3\\lib\\site-packages (from requests<3.0.0,>=2.13.0->spacy) (2019.11.28)\n",
      "Requirement already satisfied, skipping upgrade: chardet<3.1.0,>=3.0.2 in c:\\users\\windows 10\\anaconda3\\lib\\site-packages (from requests<3.0.0,>=2.13.0->spacy) (3.0.4)\n",
      "Collecting importlib-metadata>=0.20; python_version < \"3.8\"\n",
      "  Downloading https://files.pythonhosted.org/packages/ad/e4/891bfcaf868ccabc619942f27940c77a8a4b45fd8367098955bb7e152fb1/importlib_metadata-1.6.0-py2.py3-none-any.whl\n",
      "Requirement already satisfied, skipping upgrade: zipp>=0.5 in c:\\users\\windows 10\\anaconda3\\lib\\site-packages (from importlib-metadata>=0.20; python_version < \"3.8\"->catalogue<1.1.0,>=0.0.7->spacy) (0.5.1)\n",
      "Installing collected packages: srsly, tqdm, wasabi, cymem, murmurhash, preshed, blis, importlib-metadata, catalogue, plac, thinc, spacy\n",
      "  Found existing installation: tqdm 4.32.1\n",
      "    Uninstalling tqdm-4.32.1:\n",
      "      Successfully uninstalled tqdm-4.32.1\n",
      "  Found existing installation: importlib-metadata 0.17\n",
      "    Uninstalling importlib-metadata-0.17:\n",
      "      Successfully uninstalled importlib-metadata-0.17\n",
      "Successfully installed blis-0.4.1 catalogue-1.0.0 cymem-2.0.3 importlib-metadata-1.6.0 murmurhash-1.0.2 plac-1.1.3 preshed-3.0.2 spacy-2.2.4 srsly-1.0.2 thinc-7.4.0 tqdm-4.45.0 wasabi-0.6.0\n"
     ]
    },
    {
     "name": "stderr",
     "output_type": "stream",
     "text": [
      "WARNING: You are using pip version 19.3.1; however, version 20.0.2 is available.\n",
      "You should consider upgrading via the 'python -m pip install --upgrade pip' command.\n"
     ]
    }
   ],
   "source": [
    "#!pip install -U spacy"
   ]
  },
  {
   "cell_type": "code",
   "execution_count": 3,
   "metadata": {},
   "outputs": [
    {
     "name": "stdout",
     "output_type": "stream",
     "text": [
      "Collecting en_core_web_sm==2.2.5\n",
      "  Downloading https://github.com/explosion/spacy-models/releases/download/en_core_web_sm-2.2.5/en_core_web_sm-2.2.5.tar.gz (12.0MB)\n",
      "Requirement already satisfied: spacy>=2.2.2 in c:\\users\\windows 10\\anaconda3\\lib\\site-packages (from en_core_web_sm==2.2.5) (2.2.4)\n",
      "Requirement already satisfied: srsly<1.1.0,>=1.0.2 in c:\\users\\windows 10\\anaconda3\\lib\\site-packages (from spacy>=2.2.2->en_core_web_sm==2.2.5) (1.0.2)\n",
      "Requirement already satisfied: blis<0.5.0,>=0.4.0 in c:\\users\\windows 10\\anaconda3\\lib\\site-packages (from spacy>=2.2.2->en_core_web_sm==2.2.5) (0.4.1)\n",
      "Requirement already satisfied: cymem<2.1.0,>=2.0.2 in c:\\users\\windows 10\\anaconda3\\lib\\site-packages (from spacy>=2.2.2->en_core_web_sm==2.2.5) (2.0.3)\n",
      "Requirement already satisfied: wasabi<1.1.0,>=0.4.0 in c:\\users\\windows 10\\anaconda3\\lib\\site-packages (from spacy>=2.2.2->en_core_web_sm==2.2.5) (0.6.0)\n",
      "Requirement already satisfied: requests<3.0.0,>=2.13.0 in c:\\users\\windows 10\\anaconda3\\lib\\site-packages (from spacy>=2.2.2->en_core_web_sm==2.2.5) (2.22.0)\n",
      "Requirement already satisfied: setuptools in c:\\users\\windows 10\\anaconda3\\lib\\site-packages (from spacy>=2.2.2->en_core_web_sm==2.2.5) (41.0.1)\n",
      "Requirement already satisfied: tqdm<5.0.0,>=4.38.0 in c:\\users\\windows 10\\anaconda3\\lib\\site-packages (from spacy>=2.2.2->en_core_web_sm==2.2.5) (4.45.0)\n",
      "Requirement already satisfied: plac<1.2.0,>=0.9.6 in c:\\users\\windows 10\\anaconda3\\lib\\site-packages (from spacy>=2.2.2->en_core_web_sm==2.2.5) (1.1.3)\n",
      "Requirement already satisfied: preshed<3.1.0,>=3.0.2 in c:\\users\\windows 10\\anaconda3\\lib\\site-packages (from spacy>=2.2.2->en_core_web_sm==2.2.5) (3.0.2)\n",
      "Requirement already satisfied: numpy>=1.15.0 in c:\\users\\windows 10\\anaconda3\\lib\\site-packages (from spacy>=2.2.2->en_core_web_sm==2.2.5) (1.16.4)\n",
      "Requirement already satisfied: thinc==7.4.0 in c:\\users\\windows 10\\anaconda3\\lib\\site-packages (from spacy>=2.2.2->en_core_web_sm==2.2.5) (7.4.0)\n",
      "Requirement already satisfied: catalogue<1.1.0,>=0.0.7 in c:\\users\\windows 10\\anaconda3\\lib\\site-packages (from spacy>=2.2.2->en_core_web_sm==2.2.5) (1.0.0)\n",
      "Requirement already satisfied: murmurhash<1.1.0,>=0.28.0 in c:\\users\\windows 10\\anaconda3\\lib\\site-packages (from spacy>=2.2.2->en_core_web_sm==2.2.5) (1.0.2)\n",
      "Requirement already satisfied: idna<2.9,>=2.5 in c:\\users\\windows 10\\anaconda3\\lib\\site-packages (from requests<3.0.0,>=2.13.0->spacy>=2.2.2->en_core_web_sm==2.2.5) (2.8)\n",
      "Requirement already satisfied: chardet<3.1.0,>=3.0.2 in c:\\users\\windows 10\\anaconda3\\lib\\site-packages (from requests<3.0.0,>=2.13.0->spacy>=2.2.2->en_core_web_sm==2.2.5) (3.0.4)\n",
      "Requirement already satisfied: certifi>=2017.4.17 in c:\\users\\windows 10\\anaconda3\\lib\\site-packages (from requests<3.0.0,>=2.13.0->spacy>=2.2.2->en_core_web_sm==2.2.5) (2019.11.28)\n",
      "Requirement already satisfied: urllib3!=1.25.0,!=1.25.1,<1.26,>=1.21.1 in c:\\users\\windows 10\\anaconda3\\lib\\site-packages (from requests<3.0.0,>=2.13.0->spacy>=2.2.2->en_core_web_sm==2.2.5) (1.24.2)\n",
      "Requirement already satisfied: importlib-metadata>=0.20; python_version < \"3.8\" in c:\\users\\windows 10\\anaconda3\\lib\\site-packages (from catalogue<1.1.0,>=0.0.7->spacy>=2.2.2->en_core_web_sm==2.2.5) (1.6.0)\n",
      "Requirement already satisfied: zipp>=0.5 in c:\\users\\windows 10\\anaconda3\\lib\\site-packages (from importlib-metadata>=0.20; python_version < \"3.8\"->catalogue<1.1.0,>=0.0.7->spacy>=2.2.2->en_core_web_sm==2.2.5) (0.5.1)\n",
      "Building wheels for collected packages: en-core-web-sm\n",
      "  Building wheel for en-core-web-sm (setup.py): started\n",
      "  Building wheel for en-core-web-sm (setup.py): finished with status 'done'\n",
      "  Created wheel for en-core-web-sm: filename=en_core_web_sm-2.2.5-cp37-none-any.whl size=12011744 sha256=d369b490feac86e2d662b9d773100692e940c51152be95d2bd465e3a1a593736\n",
      "  Stored in directory: C:\\Users\\WINDOW~1\\AppData\\Local\\Temp\\pip-ephem-wheel-cache-py886wp7\\wheels\\6a\\47\\fb\\6b5a0b8906d8e8779246c67d4658fd8a544d4a03a75520197a\n",
      "Successfully built en-core-web-sm\n",
      "Installing collected packages: en-core-web-sm\n",
      "Successfully installed en-core-web-sm-2.2.5\n",
      "[+] Download and installation successful\n",
      "You can now load the model via spacy.load('en_core_web_sm')\n",
      "[x] Couldn't link model to 'en'\n",
      "Creating a symlink in spacy/data failed. Make sure you have the required\n",
      "permissions and try re-running the command as admin, or use a virtualenv. You\n",
      "can still import the model as a module and call its load() method, or create the\n",
      "symlink manually.\n",
      "C:\\Users\\Windows 10\\Anaconda3\\lib\\site-packages\\en_core_web_sm -->\n",
      "C:\\Users\\Windows 10\\Anaconda3\\lib\\site-packages\\spacy\\data\\en\n",
      "[!] Download successful but linking failed\n",
      "Creating a shortcut link for 'en' didn't work (maybe you don't have admin\n",
      "permissions?), but you can still load the model via its full package name: nlp =\n",
      "spacy.load('en_core_web_sm')\n"
     ]
    },
    {
     "name": "stderr",
     "output_type": "stream",
     "text": [
      "WARNING: You are using pip version 19.3.1; however, version 20.0.2 is available.\n",
      "You should consider upgrading via the 'python -m pip install --upgrade pip' command.\n",
      "You do not have sufficient privilege to perform this operation.\n"
     ]
    }
   ],
   "source": [
    "#! python -m spacy download en"
   ]
  },
  {
   "cell_type": "code",
   "execution_count": 2,
   "metadata": {},
   "outputs": [],
   "source": [
    "import numpy as np\n",
    "import pandas as pd\n",
    "import matplotlib.pyplot as plt\n",
    "\n",
    "import spacy"
   ]
  },
  {
   "cell_type": "code",
   "execution_count": 3,
   "metadata": {},
   "outputs": [
    {
     "data": {
      "text/html": [
       "<div>\n",
       "<style scoped>\n",
       "    .dataframe tbody tr th:only-of-type {\n",
       "        vertical-align: middle;\n",
       "    }\n",
       "\n",
       "    .dataframe tbody tr th {\n",
       "        vertical-align: top;\n",
       "    }\n",
       "\n",
       "    .dataframe thead th {\n",
       "        text-align: right;\n",
       "    }\n",
       "</style>\n",
       "<table border=\"1\" class=\"dataframe\">\n",
       "  <thead>\n",
       "    <tr style=\"text-align: right;\">\n",
       "      <th></th>\n",
       "      <th>label</th>\n",
       "      <th>Message</th>\n",
       "    </tr>\n",
       "  </thead>\n",
       "  <tbody>\n",
       "    <tr>\n",
       "      <th>0</th>\n",
       "      <td>ham</td>\n",
       "      <td>I've been searching for the right words to tha...</td>\n",
       "    </tr>\n",
       "    <tr>\n",
       "      <th>1</th>\n",
       "      <td>spam</td>\n",
       "      <td>Free entry in 2 a wkly comp to win FA Cup fina...</td>\n",
       "    </tr>\n",
       "    <tr>\n",
       "      <th>2</th>\n",
       "      <td>ham</td>\n",
       "      <td>Nah I don't think he goes to usf, he lives aro...</td>\n",
       "    </tr>\n",
       "    <tr>\n",
       "      <th>3</th>\n",
       "      <td>ham</td>\n",
       "      <td>Even my brother is not like to speak with me. ...</td>\n",
       "    </tr>\n",
       "    <tr>\n",
       "      <th>4</th>\n",
       "      <td>ham</td>\n",
       "      <td>I HAVE A DATE ON SUNDAY WITH WILL!!!</td>\n",
       "    </tr>\n",
       "  </tbody>\n",
       "</table>\n",
       "</div>"
      ],
      "text/plain": [
       "  label                                            Message\n",
       "0   ham  I've been searching for the right words to tha...\n",
       "1  spam  Free entry in 2 a wkly comp to win FA Cup fina...\n",
       "2   ham  Nah I don't think he goes to usf, he lives aro...\n",
       "3   ham  Even my brother is not like to speak with me. ...\n",
       "4   ham               I HAVE A DATE ON SUNDAY WITH WILL!!!"
      ]
     },
     "execution_count": 3,
     "metadata": {},
     "output_type": "execute_result"
    }
   ],
   "source": [
    "df = pd.read_csv('spam.tsv', sep='\\t', names=['label','Message'])\n",
    "df.head()"
   ]
  },
  {
   "cell_type": "code",
   "execution_count": 4,
   "metadata": {},
   "outputs": [
    {
     "data": {
      "text/plain": [
       "label      0\n",
       "Message    0\n",
       "dtype: int64"
      ]
     },
     "execution_count": 4,
     "metadata": {},
     "output_type": "execute_result"
    }
   ],
   "source": [
    "df.isnull().sum()"
   ]
  },
  {
   "cell_type": "code",
   "execution_count": 5,
   "metadata": {},
   "outputs": [
    {
     "data": {
      "text/plain": [
       "5567"
      ]
     },
     "execution_count": 5,
     "metadata": {},
     "output_type": "execute_result"
    }
   ],
   "source": [
    "len(df)"
   ]
  },
  {
   "cell_type": "code",
   "execution_count": 6,
   "metadata": {},
   "outputs": [
    {
     "data": {
      "text/plain": [
       "ham     4821\n",
       "spam     746\n",
       "Name: label, dtype: int64"
      ]
     },
     "execution_count": 6,
     "metadata": {},
     "output_type": "execute_result"
    }
   ],
   "source": [
    "df['label'].value_counts()"
   ]
  },
  {
   "cell_type": "code",
   "execution_count": 7,
   "metadata": {},
   "outputs": [
    {
     "data": {
      "text/html": [
       "<div>\n",
       "<style scoped>\n",
       "    .dataframe tbody tr th:only-of-type {\n",
       "        vertical-align: middle;\n",
       "    }\n",
       "\n",
       "    .dataframe tbody tr th {\n",
       "        vertical-align: top;\n",
       "    }\n",
       "\n",
       "    .dataframe thead th {\n",
       "        text-align: right;\n",
       "    }\n",
       "</style>\n",
       "<table border=\"1\" class=\"dataframe\">\n",
       "  <thead>\n",
       "    <tr style=\"text-align: right;\">\n",
       "      <th></th>\n",
       "      <th>label</th>\n",
       "      <th>Message</th>\n",
       "    </tr>\n",
       "  </thead>\n",
       "  <tbody>\n",
       "    <tr>\n",
       "      <th>0</th>\n",
       "      <td>ham</td>\n",
       "      <td>I've been searching for the right words to tha...</td>\n",
       "    </tr>\n",
       "    <tr>\n",
       "      <th>2</th>\n",
       "      <td>ham</td>\n",
       "      <td>Nah I don't think he goes to usf, he lives aro...</td>\n",
       "    </tr>\n",
       "    <tr>\n",
       "      <th>3</th>\n",
       "      <td>ham</td>\n",
       "      <td>Even my brother is not like to speak with me. ...</td>\n",
       "    </tr>\n",
       "    <tr>\n",
       "      <th>4</th>\n",
       "      <td>ham</td>\n",
       "      <td>I HAVE A DATE ON SUNDAY WITH WILL!!!</td>\n",
       "    </tr>\n",
       "    <tr>\n",
       "      <th>5</th>\n",
       "      <td>ham</td>\n",
       "      <td>As per your request 'Melle Melle (Oru Minnamin...</td>\n",
       "    </tr>\n",
       "  </tbody>\n",
       "</table>\n",
       "</div>"
      ],
      "text/plain": [
       "  label                                            Message\n",
       "0   ham  I've been searching for the right words to tha...\n",
       "2   ham  Nah I don't think he goes to usf, he lives aro...\n",
       "3   ham  Even my brother is not like to speak with me. ...\n",
       "4   ham               I HAVE A DATE ON SUNDAY WITH WILL!!!\n",
       "5   ham  As per your request 'Melle Melle (Oru Minnamin..."
      ]
     },
     "execution_count": 7,
     "metadata": {},
     "output_type": "execute_result"
    }
   ],
   "source": [
    "ham =df[df['label'] == 'ham']\n",
    "ham.head()"
   ]
  },
  {
   "cell_type": "code",
   "execution_count": null,
   "metadata": {},
   "outputs": [],
   "source": []
  },
  {
   "cell_type": "code",
   "execution_count": 8,
   "metadata": {},
   "outputs": [
    {
     "data": {
      "text/html": [
       "<div>\n",
       "<style scoped>\n",
       "    .dataframe tbody tr th:only-of-type {\n",
       "        vertical-align: middle;\n",
       "    }\n",
       "\n",
       "    .dataframe tbody tr th {\n",
       "        vertical-align: top;\n",
       "    }\n",
       "\n",
       "    .dataframe thead th {\n",
       "        text-align: right;\n",
       "    }\n",
       "</style>\n",
       "<table border=\"1\" class=\"dataframe\">\n",
       "  <thead>\n",
       "    <tr style=\"text-align: right;\">\n",
       "      <th></th>\n",
       "      <th>label</th>\n",
       "      <th>Message</th>\n",
       "    </tr>\n",
       "  </thead>\n",
       "  <tbody>\n",
       "    <tr>\n",
       "      <th>1</th>\n",
       "      <td>spam</td>\n",
       "      <td>Free entry in 2 a wkly comp to win FA Cup fina...</td>\n",
       "    </tr>\n",
       "    <tr>\n",
       "      <th>6</th>\n",
       "      <td>spam</td>\n",
       "      <td>WINNER!! As a valued network customer you have...</td>\n",
       "    </tr>\n",
       "    <tr>\n",
       "      <th>7</th>\n",
       "      <td>spam</td>\n",
       "      <td>Had your mobile 11 months or more? U R entitle...</td>\n",
       "    </tr>\n",
       "    <tr>\n",
       "      <th>9</th>\n",
       "      <td>spam</td>\n",
       "      <td>SIX chances to win CASH! From 100 to 20,000 po...</td>\n",
       "    </tr>\n",
       "    <tr>\n",
       "      <th>10</th>\n",
       "      <td>spam</td>\n",
       "      <td>URGENT! You have won a 1 week FREE membership ...</td>\n",
       "    </tr>\n",
       "  </tbody>\n",
       "</table>\n",
       "</div>"
      ],
      "text/plain": [
       "   label                                            Message\n",
       "1   spam  Free entry in 2 a wkly comp to win FA Cup fina...\n",
       "6   spam  WINNER!! As a valued network customer you have...\n",
       "7   spam  Had your mobile 11 months or more? U R entitle...\n",
       "9   spam  SIX chances to win CASH! From 100 to 20,000 po...\n",
       "10  spam  URGENT! You have won a 1 week FREE membership ..."
      ]
     },
     "execution_count": 8,
     "metadata": {},
     "output_type": "execute_result"
    }
   ],
   "source": [
    "spam =df[df['label'] == 'spam']\n",
    "\n",
    "spam.head()"
   ]
  },
  {
   "cell_type": "code",
   "execution_count": 9,
   "metadata": {},
   "outputs": [
    {
     "data": {
      "text/plain": [
       "((4821, 2), (746, 2))"
      ]
     },
     "execution_count": 9,
     "metadata": {},
     "output_type": "execute_result"
    }
   ],
   "source": [
    "ham.shape, spam.shape"
   ]
  },
  {
   "cell_type": "code",
   "execution_count": 10,
   "metadata": {},
   "outputs": [
    {
     "data": {
      "text/html": [
       "<div>\n",
       "<style scoped>\n",
       "    .dataframe tbody tr th:only-of-type {\n",
       "        vertical-align: middle;\n",
       "    }\n",
       "\n",
       "    .dataframe tbody tr th {\n",
       "        vertical-align: top;\n",
       "    }\n",
       "\n",
       "    .dataframe thead th {\n",
       "        text-align: right;\n",
       "    }\n",
       "</style>\n",
       "<table border=\"1\" class=\"dataframe\">\n",
       "  <thead>\n",
       "    <tr style=\"text-align: right;\">\n",
       "      <th></th>\n",
       "      <th>label</th>\n",
       "      <th>Message</th>\n",
       "    </tr>\n",
       "  </thead>\n",
       "  <tbody>\n",
       "    <tr>\n",
       "      <th>0</th>\n",
       "      <td>ham</td>\n",
       "      <td>I've been searching for the right words to tha...</td>\n",
       "    </tr>\n",
       "    <tr>\n",
       "      <th>1</th>\n",
       "      <td>ham</td>\n",
       "      <td>Nah I don't think he goes to usf, he lives aro...</td>\n",
       "    </tr>\n",
       "    <tr>\n",
       "      <th>2</th>\n",
       "      <td>ham</td>\n",
       "      <td>Even my brother is not like to speak with me. ...</td>\n",
       "    </tr>\n",
       "    <tr>\n",
       "      <th>3</th>\n",
       "      <td>ham</td>\n",
       "      <td>I HAVE A DATE ON SUNDAY WITH WILL!!!</td>\n",
       "    </tr>\n",
       "    <tr>\n",
       "      <th>4</th>\n",
       "      <td>ham</td>\n",
       "      <td>As per your request 'Melle Melle (Oru Minnamin...</td>\n",
       "    </tr>\n",
       "  </tbody>\n",
       "</table>\n",
       "</div>"
      ],
      "text/plain": [
       "  label                                            Message\n",
       "0   ham  I've been searching for the right words to tha...\n",
       "1   ham  Nah I don't think he goes to usf, he lives aro...\n",
       "2   ham  Even my brother is not like to speak with me. ...\n",
       "3   ham               I HAVE A DATE ON SUNDAY WITH WILL!!!\n",
       "4   ham  As per your request 'Melle Melle (Oru Minnamin..."
      ]
     },
     "execution_count": 10,
     "metadata": {},
     "output_type": "execute_result"
    }
   ],
   "source": [
    "data =ham.append(spam, ignore_index=True)\n",
    "data.head()"
   ]
  },
  {
   "cell_type": "code",
   "execution_count": 11,
   "metadata": {},
   "outputs": [
    {
     "data": {
      "text/html": [
       "<div>\n",
       "<style scoped>\n",
       "    .dataframe tbody tr th:only-of-type {\n",
       "        vertical-align: middle;\n",
       "    }\n",
       "\n",
       "    .dataframe tbody tr th {\n",
       "        vertical-align: top;\n",
       "    }\n",
       "\n",
       "    .dataframe thead th {\n",
       "        text-align: right;\n",
       "    }\n",
       "</style>\n",
       "<table border=\"1\" class=\"dataframe\">\n",
       "  <thead>\n",
       "    <tr style=\"text-align: right;\">\n",
       "      <th></th>\n",
       "      <th>label</th>\n",
       "      <th>Message</th>\n",
       "    </tr>\n",
       "  </thead>\n",
       "  <tbody>\n",
       "    <tr>\n",
       "      <th>5562</th>\n",
       "      <td>spam</td>\n",
       "      <td>Want explicit SEX in 30 secs? Ring 02073162414...</td>\n",
       "    </tr>\n",
       "    <tr>\n",
       "      <th>5563</th>\n",
       "      <td>spam</td>\n",
       "      <td>ASKED 3MOBILE IF 0870 CHATLINES INCLU IN FREE ...</td>\n",
       "    </tr>\n",
       "    <tr>\n",
       "      <th>5564</th>\n",
       "      <td>spam</td>\n",
       "      <td>Had your contract mobile 11 Mnths? Latest Moto...</td>\n",
       "    </tr>\n",
       "    <tr>\n",
       "      <th>5565</th>\n",
       "      <td>spam</td>\n",
       "      <td>REMINDER FROM O2: To get 2.50 pounds free call...</td>\n",
       "    </tr>\n",
       "    <tr>\n",
       "      <th>5566</th>\n",
       "      <td>spam</td>\n",
       "      <td>This is the 2nd time we have tried 2 contact u...</td>\n",
       "    </tr>\n",
       "  </tbody>\n",
       "</table>\n",
       "</div>"
      ],
      "text/plain": [
       "     label                                            Message\n",
       "5562  spam  Want explicit SEX in 30 secs? Ring 02073162414...\n",
       "5563  spam  ASKED 3MOBILE IF 0870 CHATLINES INCLU IN FREE ...\n",
       "5564  spam  Had your contract mobile 11 Mnths? Latest Moto...\n",
       "5565  spam  REMINDER FROM O2: To get 2.50 pounds free call...\n",
       "5566  spam  This is the 2nd time we have tried 2 contact u..."
      ]
     },
     "execution_count": 11,
     "metadata": {},
     "output_type": "execute_result"
    }
   ],
   "source": [
    "data.tail()"
   ]
  },
  {
   "cell_type": "code",
   "execution_count": null,
   "metadata": {},
   "outputs": [],
   "source": []
  },
  {
   "cell_type": "markdown",
   "metadata": {},
   "source": [
    "### Data Preparation"
   ]
  },
  {
   "cell_type": "code",
   "execution_count": 12,
   "metadata": {},
   "outputs": [],
   "source": [
    "from sklearn.model_selection import train_test_split\n",
    "from sklearn.ensemble import RandomForestClassifier\n",
    "from sklearn.svm import SVC\n",
    "from sklearn.metrics import accuracy_score, classification_report, confusion_matrix\n",
    "from sklearn.pipeline import Pipeline\n",
    "\n",
    "from sklearn.feature_extraction.text import TfidfVectorizer"
   ]
  },
  {
   "cell_type": "code",
   "execution_count": 25,
   "metadata": {},
   "outputs": [
    {
     "name": "stdout",
     "output_type": "stream",
     "text": [
      "(3896,) (3896,)\n",
      "(1671,) (1671,)\n"
     ]
    }
   ],
   "source": [
    "X_train, X_test, y_train, y_test = train_test_split(df['Message'], df['label'], test_size=0.3, \n",
    "                                                    random_state =0, shuffle =True, stratify=df['label'])\n",
    "\n",
    "print (X_train.shape, y_train.shape)\n",
    "print (X_test.shape, y_test.shape)"
   ]
  },
  {
   "cell_type": "markdown",
   "metadata": {},
   "source": [
    "### Bag of word creation"
   ]
  },
  {
   "cell_type": "code",
   "execution_count": 26,
   "metadata": {},
   "outputs": [],
   "source": [
    "vectorizer = TfidfVectorizer()"
   ]
  },
  {
   "cell_type": "code",
   "execution_count": 27,
   "metadata": {},
   "outputs": [],
   "source": [
    "X_train_vec = vectorizer.fit_transform(X_train)"
   ]
  },
  {
   "cell_type": "code",
   "execution_count": 29,
   "metadata": {},
   "outputs": [
    {
     "data": {
      "text/plain": [
       "(3896, 7131)"
      ]
     },
     "execution_count": 29,
     "metadata": {},
     "output_type": "execute_result"
    }
   ],
   "source": [
    "X_train_vec.shape"
   ]
  },
  {
   "cell_type": "code",
   "execution_count": 30,
   "metadata": {},
   "outputs": [
    {
     "data": {
      "text/plain": [
       "<3896x7131 sparse matrix of type '<class 'numpy.float64'>'\n",
       "\twith 51587 stored elements in Compressed Sparse Row format>"
      ]
     },
     "execution_count": 30,
     "metadata": {},
     "output_type": "execute_result"
    }
   ],
   "source": [
    "X_train_vec"
   ]
  },
  {
   "cell_type": "code",
   "execution_count": 31,
   "metadata": {},
   "outputs": [
    {
     "data": {
      "text/plain": [
       "27782376"
      ]
     },
     "execution_count": 31,
     "metadata": {},
     "output_type": "execute_result"
    }
   ],
   "source": [
    "(3896*7131)"
   ]
  },
  {
   "cell_type": "markdown",
   "metadata": {},
   "source": [
    "### Pipeline and RF"
   ]
  },
  {
   "cell_type": "code",
   "execution_count": 33,
   "metadata": {},
   "outputs": [],
   "source": [
    "clf = Pipeline([('tfidf', TfidfVectorizer()), ('clf', RandomForestClassifier(n_estimators= 100, n_jobs= -1))])"
   ]
  },
  {
   "cell_type": "code",
   "execution_count": 34,
   "metadata": {},
   "outputs": [
    {
     "data": {
      "text/plain": [
       "Pipeline(memory=None,\n",
       "         steps=[('tfidf',\n",
       "                 TfidfVectorizer(analyzer='word', binary=False,\n",
       "                                 decode_error='strict',\n",
       "                                 dtype=<class 'numpy.float64'>,\n",
       "                                 encoding='utf-8', input='content',\n",
       "                                 lowercase=True, max_df=1.0, max_features=None,\n",
       "                                 min_df=1, ngram_range=(1, 1), norm='l2',\n",
       "                                 preprocessor=None, smooth_idf=True,\n",
       "                                 stop_words=None, strip_accents=None,\n",
       "                                 sublinear_tf=False,\n",
       "                                 token_pattern='...\n",
       "                 RandomForestClassifier(bootstrap=True, class_weight=None,\n",
       "                                        criterion='gini', max_depth=None,\n",
       "                                        max_features='auto',\n",
       "                                        max_leaf_nodes=None,\n",
       "                                        min_impurity_decrease=0.0,\n",
       "                                        min_impurity_split=None,\n",
       "                                        min_samples_leaf=1, min_samples_split=2,\n",
       "                                        min_weight_fraction_leaf=0.0,\n",
       "                                        n_estimators=100, n_jobs=-1,\n",
       "                                        oob_score=False, random_state=None,\n",
       "                                        verbose=0, warm_start=False))],\n",
       "         verbose=False)"
      ]
     },
     "execution_count": 34,
     "metadata": {},
     "output_type": "execute_result"
    }
   ],
   "source": [
    "clf.fit(X_train, y_train)"
   ]
  },
  {
   "cell_type": "code",
   "execution_count": 35,
   "metadata": {},
   "outputs": [],
   "source": [
    "y_pred =clf.predict(X_test)"
   ]
  },
  {
   "cell_type": "code",
   "execution_count": 47,
   "metadata": {},
   "outputs": [
    {
     "data": {
      "text/plain": [
       "array([[1447,    0],\n",
       "       [  34,  190]], dtype=int64)"
      ]
     },
     "execution_count": 47,
     "metadata": {},
     "output_type": "execute_result"
    }
   ],
   "source": [
    "confusion_matrix(y_test, y_pred)"
   ]
  },
  {
   "cell_type": "code",
   "execution_count": 48,
   "metadata": {},
   "outputs": [
    {
     "name": "stdout",
     "output_type": "stream",
     "text": [
      "              precision    recall  f1-score   support\n",
      "\n",
      "         ham       0.98      1.00      0.99      1447\n",
      "        spam       1.00      0.85      0.92       224\n",
      "\n",
      "    accuracy                           0.98      1671\n",
      "   macro avg       0.99      0.92      0.95      1671\n",
      "weighted avg       0.98      0.98      0.98      1671\n",
      "\n"
     ]
    }
   ],
   "source": [
    "print(classification_report(y_test, y_pred))"
   ]
  },
  {
   "cell_type": "code",
   "execution_count": 49,
   "metadata": {},
   "outputs": [
    {
     "data": {
      "text/plain": [
       "0.9796529024536206"
      ]
     },
     "execution_count": 49,
     "metadata": {},
     "output_type": "execute_result"
    }
   ],
   "source": [
    "accuracy_score(y_test, y_pred)"
   ]
  },
  {
   "cell_type": "code",
   "execution_count": 50,
   "metadata": {},
   "outputs": [
    {
     "data": {
      "text/plain": [
       "array(['ham'], dtype=object)"
      ]
     },
     "execution_count": 50,
     "metadata": {},
     "output_type": "execute_result"
    }
   ],
   "source": [
    "clf.predict([\"how are you\"])"
   ]
  },
  {
   "cell_type": "code",
   "execution_count": 56,
   "metadata": {},
   "outputs": [
    {
     "data": {
      "text/plain": [
       "array(['spam'], dtype=object)"
      ]
     },
     "execution_count": 56,
     "metadata": {},
     "output_type": "execute_result"
    }
   ],
   "source": [
    "clf.predict([\"Congratulations ur awarded either £500 of CD gift vouchers & Free entry 2 our £100 weekly.\"])"
   ]
  },
  {
   "cell_type": "code",
   "execution_count": null,
   "metadata": {},
   "outputs": [],
   "source": []
  },
  {
   "cell_type": "code",
   "execution_count": 63,
   "metadata": {},
   "outputs": [],
   "source": [
    "clf = Pipeline([('tfidf', TfidfVectorizer()), ('clf', SVC(C= 100, gamma='auto'))])"
   ]
  },
  {
   "cell_type": "code",
   "execution_count": 64,
   "metadata": {},
   "outputs": [
    {
     "data": {
      "text/plain": [
       "Pipeline(memory=None,\n",
       "         steps=[('tfidf',\n",
       "                 TfidfVectorizer(analyzer='word', binary=False,\n",
       "                                 decode_error='strict',\n",
       "                                 dtype=<class 'numpy.float64'>,\n",
       "                                 encoding='utf-8', input='content',\n",
       "                                 lowercase=True, max_df=1.0, max_features=None,\n",
       "                                 min_df=1, ngram_range=(1, 1), norm='l2',\n",
       "                                 preprocessor=None, smooth_idf=True,\n",
       "                                 stop_words=None, strip_accents=None,\n",
       "                                 sublinear_tf=False,\n",
       "                                 token_pattern='(?u)\\\\b\\\\w\\\\w+\\\\b',\n",
       "                                 tokenizer=None, use_idf=True,\n",
       "                                 vocabulary=None)),\n",
       "                ('clf',\n",
       "                 SVC(C=100, cache_size=200, class_weight=None, coef0=0.0,\n",
       "                     decision_function_shape='ovr', degree=3, gamma='auto',\n",
       "                     kernel='rbf', max_iter=-1, probability=False,\n",
       "                     random_state=None, shrinking=True, tol=0.001,\n",
       "                     verbose=False))],\n",
       "         verbose=False)"
      ]
     },
     "execution_count": 64,
     "metadata": {},
     "output_type": "execute_result"
    }
   ],
   "source": [
    "clf.fit(X_train, y_train)"
   ]
  },
  {
   "cell_type": "code",
   "execution_count": 65,
   "metadata": {},
   "outputs": [],
   "source": [
    "y_pred =clf.predict(X_test)"
   ]
  },
  {
   "cell_type": "code",
   "execution_count": 66,
   "metadata": {},
   "outputs": [
    {
     "data": {
      "text/plain": [
       "array([[1447,    0],\n",
       "       [ 224,    0]], dtype=int64)"
      ]
     },
     "execution_count": 66,
     "metadata": {},
     "output_type": "execute_result"
    }
   ],
   "source": [
    "confusion_matrix(y_test, y_pred)"
   ]
  },
  {
   "cell_type": "code",
   "execution_count": 67,
   "metadata": {},
   "outputs": [
    {
     "name": "stdout",
     "output_type": "stream",
     "text": [
      "              precision    recall  f1-score   support\n",
      "\n",
      "         ham       0.87      1.00      0.93      1447\n",
      "        spam       0.00      0.00      0.00       224\n",
      "\n",
      "    accuracy                           0.87      1671\n",
      "   macro avg       0.43      0.50      0.46      1671\n",
      "weighted avg       0.75      0.87      0.80      1671\n",
      "\n"
     ]
    }
   ],
   "source": [
    "print(classification_report(y_test, y_pred))"
   ]
  },
  {
   "cell_type": "code",
   "execution_count": 3,
   "metadata": {},
   "outputs": [
    {
     "name": "stdout",
     "output_type": "stream",
     "text": [
      "Collecting python-docx\n",
      "  Downloading https://files.pythonhosted.org/packages/e4/83/c66a1934ed5ed8ab1dbb9931f1779079f8bca0f6bbc5793c06c4b5e7d671/python-docx-0.8.10.tar.gz (5.5MB)\n",
      "Requirement already satisfied: lxml>=2.3.2 in c:\\users\\windows 10\\anaconda3\\lib\\site-packages (from python-docx) (4.3.4)\n",
      "Building wheels for collected packages: python-docx\n",
      "  Building wheel for python-docx (setup.py): started\n",
      "  Building wheel for python-docx (setup.py): finished with status 'done'\n",
      "  Created wheel for python-docx: filename=python_docx-0.8.10-cp37-none-any.whl size=184496 sha256=c00453636b3f775aa1f6b5d394c4aef4870afec0d099a9df43c380dea973b32e\n",
      "  Stored in directory: C:\\Users\\Windows 10\\AppData\\Local\\pip\\Cache\\wheels\\18\\0b\\a0\\1dd62ff812c857c9e487f27d80d53d2b40531bec1acecfa47b\n",
      "Successfully built python-docx\n",
      "Installing collected packages: python-docx\n",
      "Successfully installed python-docx-0.8.10\n"
     ]
    },
    {
     "name": "stderr",
     "output_type": "stream",
     "text": [
      "WARNING: You are using pip version 19.3.1; however, version 20.1 is available.\n",
      "You should consider upgrading via the 'python -m pip install --upgrade pip' command.\n"
     ]
    }
   ],
   "source": [
    "# ! pip install python-docx"
   ]
  },
  {
   "cell_type": "code",
   "execution_count": 4,
   "metadata": {},
   "outputs": [
    {
     "name": "stdout",
     "output_type": "stream",
     "text": [
      "[11, 22, 33, 87]\n",
      "value of K: 87\n"
     ]
    },
    {
     "data": {
      "text/plain": [
       "'no'"
      ]
     },
     "execution_count": 4,
     "metadata": {},
     "output_type": "execute_result"
    }
   ],
   "source": [
    "def fun(a,k):\n",
    "    print(a)\n",
    "    print('value of K:', k)\n",
    "    for x in a:\n",
    "        if x==k:\n",
    "            return \"yes\"\n",
    "        else:\n",
    "            return \"no\"\n",
    "        \n",
    "fun([11,22,33,87], 87)"
   ]
  },
  {
   "cell_type": "code",
   "execution_count": 6,
   "metadata": {},
   "outputs": [],
   "source": [
    "import os "
   ]
  },
  {
   "cell_type": "code",
   "execution_count": 9,
   "metadata": {},
   "outputs": [],
   "source": [
    "fd = \"GFG.txt\"\n",
    "  \n",
    "# popen() is similar to open() \n",
    "file = open(fd, 'w') \n",
    "file.write(\"Hello world\") \n",
    "file.close()"
   ]
  },
  {
   "cell_type": "code",
   "execution_count": 10,
   "metadata": {},
   "outputs": [
    {
     "name": "stdout",
     "output_type": "stream",
     "text": [
      "Hello world\n"
     ]
    }
   ],
   "source": [
    "file = open(fd, 'r') \n",
    "text = file.read() \n",
    "print(text) "
   ]
  },
  {
   "cell_type": "code",
   "execution_count": 5,
   "metadata": {},
   "outputs": [],
   "source": [
    "import docx"
   ]
  },
  {
   "cell_type": "code",
   "execution_count": 12,
   "metadata": {},
   "outputs": [
    {
     "data": {
      "text/plain": [
       "<docx.text.paragraph.Paragraph at 0x1cadcd6c0b8>"
      ]
     },
     "execution_count": 12,
     "metadata": {},
     "output_type": "execute_result"
    }
   ],
   "source": [
    "doc = docx.Document()\n",
    "\n",
    "doc.add_heading('Document1')\n",
    "doc.add_paragraph('p1')"
   ]
  },
  {
   "cell_type": "code",
   "execution_count": 13,
   "metadata": {},
   "outputs": [
    {
     "data": {
      "text/plain": [
       "<docx.text.paragraph.Paragraph at 0x1cadcd53860>"
      ]
     },
     "execution_count": 13,
     "metadata": {},
     "output_type": "execute_result"
    }
   ],
   "source": [
    "doc.add_paragraph('p2')"
   ]
  },
  {
   "cell_type": "code",
   "execution_count": 14,
   "metadata": {},
   "outputs": [
    {
     "data": {
      "text/plain": [
       "<docx.text.paragraph.Paragraph at 0x1cadce24e80>"
      ]
     },
     "execution_count": 14,
     "metadata": {},
     "output_type": "execute_result"
    }
   ],
   "source": [
    "doc.add_page_break()"
   ]
  },
  {
   "cell_type": "code",
   "execution_count": 15,
   "metadata": {},
   "outputs": [
    {
     "data": {
      "text/plain": [
       "<docx.text.paragraph.Paragraph at 0x1cadcd7e7b8>"
      ]
     },
     "execution_count": 15,
     "metadata": {},
     "output_type": "execute_result"
    }
   ],
   "source": [
    "doc.add_heading('Document2')"
   ]
  },
  {
   "cell_type": "code",
   "execution_count": 17,
   "metadata": {},
   "outputs": [],
   "source": [
    "doc.save('Mydoc.docx')"
   ]
  },
  {
   "cell_type": "code",
   "execution_count": 34,
   "metadata": {},
   "outputs": [],
   "source": [
    "from docx import Document"
   ]
  },
  {
   "cell_type": "code",
   "execution_count": 35,
   "metadata": {},
   "outputs": [],
   "source": [
    "d = Document(\"Mydoc.docx\") "
   ]
  },
  {
   "cell_type": "code",
   "execution_count": 37,
   "metadata": {},
   "outputs": [
    {
     "name": "stdout",
     "output_type": "stream",
     "text": [
      "Document1\n",
      "p1\n",
      "p2\n",
      "\n",
      "\n",
      "Document2\n"
     ]
    }
   ],
   "source": [
    "for para in d.paragraphs:\n",
    "    print(para.text)"
   ]
  },
  {
   "cell_type": "code",
   "execution_count": 4,
   "metadata": {},
   "outputs": [],
   "source": [
    "import nltk"
   ]
  },
  {
   "cell_type": "code",
   "execution_count": 5,
   "metadata": {},
   "outputs": [],
   "source": [
    "# nltk.download()"
   ]
  },
  {
   "cell_type": "code",
   "execution_count": 6,
   "metadata": {},
   "outputs": [],
   "source": [
    "from nltk.corpus import names"
   ]
  },
  {
   "cell_type": "code",
   "execution_count": 7,
   "metadata": {},
   "outputs": [
    {
     "data": {
      "text/plain": [
       "['Abagael',\n",
       " 'Abagail',\n",
       " 'Abbe',\n",
       " 'Abbey',\n",
       " 'Abbi',\n",
       " 'Abbie',\n",
       " 'Abby',\n",
       " 'Abigael',\n",
       " 'Abigail',\n",
       " 'Abigale',\n",
       " 'Abra',\n",
       " 'Acacia',\n",
       " 'Ada',\n",
       " 'Adah',\n",
       " 'Adaline',\n",
       " 'Adara',\n",
       " 'Addie',\n",
       " 'Addis',\n",
       " 'Adel',\n",
       " 'Adela',\n",
       " 'Adelaide',\n",
       " 'Adele',\n",
       " 'Adelice',\n",
       " 'Adelina',\n",
       " 'Adelind',\n",
       " 'Adeline',\n",
       " 'Adella',\n",
       " 'Adelle',\n",
       " 'Adena',\n",
       " 'Adey',\n",
       " 'Adi',\n",
       " 'Adiana',\n",
       " 'Adina',\n",
       " 'Adora',\n",
       " 'Adore',\n",
       " 'Adoree',\n",
       " 'Adorne',\n",
       " 'Adrea',\n",
       " 'Adria',\n",
       " 'Adriaens',\n",
       " 'Adrian',\n",
       " 'Adriana',\n",
       " 'Adriane',\n",
       " 'Adrianna',\n",
       " 'Adrianne',\n",
       " 'Adrien',\n",
       " 'Adriena',\n",
       " 'Adrienne',\n",
       " 'Aeriel',\n",
       " 'Aeriela',\n",
       " 'Aeriell',\n",
       " 'Ag',\n",
       " 'Agace',\n",
       " 'Agata',\n",
       " 'Agatha',\n",
       " 'Agathe',\n",
       " 'Aggi',\n",
       " 'Aggie',\n",
       " 'Aggy',\n",
       " 'Agna',\n",
       " 'Agnella',\n",
       " 'Agnes',\n",
       " 'Agnese',\n",
       " 'Agnesse',\n",
       " 'Agneta',\n",
       " 'Agnola',\n",
       " 'Agretha',\n",
       " 'Aida',\n",
       " 'Aidan',\n",
       " 'Aigneis',\n",
       " 'Aila',\n",
       " 'Aile',\n",
       " 'Ailee',\n",
       " 'Aileen',\n",
       " 'Ailene',\n",
       " 'Ailey',\n",
       " 'Aili',\n",
       " 'Ailina',\n",
       " 'Ailyn',\n",
       " 'Aime',\n",
       " 'Aimee',\n",
       " 'Aimil',\n",
       " 'Aina',\n",
       " 'Aindrea',\n",
       " 'Ainslee',\n",
       " 'Ainsley',\n",
       " 'Ainslie',\n",
       " 'Ajay',\n",
       " 'Alaine',\n",
       " 'Alameda',\n",
       " 'Alana',\n",
       " 'Alanah',\n",
       " 'Alane',\n",
       " 'Alanna',\n",
       " 'Alayne',\n",
       " 'Alberta',\n",
       " 'Albertina',\n",
       " 'Albertine',\n",
       " 'Albina',\n",
       " 'Alecia',\n",
       " 'Aleda',\n",
       " 'Aleece',\n",
       " 'Aleecia',\n",
       " 'Aleen',\n",
       " 'Alejandra',\n",
       " 'Alejandrina',\n",
       " 'Alena',\n",
       " 'Alene',\n",
       " 'Alessandra',\n",
       " 'Aleta',\n",
       " 'Alethea',\n",
       " 'Alex',\n",
       " 'Alexa',\n",
       " 'Alexandra',\n",
       " 'Alexandrina',\n",
       " 'Alexi',\n",
       " 'Alexia',\n",
       " 'Alexina',\n",
       " 'Alexine',\n",
       " 'Alexis',\n",
       " 'Alfie',\n",
       " 'Alfreda',\n",
       " 'Ali',\n",
       " 'Alia',\n",
       " 'Alica',\n",
       " 'Alice',\n",
       " 'Alicea',\n",
       " 'Alicia',\n",
       " 'Alida',\n",
       " 'Alidia',\n",
       " 'Alina',\n",
       " 'Aline',\n",
       " 'Alis',\n",
       " 'Alisa',\n",
       " 'Alisha',\n",
       " 'Alison',\n",
       " 'Alissa',\n",
       " 'Alisun',\n",
       " 'Alix',\n",
       " 'Aliza',\n",
       " 'Alla',\n",
       " 'Alleen',\n",
       " 'Allegra',\n",
       " 'Allene',\n",
       " 'Alli',\n",
       " 'Allianora',\n",
       " 'Allie',\n",
       " 'Allina',\n",
       " 'Allis',\n",
       " 'Allison',\n",
       " 'Allissa',\n",
       " 'Allsun',\n",
       " 'Ally',\n",
       " 'Allyce',\n",
       " 'Allyn',\n",
       " 'Allys',\n",
       " 'Allyson',\n",
       " 'Alma',\n",
       " 'Almeda',\n",
       " 'Almeria',\n",
       " 'Almeta',\n",
       " 'Almira',\n",
       " 'Almire',\n",
       " 'Aloise',\n",
       " 'Aloisia',\n",
       " 'Aloysia',\n",
       " 'Alpa',\n",
       " 'Alta',\n",
       " 'Althea',\n",
       " 'Alvera',\n",
       " 'Alvina',\n",
       " 'Alvinia',\n",
       " 'Alvira',\n",
       " 'Alyce',\n",
       " 'Alyda',\n",
       " 'Alys',\n",
       " 'Alysa',\n",
       " 'Alyse',\n",
       " 'Alysia',\n",
       " 'Alyson',\n",
       " 'Alyss',\n",
       " 'Alyssa',\n",
       " 'Amabel',\n",
       " 'Amabelle',\n",
       " 'Amalea',\n",
       " 'Amalee',\n",
       " 'Amaleta',\n",
       " 'Amalia',\n",
       " 'Amalie',\n",
       " 'Amalita',\n",
       " 'Amalle',\n",
       " 'Amanda',\n",
       " 'Amandi',\n",
       " 'Amandie',\n",
       " 'Amandy',\n",
       " 'Amara',\n",
       " 'Amargo',\n",
       " 'Amata',\n",
       " 'Amber',\n",
       " 'Amberly',\n",
       " 'Ambrosia',\n",
       " 'Ambur',\n",
       " 'Ame',\n",
       " 'Amelia',\n",
       " 'Amelie',\n",
       " 'Amelina',\n",
       " 'Ameline',\n",
       " 'Amelita',\n",
       " 'Ami',\n",
       " 'Amie',\n",
       " 'Amity',\n",
       " 'Ammamaria',\n",
       " 'Amy',\n",
       " 'Ana',\n",
       " 'Anabel',\n",
       " 'Anabella',\n",
       " 'Anabelle',\n",
       " 'Anais',\n",
       " 'Analiese',\n",
       " 'Analise',\n",
       " 'Anallese',\n",
       " 'Anallise',\n",
       " 'Anastasia',\n",
       " 'Anastasie',\n",
       " 'Anastassia',\n",
       " 'Anatola',\n",
       " 'Andee',\n",
       " 'Andi',\n",
       " 'Andie',\n",
       " 'Andra',\n",
       " 'Andrea',\n",
       " 'Andreana',\n",
       " 'Andree',\n",
       " 'Andrei',\n",
       " 'Andria',\n",
       " 'Andriana',\n",
       " 'Andriette',\n",
       " 'Andromache',\n",
       " 'Andromeda',\n",
       " 'Andy',\n",
       " 'Anestassia',\n",
       " 'Anet',\n",
       " 'Anett',\n",
       " 'Anetta',\n",
       " 'Anette',\n",
       " 'Ange',\n",
       " 'Angel',\n",
       " 'Angela',\n",
       " 'Angele',\n",
       " 'Angelia',\n",
       " 'Angelica',\n",
       " 'Angelika',\n",
       " 'Angelina',\n",
       " 'Angeline',\n",
       " 'Angelique',\n",
       " 'Angelita',\n",
       " 'Angelle',\n",
       " 'Angie',\n",
       " 'Angil',\n",
       " 'Angy',\n",
       " 'Ania',\n",
       " 'Anica',\n",
       " 'Anissa',\n",
       " 'Anita',\n",
       " 'Anitra',\n",
       " 'Anja',\n",
       " 'Anjanette',\n",
       " 'Anjela',\n",
       " 'Ann',\n",
       " 'Ann-Mari',\n",
       " 'Ann-Marie',\n",
       " 'Anna',\n",
       " 'Anna-Diana',\n",
       " 'Anna-Diane',\n",
       " 'Anna-Maria',\n",
       " 'Annabal',\n",
       " 'Annabel',\n",
       " 'Annabela',\n",
       " 'Annabell',\n",
       " 'Annabella',\n",
       " 'Annabelle',\n",
       " 'Annadiana',\n",
       " 'Annadiane',\n",
       " 'Annalee',\n",
       " 'Annalena',\n",
       " 'Annaliese',\n",
       " 'Annalisa',\n",
       " 'Annalise',\n",
       " 'Annalyse',\n",
       " 'Annamari',\n",
       " 'Annamaria',\n",
       " 'Annamarie',\n",
       " 'Anne',\n",
       " 'Anne-Corinne',\n",
       " 'Anne-Mar',\n",
       " 'Anne-Marie',\n",
       " 'Annecorinne',\n",
       " 'Anneliese',\n",
       " 'Annelise',\n",
       " 'Annemarie',\n",
       " 'Annetta',\n",
       " 'Annette',\n",
       " 'Anni',\n",
       " 'Annice',\n",
       " 'Annie',\n",
       " 'Annissa',\n",
       " 'Annmaria',\n",
       " 'Annmarie',\n",
       " 'Annnora',\n",
       " 'Annora',\n",
       " 'Anny',\n",
       " 'Anselma',\n",
       " 'Ansley',\n",
       " 'Anstice',\n",
       " 'Anthe',\n",
       " 'Anthea',\n",
       " 'Anthia',\n",
       " 'Antoinette',\n",
       " 'Antonella',\n",
       " 'Antonetta',\n",
       " 'Antonia',\n",
       " 'Antonie',\n",
       " 'Antonietta',\n",
       " 'Antonina',\n",
       " 'Anya',\n",
       " 'Aphrodite',\n",
       " 'Appolonia',\n",
       " 'April',\n",
       " 'Aprilette',\n",
       " 'Ara',\n",
       " 'Arabel',\n",
       " 'Arabela',\n",
       " 'Arabele',\n",
       " 'Arabella',\n",
       " 'Arabelle',\n",
       " 'Arda',\n",
       " 'Ardath',\n",
       " 'Ardeen',\n",
       " 'Ardelia',\n",
       " 'Ardelis',\n",
       " 'Ardella',\n",
       " 'Ardelle',\n",
       " 'Arden',\n",
       " 'Ardene',\n",
       " 'Ardenia',\n",
       " 'Ardine',\n",
       " 'Ardis',\n",
       " 'Ardith',\n",
       " 'Ardra',\n",
       " 'Ardyce',\n",
       " 'Ardys',\n",
       " 'Ardyth',\n",
       " 'Aretha',\n",
       " 'Ariadne',\n",
       " 'Ariana',\n",
       " 'Arianne',\n",
       " 'Aridatha',\n",
       " 'Ariel',\n",
       " 'Ariela',\n",
       " 'Ariella',\n",
       " 'Arielle',\n",
       " 'Arlana',\n",
       " 'Arlee',\n",
       " 'Arleen',\n",
       " 'Arlen',\n",
       " 'Arlena',\n",
       " 'Arlene',\n",
       " 'Arleta',\n",
       " 'Arlette',\n",
       " 'Arleyne',\n",
       " 'Arlie',\n",
       " 'Arliene',\n",
       " 'Arlina',\n",
       " 'Arlinda',\n",
       " 'Arline',\n",
       " 'Arly',\n",
       " 'Arlyn',\n",
       " 'Arlyne',\n",
       " 'Aryn',\n",
       " 'Ashely',\n",
       " 'Ashlee',\n",
       " 'Ashleigh',\n",
       " 'Ashlen',\n",
       " 'Ashley',\n",
       " 'Ashli',\n",
       " 'Ashlie',\n",
       " 'Ashly',\n",
       " 'Asia',\n",
       " 'Astra',\n",
       " 'Astrid',\n",
       " 'Astrix',\n",
       " 'Atalanta',\n",
       " 'Athena',\n",
       " 'Athene',\n",
       " 'Atlanta',\n",
       " 'Atlante',\n",
       " 'Auberta',\n",
       " 'Aubine',\n",
       " 'Aubree',\n",
       " 'Aubrette',\n",
       " 'Aubrey',\n",
       " 'Aubrie',\n",
       " 'Aubry',\n",
       " 'Audi',\n",
       " 'Audie',\n",
       " 'Audra',\n",
       " 'Audre',\n",
       " 'Audrey',\n",
       " 'Audrie',\n",
       " 'Audry',\n",
       " 'Audrye',\n",
       " 'Audy',\n",
       " 'Augusta',\n",
       " 'Auguste',\n",
       " 'Augustina',\n",
       " 'Augustine',\n",
       " 'Aura',\n",
       " 'Aurea',\n",
       " 'Aurel',\n",
       " 'Aurelea',\n",
       " 'Aurelia',\n",
       " 'Aurelie',\n",
       " 'Auria',\n",
       " 'Aurie',\n",
       " 'Aurilia',\n",
       " 'Aurlie',\n",
       " 'Auroora',\n",
       " 'Aurora',\n",
       " 'Aurore',\n",
       " 'Austin',\n",
       " 'Austina',\n",
       " 'Austine',\n",
       " 'Ava',\n",
       " 'Aveline',\n",
       " 'Averil',\n",
       " 'Averyl',\n",
       " 'Avie',\n",
       " 'Avis',\n",
       " 'Aviva',\n",
       " 'Avivah',\n",
       " 'Avril',\n",
       " 'Avrit',\n",
       " 'Ayn',\n",
       " 'Bab',\n",
       " 'Babara',\n",
       " 'Babette',\n",
       " 'Babita',\n",
       " 'Babs',\n",
       " 'Bambi',\n",
       " 'Bambie',\n",
       " 'Bamby',\n",
       " 'Barb',\n",
       " 'Barbabra',\n",
       " 'Barbara',\n",
       " 'Barbara-Anne',\n",
       " 'Barbaraanne',\n",
       " 'Barbe',\n",
       " 'Barbee',\n",
       " 'Barbette',\n",
       " 'Barbey',\n",
       " 'Barbi',\n",
       " 'Barbie',\n",
       " 'Barbra',\n",
       " 'Barby',\n",
       " 'Bari',\n",
       " 'Barrie',\n",
       " 'Barry',\n",
       " 'Basia',\n",
       " 'Bathsheba',\n",
       " 'Batsheva',\n",
       " 'Bea',\n",
       " 'Beatrice',\n",
       " 'Beatrisa',\n",
       " 'Beatrix',\n",
       " 'Beatriz',\n",
       " 'Beau',\n",
       " 'Bebe',\n",
       " 'Becca',\n",
       " 'Becka',\n",
       " 'Becki',\n",
       " 'Beckie',\n",
       " 'Becky',\n",
       " 'Bee',\n",
       " 'Beilul',\n",
       " 'Beitris',\n",
       " 'Bekki',\n",
       " 'Bel',\n",
       " 'Belia',\n",
       " 'Belicia',\n",
       " 'Belinda',\n",
       " 'Belita',\n",
       " 'Bell',\n",
       " 'Bella',\n",
       " 'Bellamy',\n",
       " 'Bellanca',\n",
       " 'Belle',\n",
       " 'Bellina',\n",
       " 'Belva',\n",
       " 'Belvia',\n",
       " 'Bendite',\n",
       " 'Benedetta',\n",
       " 'Benedicta',\n",
       " 'Benedikta',\n",
       " 'Benetta',\n",
       " 'Benita',\n",
       " 'Benni',\n",
       " 'Bennie',\n",
       " 'Benny',\n",
       " 'Benoite',\n",
       " 'Berenice',\n",
       " 'Beret',\n",
       " 'Berget',\n",
       " 'Berna',\n",
       " 'Bernadene',\n",
       " 'Bernadette',\n",
       " 'Bernadina',\n",
       " 'Bernadine',\n",
       " 'Bernardina',\n",
       " 'Bernardine',\n",
       " 'Bernelle',\n",
       " 'Bernete',\n",
       " 'Bernetta',\n",
       " 'Bernette',\n",
       " 'Berni',\n",
       " 'Bernice',\n",
       " 'Bernie',\n",
       " 'Bernita',\n",
       " 'Berny',\n",
       " 'Berri',\n",
       " 'Berrie',\n",
       " 'Berry',\n",
       " 'Bert',\n",
       " 'Berta',\n",
       " 'Berte',\n",
       " 'Bertha',\n",
       " 'Berthe',\n",
       " 'Berti',\n",
       " 'Bertie',\n",
       " 'Bertina',\n",
       " 'Bertine',\n",
       " 'Berty',\n",
       " 'Beryl',\n",
       " 'Beryle',\n",
       " 'Bess',\n",
       " 'Bessie',\n",
       " 'Bessy',\n",
       " 'Beth',\n",
       " 'Bethanne',\n",
       " 'Bethany',\n",
       " 'Bethena',\n",
       " 'Bethina',\n",
       " 'Betsey',\n",
       " 'Betsy',\n",
       " 'Betta',\n",
       " 'Bette',\n",
       " 'Bette-Ann',\n",
       " 'Betteann',\n",
       " 'Betteanne',\n",
       " 'Betti',\n",
       " 'Bettie',\n",
       " 'Bettina',\n",
       " 'Bettine',\n",
       " 'Betty',\n",
       " 'Bettye',\n",
       " 'Beulah',\n",
       " 'Bev',\n",
       " 'Beverie',\n",
       " 'Beverlee',\n",
       " 'Beverlie',\n",
       " 'Beverly',\n",
       " 'Bevvy',\n",
       " 'Bianca',\n",
       " 'Bianka',\n",
       " 'Biddy',\n",
       " 'Bidget',\n",
       " 'Bill',\n",
       " 'Billi',\n",
       " 'Billie',\n",
       " 'Billy',\n",
       " 'Binni',\n",
       " 'Binnie',\n",
       " 'Binny',\n",
       " 'Bird',\n",
       " 'Birdie',\n",
       " 'Birgit',\n",
       " 'Birgitta',\n",
       " 'Blair',\n",
       " 'Blaire',\n",
       " 'Blake',\n",
       " 'Blakelee',\n",
       " 'Blakeley',\n",
       " 'Blanca',\n",
       " 'Blanch',\n",
       " 'Blancha',\n",
       " 'Blanche',\n",
       " 'Blinni',\n",
       " 'Blinnie',\n",
       " 'Blinny',\n",
       " 'Bliss',\n",
       " 'Blisse',\n",
       " 'Blithe',\n",
       " 'Blondell',\n",
       " 'Blondelle',\n",
       " 'Blondie',\n",
       " 'Blondy',\n",
       " 'Blythe',\n",
       " 'Bo',\n",
       " 'Bobbette',\n",
       " 'Bobbi',\n",
       " 'Bobbie',\n",
       " 'Bobby',\n",
       " 'Bobette',\n",
       " 'Bobina',\n",
       " 'Bobine',\n",
       " 'Bobinette',\n",
       " 'Bonita',\n",
       " 'Bonnee',\n",
       " 'Bonni',\n",
       " 'Bonnie',\n",
       " 'Bonny',\n",
       " 'Brana',\n",
       " 'Brandais',\n",
       " 'Brande',\n",
       " 'Brandea',\n",
       " 'Brandi',\n",
       " 'Brandice',\n",
       " 'Brandie',\n",
       " 'Brandise',\n",
       " 'Brandy',\n",
       " 'Brea',\n",
       " 'Breanne',\n",
       " 'Brear',\n",
       " 'Bree',\n",
       " 'Breena',\n",
       " 'Bren',\n",
       " 'Brena',\n",
       " 'Brenda',\n",
       " 'Brenn',\n",
       " 'Brenna',\n",
       " 'Brett',\n",
       " 'Bria',\n",
       " 'Briana',\n",
       " 'Brianna',\n",
       " 'Brianne',\n",
       " 'Bride',\n",
       " 'Bridget',\n",
       " 'Bridgett',\n",
       " 'Bridgette',\n",
       " 'Bridie',\n",
       " 'Brier',\n",
       " 'Brietta',\n",
       " 'Brigid',\n",
       " 'Brigida',\n",
       " 'Brigit',\n",
       " 'Brigitta',\n",
       " 'Brigitte',\n",
       " 'Brina',\n",
       " 'Briney',\n",
       " 'Briny',\n",
       " 'Brit',\n",
       " 'Brita',\n",
       " 'Britaney',\n",
       " 'Britani',\n",
       " 'Briteny',\n",
       " 'Britney',\n",
       " 'Britni',\n",
       " 'Britt',\n",
       " 'Britta',\n",
       " 'Brittan',\n",
       " 'Brittany',\n",
       " 'Britte',\n",
       " 'Brittney',\n",
       " 'Brook',\n",
       " 'Brooke',\n",
       " 'Brooks',\n",
       " 'Brunella',\n",
       " 'Brunhilda',\n",
       " 'Brunhilde',\n",
       " 'Bryana',\n",
       " 'Bryn',\n",
       " 'Bryna',\n",
       " 'Brynn',\n",
       " 'Brynna',\n",
       " 'Brynne',\n",
       " 'Buffy',\n",
       " 'Bunni',\n",
       " 'Bunnie',\n",
       " 'Bunny',\n",
       " 'Burta',\n",
       " 'Cabrina',\n",
       " 'Cacilia',\n",
       " 'Cacilie',\n",
       " 'Caitlin',\n",
       " 'Caitrin',\n",
       " 'Cal',\n",
       " 'Calida',\n",
       " 'Calla',\n",
       " 'Calley',\n",
       " 'Calli',\n",
       " 'Callida',\n",
       " 'Callie',\n",
       " 'Cally',\n",
       " 'Calypso',\n",
       " 'Cam',\n",
       " 'Camala',\n",
       " 'Camel',\n",
       " 'Camella',\n",
       " 'Camellia',\n",
       " 'Cameo',\n",
       " 'Cami',\n",
       " 'Camila',\n",
       " 'Camile',\n",
       " 'Camilla',\n",
       " 'Camille',\n",
       " 'Cammi',\n",
       " 'Cammie',\n",
       " 'Cammy',\n",
       " 'Canada',\n",
       " 'Candace',\n",
       " 'Candi',\n",
       " 'Candice',\n",
       " 'Candida',\n",
       " 'Candide',\n",
       " 'Candie',\n",
       " 'Candis',\n",
       " 'Candra',\n",
       " 'Candy',\n",
       " 'Cappella',\n",
       " 'Caprice',\n",
       " 'Cara',\n",
       " 'Caralie',\n",
       " 'Caren',\n",
       " 'Carena',\n",
       " 'Caresa',\n",
       " 'Caressa',\n",
       " 'Caresse',\n",
       " 'Carey',\n",
       " 'Cari',\n",
       " 'Caria',\n",
       " 'Carie',\n",
       " 'Caril',\n",
       " 'Carilyn',\n",
       " 'Carin',\n",
       " 'Carina',\n",
       " 'Carine',\n",
       " 'Cariotta',\n",
       " 'Carissa',\n",
       " 'Carita',\n",
       " 'Caritta',\n",
       " 'Carla',\n",
       " 'Carlee',\n",
       " 'Carleen',\n",
       " 'Carlen',\n",
       " 'Carlena',\n",
       " 'Carlene',\n",
       " 'Carley',\n",
       " 'Carli',\n",
       " 'Carlie',\n",
       " 'Carlin',\n",
       " 'Carlina',\n",
       " 'Carline',\n",
       " 'Carlisle',\n",
       " 'Carlita',\n",
       " 'Carlota',\n",
       " 'Carlotta',\n",
       " 'Carly',\n",
       " 'Carlye',\n",
       " 'Carlyn',\n",
       " 'Carlynn',\n",
       " 'Carlynne',\n",
       " 'Carma',\n",
       " 'Carmel',\n",
       " 'Carmela',\n",
       " 'Carmelia',\n",
       " 'Carmelina',\n",
       " 'Carmelita',\n",
       " 'Carmella',\n",
       " 'Carmelle',\n",
       " 'Carmen',\n",
       " 'Carmina',\n",
       " 'Carmine',\n",
       " 'Carmita',\n",
       " 'Carmon',\n",
       " 'Caro',\n",
       " 'Carol',\n",
       " 'Carol-Jean',\n",
       " 'Carola',\n",
       " 'Carolan',\n",
       " 'Carolann',\n",
       " 'Carole',\n",
       " 'Carolee',\n",
       " 'Caroleen',\n",
       " 'Carolie',\n",
       " 'Carolin',\n",
       " 'Carolina',\n",
       " 'Caroline',\n",
       " 'Caroljean',\n",
       " 'Carolyn',\n",
       " 'Carolyne',\n",
       " 'Carolynn',\n",
       " 'Caron',\n",
       " 'Carree',\n",
       " 'Carri',\n",
       " 'Carrie',\n",
       " 'Carrissa',\n",
       " 'Carrol',\n",
       " 'Carroll',\n",
       " 'Carry',\n",
       " 'Cary',\n",
       " 'Caryl',\n",
       " 'Caryn',\n",
       " 'Casandra',\n",
       " 'Casey',\n",
       " 'Casi',\n",
       " 'Casia',\n",
       " 'Casie',\n",
       " 'Cass',\n",
       " 'Cassandra',\n",
       " 'Cassandre',\n",
       " 'Cassandry',\n",
       " 'Cassaundra',\n",
       " 'Cassey',\n",
       " 'Cassi',\n",
       " 'Cassie',\n",
       " 'Cassondra',\n",
       " 'Cassy',\n",
       " 'Cat',\n",
       " 'Catarina',\n",
       " 'Cate',\n",
       " 'Caterina',\n",
       " 'Catha',\n",
       " 'Catharina',\n",
       " 'Catharine',\n",
       " 'Cathe',\n",
       " 'Cathee',\n",
       " 'Catherin',\n",
       " 'Catherina',\n",
       " 'Catherine',\n",
       " 'Cathi',\n",
       " 'Cathie',\n",
       " 'Cathleen',\n",
       " 'Cathlene',\n",
       " 'Cathrin',\n",
       " 'Cathrine',\n",
       " 'Cathryn',\n",
       " 'Cathy',\n",
       " 'Cathyleen',\n",
       " 'Cati',\n",
       " 'Catie',\n",
       " 'Catina',\n",
       " 'Catlaina',\n",
       " 'Catlee',\n",
       " 'Catlin',\n",
       " 'Catrina',\n",
       " 'Catriona',\n",
       " 'Caty',\n",
       " 'Cayla',\n",
       " 'Cecelia',\n",
       " 'Cecil',\n",
       " 'Cecile',\n",
       " 'Ceciley',\n",
       " 'Cecilia',\n",
       " 'Cecilla',\n",
       " 'Cecily',\n",
       " 'Ceil',\n",
       " 'Cele',\n",
       " 'Celene',\n",
       " 'Celesta',\n",
       " 'Celeste',\n",
       " 'Celestia',\n",
       " 'Celestina',\n",
       " 'Celestine',\n",
       " 'Celestyn',\n",
       " 'Celestyna',\n",
       " 'Celia',\n",
       " 'Celie',\n",
       " 'Celina',\n",
       " 'Celinda',\n",
       " 'Celine',\n",
       " 'Celinka',\n",
       " 'Celisse',\n",
       " 'Celle',\n",
       " 'Cesya',\n",
       " 'Chad',\n",
       " 'Chanda',\n",
       " 'Chandal',\n",
       " 'Chandra',\n",
       " 'Channa',\n",
       " 'Chantal',\n",
       " 'Chantalle',\n",
       " 'Charil',\n",
       " 'Charin',\n",
       " 'Charis',\n",
       " 'Charissa',\n",
       " 'Charisse',\n",
       " 'Charita',\n",
       " 'Charity',\n",
       " 'Charla',\n",
       " 'Charlean',\n",
       " 'Charleen',\n",
       " 'Charlena',\n",
       " 'Charlene',\n",
       " 'Charline',\n",
       " 'Charlot',\n",
       " 'Charlott',\n",
       " 'Charlotta',\n",
       " 'Charlotte',\n",
       " 'Charmain',\n",
       " 'Charmaine',\n",
       " 'Charmane',\n",
       " 'Charmian',\n",
       " 'Charmine',\n",
       " 'Charmion',\n",
       " 'Charo',\n",
       " 'Charyl',\n",
       " 'Chastity',\n",
       " 'Chelsae',\n",
       " 'Chelsea',\n",
       " 'Chelsey',\n",
       " 'Chelsie',\n",
       " 'Chelsy',\n",
       " 'Cher',\n",
       " 'Chere',\n",
       " 'Cherey',\n",
       " 'Cheri',\n",
       " 'Cherianne',\n",
       " 'Cherice',\n",
       " 'Cherida',\n",
       " 'Cherie',\n",
       " 'Cherilyn',\n",
       " 'Cherilynn',\n",
       " 'Cherin',\n",
       " 'Cherise',\n",
       " 'Cherish',\n",
       " 'Cherlyn',\n",
       " 'Cherri',\n",
       " 'Cherrita',\n",
       " 'Cherry',\n",
       " 'Chery',\n",
       " 'Cherye',\n",
       " 'Cheryl',\n",
       " 'Cheslie',\n",
       " 'Chiarra',\n",
       " 'Chickie',\n",
       " 'Chicky',\n",
       " 'Chiquita',\n",
       " 'Chloe',\n",
       " 'Chloette',\n",
       " 'Chloris',\n",
       " 'Chris',\n",
       " 'Chriss',\n",
       " 'Chrissa',\n",
       " 'Chrissie',\n",
       " 'Chrissy',\n",
       " 'Christa',\n",
       " 'Christabel',\n",
       " 'Christabella',\n",
       " 'Christabelle',\n",
       " 'Christal',\n",
       " 'Christalle',\n",
       " 'Christan',\n",
       " 'Christean',\n",
       " 'Christel',\n",
       " 'Christen',\n",
       " 'Christi',\n",
       " 'Christian',\n",
       " 'Christiana',\n",
       " 'Christiane',\n",
       " 'Christie',\n",
       " 'Christin',\n",
       " 'Christina',\n",
       " 'Christine',\n",
       " 'Christy',\n",
       " 'Christyna',\n",
       " 'Chrysa',\n",
       " 'Chrysler',\n",
       " 'Chrystal',\n",
       " 'Chryste',\n",
       " 'Chrystel',\n",
       " 'Ciara',\n",
       " 'Cicely',\n",
       " 'Cicily',\n",
       " 'Ciel',\n",
       " 'Cilka',\n",
       " 'Cinda',\n",
       " 'Cindee',\n",
       " 'Cindelyn',\n",
       " 'Cinderella',\n",
       " 'Cindi',\n",
       " 'Cindie',\n",
       " 'Cindra',\n",
       " 'Cindy',\n",
       " 'Cinnamon',\n",
       " 'Cissie',\n",
       " 'Cissy',\n",
       " 'Clair',\n",
       " 'Claire',\n",
       " 'Clara',\n",
       " 'Clarabelle',\n",
       " 'Clare',\n",
       " ...]"
      ]
     },
     "execution_count": 7,
     "metadata": {},
     "output_type": "execute_result"
    }
   ],
   "source": [
    "names.words()"
   ]
  },
  {
   "cell_type": "code",
   "execution_count": 8,
   "metadata": {},
   "outputs": [],
   "source": [
    "from nltk.tokenize import sent_tokenize"
   ]
  },
  {
   "cell_type": "code",
   "execution_count": 9,
   "metadata": {},
   "outputs": [],
   "source": [
    "sample = \"We present a model that generates natural language descriptions of images and their regions. Our approach leverages datasets of images and their sentence descriptions to learn about the inter-modal correspondences between language and visual data. Our alignment model is based on a novel combination of Convolutional Neural Networks over image regions, bidirectional Recurrent Neural Networks over sentences, and a structured objective that aligns the two modalities through a multimodal embedding. We then describe a Multimodal Recurrent Neural Network architecture that uses the inferred alignments to learn to generate novel descriptions of image regions. We demonstrate that our alignment model produces state of the art results in retrieval experiments on Flickr8K, Flickr30K and MSCOCO datasets. We then show that the generated descriptions significantly outperform retrieval baselines on both full images and on a new dataset of region-level annotations.\""
   ]
  },
  {
   "cell_type": "code",
   "execution_count": 10,
   "metadata": {},
   "outputs": [],
   "source": [
    "tokenized_text = sent_tokenize(sample)"
   ]
  },
  {
   "cell_type": "code",
   "execution_count": 11,
   "metadata": {},
   "outputs": [
    {
     "name": "stdout",
     "output_type": "stream",
     "text": [
      "['We present a model that generates natural language descriptions of images and their regions.', 'Our approach leverages datasets of images and their sentence descriptions to learn about the inter-modal correspondences between language and visual data.', 'Our alignment model is based on a novel combination of Convolutional Neural Networks over image regions, bidirectional Recurrent Neural Networks over sentences, and a structured objective that aligns the two modalities through a multimodal embedding.', 'We then describe a Multimodal Recurrent Neural Network architecture that uses the inferred alignments to learn to generate novel descriptions of image regions.', 'We demonstrate that our alignment model produces state of the art results in retrieval experiments on Flickr8K, Flickr30K and MSCOCO datasets.', 'We then show that the generated descriptions significantly outperform retrieval baselines on both full images and on a new dataset of region-level annotations.']\n"
     ]
    }
   ],
   "source": [
    "print(tokenized_text)"
   ]
  },
  {
   "cell_type": "code",
   "execution_count": 12,
   "metadata": {},
   "outputs": [
    {
     "data": {
      "text/plain": [
       "['We present a model that generates natural language descriptions of images and their regions.',\n",
       " 'Our approach leverages datasets of images and their sentence descriptions to learn about the inter-modal correspondences between language and visual data.',\n",
       " 'Our alignment model is based on a novel combination of Convolutional Neural Networks over image regions, bidirectional Recurrent Neural Networks over sentences, and a structured objective that aligns the two modalities through a multimodal embedding.']"
      ]
     },
     "execution_count": 12,
     "metadata": {},
     "output_type": "execute_result"
    }
   ],
   "source": [
    "tokenized_text[:3]"
   ]
  },
  {
   "cell_type": "code",
   "execution_count": 13,
   "metadata": {},
   "outputs": [],
   "source": [
    "from nltk.corpus import gutenberg"
   ]
  },
  {
   "cell_type": "code",
   "execution_count": 14,
   "metadata": {},
   "outputs": [],
   "source": [
    "sample =gutenberg.raw(\"bible-kjv.txt\")  #bryant-stories"
   ]
  },
  {
   "cell_type": "code",
   "execution_count": 15,
   "metadata": {},
   "outputs": [],
   "source": [
    "tokenized_text = sent_tokenize(sample)"
   ]
  },
  {
   "cell_type": "code",
   "execution_count": 16,
   "metadata": {},
   "outputs": [
    {
     "data": {
      "text/plain": [
       "['[The King James Bible]\\n\\nThe Old Testament of the King James Bible\\n\\nThe First Book of Moses:  Called Genesis\\n\\n\\n1:1 In the beginning God created the heaven and the earth.',\n",
       " '1:2 And the earth was without form, and void; and darkness was upon\\nthe face of the deep.',\n",
       " 'And the Spirit of God moved upon the face of the\\nwaters.',\n",
       " '1:3 And God said, Let there be light: and there was light.',\n",
       " '1:4 And God saw the light, that it was good: and God divided the light\\nfrom the darkness.',\n",
       " '1:5 And God called the light Day, and the darkness he called Night.',\n",
       " 'And the evening and the morning were the first day.',\n",
       " '1:6 And God said, Let there be a firmament in the midst of the waters,\\nand let it divide the waters from the waters.',\n",
       " '1:7 And God made the firmament, and divided the waters which were\\nunder the firmament from the waters which were above the firmament:\\nand it was so.',\n",
       " '1:8 And God called the firmament Heaven.',\n",
       " 'And the evening and the\\nmorning were the second day.',\n",
       " '1:9 And God said, Let the waters under the heaven be gathered together\\nunto one place, and let the dry land appear: and it was so.',\n",
       " '1:10 And God called the dry land Earth; and the gathering together of\\nthe waters called he Seas: and God saw that it was good.',\n",
       " '1:11 And God said, Let the earth bring forth grass, the herb yielding\\nseed, and the fruit tree yielding fruit after his kind, whose seed is\\nin itself, upon the earth: and it was so.',\n",
       " '1:12 And the earth brought forth grass, and herb yielding seed after\\nhis kind, and the tree yielding fruit, whose seed was in itself, after\\nhis kind: and God saw that it was good.',\n",
       " '1:13 And the evening and the morning were the third day.',\n",
       " '1:14 And God said, Let there be lights in the firmament of the heaven\\nto divide the day from the night; and let them be for signs, and for\\nseasons, and for days, and years: 1:15 And let them be for lights in\\nthe firmament of the heaven to give light upon the earth: and it was\\nso.',\n",
       " '1:16 And God made two great lights; the greater light to rule the day,\\nand the lesser light to rule the night: he made the stars also.',\n",
       " '1:17 And God set them in the firmament of the heaven to give light\\nupon the earth, 1:18 And to rule over the day and over the night, and\\nto divide the light from the darkness: and God saw that it was good.',\n",
       " '1:19 And the evening and the morning were the fourth day.',\n",
       " '1:20 And God said, Let the waters bring forth abundantly the moving\\ncreature that hath life, and fowl that may fly above the earth in the\\nopen firmament of heaven.',\n",
       " '1:21 And God created great whales, and every living creature that\\nmoveth, which the waters brought forth abundantly, after their kind,\\nand every winged fowl after his kind: and God saw that it was good.',\n",
       " '1:22 And God blessed them, saying, Be fruitful, and multiply, and fill\\nthe waters in the seas, and let fowl multiply in the earth.',\n",
       " '1:23 And the evening and the morning were the fifth day.',\n",
       " '1:24 And God said, Let the earth bring forth the living creature after\\nhis kind, cattle, and creeping thing, and beast of the earth after his\\nkind: and it was so.',\n",
       " '1:25 And God made the beast of the earth after his kind, and cattle\\nafter their kind, and every thing that creepeth upon the earth after\\nhis kind: and God saw that it was good.',\n",
       " '1:26 And God said, Let us make man in our image, after our likeness:\\nand let them have dominion over the fish of the sea, and over the fowl\\nof the air, and over the cattle, and over all the earth, and over\\nevery creeping thing that creepeth upon the earth.',\n",
       " '1:27 So God created man in his own image, in the image of God created\\nhe him; male and female created he them.',\n",
       " '1:28 And God blessed them, and God said unto them, Be fruitful, and\\nmultiply, and replenish the earth, and subdue it: and have dominion\\nover the fish of the sea, and over the fowl of the air, and over every\\nliving thing that moveth upon the earth.',\n",
       " '1:29 And God said, Behold, I have given you every herb bearing seed,\\nwhich is upon the face of all the earth, and every tree, in the which\\nis the fruit of a tree yielding seed; to you it shall be for meat.',\n",
       " '1:30 And to every beast of the earth, and to every fowl of the air,\\nand to every thing that creepeth upon the earth, wherein there is\\nlife, I have given every green herb for meat: and it was so.',\n",
       " '1:31 And God saw every thing that he had made, and, behold, it was\\nvery good.',\n",
       " 'And the evening and the morning were the sixth day.',\n",
       " '2:1 Thus the heavens and the earth were finished, and all the host of\\nthem.',\n",
       " '2:2 And on the seventh day God ended his work which he had made; and\\nhe rested on the seventh day from all his work which he had made.',\n",
       " '2:3 And God blessed the seventh day, and sanctified it: because that\\nin it he had rested from all his work which God created and made.',\n",
       " '2:4 These are the generations of the heavens and of the earth when\\nthey were created, in the day that the LORD God made the earth and the\\nheavens, 2:5 And every plant of the field before it was in the earth,\\nand every herb of the field before it grew: for the LORD God had not\\ncaused it to rain upon the earth, and there was not a man to till the\\nground.',\n",
       " '2:6 But there went up a mist from the earth, and watered the whole\\nface of the ground.',\n",
       " '2:7 And the LORD God formed man of the dust of the ground, and\\nbreathed into his nostrils the breath of life; and man became a living\\nsoul.',\n",
       " '2:8 And the LORD God planted a garden eastward in Eden; and there he\\nput the man whom he had formed.',\n",
       " '2:9 And out of the ground made the LORD God to grow every tree that is\\npleasant to the sight, and good for food; the tree of life also in the\\nmidst of the garden, and the tree of knowledge of good and evil.',\n",
       " '2:10 And a river went out of Eden to water the garden; and from thence\\nit was parted, and became into four heads.',\n",
       " '2:11 The name of the first is Pison: that is it which compasseth the\\nwhole land of Havilah, where there is gold; 2:12 And the gold of that\\nland is good: there is bdellium and the onyx stone.',\n",
       " '2:13 And the name of the second river is Gihon: the same is it that\\ncompasseth the whole land of Ethiopia.',\n",
       " '2:14 And the name of the third river is Hiddekel: that is it which\\ngoeth toward the east of Assyria.',\n",
       " 'And the fourth river is Euphrates.',\n",
       " '2:15 And the LORD God took the man, and put him into the garden of\\nEden to dress it and to keep it.',\n",
       " '2:16 And the LORD God commanded the man, saying, Of every tree of the\\ngarden thou mayest freely eat: 2:17 But of the tree of the knowledge\\nof good and evil, thou shalt not eat of it: for in the day that thou\\neatest thereof thou shalt surely die.',\n",
       " '2:18 And the LORD God said, It is not good that the man should be\\nalone; I will make him an help meet for him.',\n",
       " '2:19 And out of the ground the LORD God formed every beast of the\\nfield, and every fowl of the air; and brought them unto Adam to see\\nwhat he would call them: and whatsoever Adam called every living\\ncreature, that was the name thereof.',\n",
       " '2:20 And Adam gave names to all cattle, and to the fowl of the air,\\nand to every beast of the field; but for Adam there was not found an\\nhelp meet for him.',\n",
       " '2:21 And the LORD God caused a deep sleep to fall upon Adam, and he\\nslept: and he took one of his ribs, and closed up the flesh instead\\nthereof; 2:22 And the rib, which the LORD God had taken from man, made\\nhe a woman, and brought her unto the man.',\n",
       " '2:23 And Adam said, This is now bone of my bones, and flesh of my\\nflesh: she shall be called Woman, because she was taken out of Man.',\n",
       " '2:24 Therefore shall a man leave his father and his mother, and shall\\ncleave unto his wife: and they shall be one flesh.',\n",
       " '2:25 And they were both naked, the man and his wife, and were not\\nashamed.',\n",
       " '3:1 Now the serpent was more subtil than any beast of the field which\\nthe LORD God had made.',\n",
       " 'And he said unto the woman, Yea, hath God said,\\nYe shall not eat of every tree of the garden?',\n",
       " '3:2 And the woman said\\nunto the serpent, We may eat of the fruit of the trees of the garden:\\n3:3 But of the fruit of the tree which is in the midst of the garden,\\nGod hath said, Ye shall not eat of it, neither shall ye touch it, lest\\nye die.',\n",
       " '3:4 And the serpent said unto the woman, Ye shall not surely die: 3:5\\nFor God doth know that in the day ye eat thereof, then your eyes shall\\nbe opened, and ye shall be as gods, knowing good and evil.',\n",
       " '3:6 And when the woman saw that the tree was good for food, and that\\nit was pleasant to the eyes, and a tree to be desired to make one\\nwise, she took of the fruit thereof, and did eat, and gave also unto\\nher husband with her; and he did eat.',\n",
       " '3:7 And the eyes of them both were opened, and they knew that they\\nwere naked; and they sewed fig leaves together, and made themselves\\naprons.',\n",
       " '3:8 And they heard the voice of the LORD God walking in the garden in\\nthe cool of the day: and Adam and his wife hid themselves from the\\npresence of the LORD God amongst the trees of the garden.',\n",
       " '3:9 And the LORD God called unto Adam, and said unto him, Where art\\nthou?',\n",
       " '3:10 And he said, I heard thy voice in the garden, and I was\\nafraid, because I was naked; and I hid myself.',\n",
       " '3:11 And he said, Who told thee that thou wast naked?',\n",
       " 'Hast thou eaten\\nof the tree, whereof I commanded thee that thou shouldest not eat?',\n",
       " '3:12 And the man said, The woman whom thou gavest to be with me, she\\ngave me of the tree, and I did eat.',\n",
       " '3:13 And the LORD God said unto the woman, What is this that thou hast\\ndone?',\n",
       " 'And the woman said, The serpent beguiled me, and I did eat.',\n",
       " '3:14 And the LORD God said unto the serpent, Because thou hast done\\nthis, thou art cursed above all cattle, and above every beast of the\\nfield; upon thy belly shalt thou go, and dust shalt thou eat all the\\ndays of thy life: 3:15 And I will put enmity between thee and the\\nwoman, and between thy seed and her seed; it shall bruise thy head,\\nand thou shalt bruise his heel.',\n",
       " '3:16 Unto the woman he said, I will greatly multiply thy sorrow and\\nthy conception; in sorrow thou shalt bring forth children; and thy\\ndesire shall be to thy husband, and he shall rule over thee.',\n",
       " '3:17 And unto Adam he said, Because thou hast hearkened unto the voice\\nof thy wife, and hast eaten of the tree, of which I commanded thee,\\nsaying, Thou shalt not eat of it: cursed is the ground for thy sake;\\nin sorrow shalt thou eat of it all the days of thy life; 3:18 Thorns\\nalso and thistles shall it bring forth to thee; and thou shalt eat the\\nherb of the field; 3:19 In the sweat of thy face shalt thou eat bread,\\ntill thou return unto the ground; for out of it wast thou taken: for\\ndust thou art, and unto dust shalt thou return.',\n",
       " \"3:20 And Adam called his wife's name Eve; because she was the mother\\nof all living.\",\n",
       " '3:21 Unto Adam also and to his wife did the LORD God make coats of\\nskins, and clothed them.',\n",
       " '3:22 And the LORD God said, Behold, the man is become as one of us, to\\nknow good and evil: and now, lest he put forth his hand, and take also\\nof the tree of life, and eat, and live for ever: 3:23 Therefore the\\nLORD God sent him forth from the garden of Eden, to till the ground\\nfrom whence he was taken.',\n",
       " '3:24 So he drove out the man; and he placed at the east of the garden\\nof Eden Cherubims, and a flaming sword which turned every way, to keep\\nthe way of the tree of life.',\n",
       " '4:1 And Adam knew Eve his wife; and she conceived, and bare Cain, and\\nsaid, I have gotten a man from the LORD.',\n",
       " '4:2 And she again bare his brother Abel.',\n",
       " 'And Abel was a keeper of\\nsheep, but Cain was a tiller of the ground.',\n",
       " '4:3 And in process of time it came to pass, that Cain brought of the\\nfruit of the ground an offering unto the LORD.',\n",
       " '4:4 And Abel, he also brought of the firstlings of his flock and of\\nthe fat thereof.',\n",
       " 'And the LORD had respect unto Abel and to his\\noffering: 4:5 But unto Cain and to his offering he had not respect.',\n",
       " 'And Cain was very wroth, and his countenance fell.',\n",
       " '4:6 And the LORD said unto Cain, Why art thou wroth?',\n",
       " 'and why is thy\\ncountenance fallen?',\n",
       " '4:7 If thou doest well, shalt thou not be\\naccepted?',\n",
       " 'and if thou doest not well, sin lieth at the door.',\n",
       " 'And unto\\nthee shall be his desire, and thou shalt rule over him.',\n",
       " '4:8 And Cain talked with Abel his brother: and it came to pass, when\\nthey were in the field, that Cain rose up against Abel his brother,\\nand slew him.',\n",
       " '4:9 And the LORD said unto Cain, Where is Abel thy brother?',\n",
       " \"And he\\nsaid, I know not: Am I my brother's keeper?\",\n",
       " '4:10 And he said, What\\nhast thou done?',\n",
       " \"the voice of thy brother's blood crieth unto me from\\nthe ground.\",\n",
       " \"4:11 And now art thou cursed from the earth, which hath opened her\\nmouth to receive thy brother's blood from thy hand; 4:12 When thou\\ntillest the ground, it shall not henceforth yield unto thee her\\nstrength; a fugitive and a vagabond shalt thou be in the earth.\",\n",
       " '4:13 And Cain said unto the LORD, My punishment is greater than I can\\nbear.',\n",
       " '4:14 Behold, thou hast driven me out this day from the face of the\\nearth; and from thy face shall I be hid; and I shall be a fugitive and\\na vagabond in the earth; and it shall come to pass, that every one\\nthat findeth me shall slay me.',\n",
       " '4:15 And the LORD said unto him, Therefore whosoever slayeth Cain,\\nvengeance shall be taken on him sevenfold.',\n",
       " 'And the LORD set a mark\\nupon Cain, lest any finding him should kill him.',\n",
       " '4:16 And Cain went out from the presence of the LORD, and dwelt in the\\nland of Nod, on the east of Eden.',\n",
       " '4:17 And Cain knew his wife; and she conceived, and bare Enoch: and he\\nbuilded a city, and called the name of the city, after the name of his\\nson, Enoch.',\n",
       " '4:18 And unto Enoch was born Irad: and Irad begat Mehujael: and\\nMehujael begat Methusael: and Methusael begat Lamech.',\n",
       " '4:19 And Lamech took unto him two wives: the name of the one was Adah,\\nand the name of the other Zillah.',\n",
       " '4:20 And Adah bare Jabal: he was the father of such as dwell in tents,\\nand of such as have cattle.',\n",
       " \"4:21 And his brother's name was Jubal: he was the father of all such\\nas handle the harp and organ.\",\n",
       " '4:22 And Zillah, she also bare Tubalcain, an instructer of every\\nartificer in brass and iron: and the sister of Tubalcain was Naamah.',\n",
       " '4:23 And Lamech said unto his wives, Adah and Zillah, Hear my voice;\\nye wives of Lamech, hearken unto my speech: for I have slain a man to\\nmy wounding, and a young man to my hurt.',\n",
       " '4:24 If Cain shall be avenged sevenfold, truly Lamech seventy and\\nsevenfold.',\n",
       " '4:25 And Adam knew his wife again; and she bare a son, and called his\\nname Seth: For God, said she, hath appointed me another seed instead\\nof Abel, whom Cain slew.',\n",
       " '4:26 And to Seth, to him also there was born a son; and he called his\\nname Enos: then began men to call upon the name of the LORD.',\n",
       " '5:1 This is the book of the generations of Adam.',\n",
       " 'In the day that God\\ncreated man, in the likeness of God made he him; 5:2 Male and female\\ncreated he them; and blessed them, and called their name Adam, in the\\nday when they were created.',\n",
       " '5:3 And Adam lived an hundred and thirty years, and begat a son in his\\nown likeness, and after his image; and called his name Seth: 5:4 And\\nthe days of Adam after he had begotten Seth were eight hundred years:\\nand he begat sons and daughters: 5:5 And all the days that Adam lived\\nwere nine hundred and thirty years: and he died.',\n",
       " '5:6 And Seth lived an hundred and five years, and begat Enos: 5:7 And\\nSeth lived after he begat Enos eight hundred and seven years, and\\nbegat sons and daughters: 5:8 And all the days of Seth were nine\\nhundred and twelve years: and he died.',\n",
       " '5:9 And Enos lived ninety years, and begat Cainan: 5:10 And Enos lived\\nafter he begat Cainan eight hundred and fifteen years, and begat sons\\nand daughters: 5:11 And all the days of Enos were nine hundred and\\nfive years: and he died.',\n",
       " '5:12 And Cainan lived seventy years and begat Mahalaleel: 5:13 And\\nCainan lived after he begat Mahalaleel eight hundred and forty years,\\nand begat sons and daughters: 5:14 And all the days of Cainan were\\nnine hundred and ten years: and he died.',\n",
       " '5:15 And Mahalaleel lived sixty and five years, and begat Jared: 5:16\\nAnd Mahalaleel lived after he begat Jared eight hundred and thirty\\nyears, and begat sons and daughters: 5:17 And all the days of\\nMahalaleel were eight hundred ninety and five years: and he died.',\n",
       " '5:18 And Jared lived an hundred sixty and two years, and he begat\\nEnoch: 5:19 And Jared lived after he begat Enoch eight hundred years,\\nand begat sons and daughters: 5:20 And all the days of Jared were nine\\nhundred sixty and two years: and he died.',\n",
       " '5:21 And Enoch lived sixty and five years, and begat Methuselah: 5:22\\nAnd Enoch walked with God after he begat Methuselah three hundred\\nyears, and begat sons and daughters: 5:23 And all the days of Enoch\\nwere three hundred sixty and five years: 5:24 And Enoch walked with\\nGod: and he was not; for God took him.',\n",
       " '5:25 And Methuselah lived an hundred eighty and seven years, and begat\\nLamech.',\n",
       " '5:26 And Methuselah lived after he begat Lamech seven hundred eighty\\nand two years, and begat sons and daughters: 5:27 And all the days of\\nMethuselah were nine hundred sixty and nine years: and he died.',\n",
       " '5:28 And Lamech lived an hundred eighty and two years, and begat a\\nson: 5:29 And he called his name Noah, saying, This same shall comfort\\nus concerning our work and toil of our hands, because of the ground\\nwhich the LORD hath cursed.',\n",
       " '5:30 And Lamech lived after he begat Noah five hundred ninety and five\\nyears, and begat sons and daughters: 5:31 And all the days of Lamech\\nwere seven hundred seventy and seven years: and he died.',\n",
       " '5:32 And Noah was five hundred years old: and Noah begat Shem, Ham,\\nand Japheth.',\n",
       " '6:1 And it came to pass, when men began to multiply on the face of the\\nearth, and daughters were born unto them, 6:2 That the sons of God saw\\nthe daughters of men that they were fair; and they took them wives of\\nall which they chose.',\n",
       " '6:3 And the LORD said, My spirit shall not always strive with man, for\\nthat he also is flesh: yet his days shall be an hundred and twenty\\nyears.',\n",
       " '6:4 There were giants in the earth in those days; and also after that,\\nwhen the sons of God came in unto the daughters of men, and they bare\\nchildren to them, the same became mighty men which were of old, men of\\nrenown.',\n",
       " '6:5 And God saw that the wickedness of man was great in the earth, and\\nthat every imagination of the thoughts of his heart was only evil\\ncontinually.',\n",
       " '6:6 And it repented the LORD that he had made man on the earth, and it\\ngrieved him at his heart.',\n",
       " '6:7 And the LORD said, I will destroy man whom I have created from the\\nface of the earth; both man, and beast, and the creeping thing, and\\nthe fowls of the air; for it repenteth me that I have made them.',\n",
       " '6:8 But Noah found grace in the eyes of the LORD.',\n",
       " '6:9 These are the generations of Noah: Noah was a just man and perfect\\nin his generations, and Noah walked with God.',\n",
       " '6:10 And Noah begat three sons, Shem, Ham, and Japheth.',\n",
       " '6:11 The earth also was corrupt before God, and the earth was filled\\nwith violence.',\n",
       " '6:12 And God looked upon the earth, and, behold, it was corrupt; for\\nall flesh had corrupted his way upon the earth.',\n",
       " '6:13 And God said unto Noah, The end of all flesh is come before me;\\nfor the earth is filled with violence through them; and, behold, I\\nwill destroy them with the earth.',\n",
       " '6:14 Make thee an ark of gopher wood; rooms shalt thou make in the\\nark, and shalt pitch it within and without with pitch.',\n",
       " '6:15 And this is the fashion which thou shalt make it of: The length\\nof the ark shall be three hundred cubits, the breadth of it fifty\\ncubits, and the height of it thirty cubits.',\n",
       " '6:16 A window shalt thou make to the ark, and in a cubit shalt thou\\nfinish it above; and the door of the ark shalt thou set in the side\\nthereof; with lower, second, and third stories shalt thou make it.',\n",
       " '6:17 And, behold, I, even I, do bring a flood of waters upon the\\nearth, to destroy all flesh, wherein is the breath of life, from under\\nheaven; and every thing that is in the earth shall die.',\n",
       " \"6:18 But with thee will I establish my covenant; and thou shalt come\\ninto the ark, thou, and thy sons, and thy wife, and thy sons' wives\\nwith thee.\",\n",
       " '6:19 And of every living thing of all flesh, two of every sort shalt\\nthou bring into the ark, to keep them alive with thee; they shall be\\nmale and female.',\n",
       " '6:20 Of fowls after their kind, and of cattle after their kind, of\\nevery creeping thing of the earth after his kind, two of every sort\\nshall come unto thee, to keep them alive.',\n",
       " '6:21 And take thou unto thee of all food that is eaten, and thou shalt\\ngather it to thee; and it shall be for food for thee, and for them.',\n",
       " '6:22 Thus did Noah; according to all that God commanded him, so did\\nhe.',\n",
       " '7:1 And the LORD said unto Noah, Come thou and all thy house into the\\nark; for thee have I seen righteous before me in this generation.',\n",
       " '7:2 Of every clean beast thou shalt take to thee by sevens, the male\\nand his female: and of beasts that are not clean by two, the male and\\nhis female.',\n",
       " '7:3 Of fowls also of the air by sevens, the male and the female; to\\nkeep seed alive upon the face of all the earth.',\n",
       " '7:4 For yet seven days, and I will cause it to rain upon the earth\\nforty days and forty nights; and every living substance that I have\\nmade will I destroy from off the face of the earth.',\n",
       " '7:5 And Noah did according unto all that the LORD commanded him.',\n",
       " '7:6 And Noah was six hundred years old when the flood of waters was\\nupon the earth.',\n",
       " \"7:7 And Noah went in, and his sons, and his wife, and his sons' wives\\nwith him, into the ark, because of the waters of the flood.\",\n",
       " '7:8 Of clean beasts, and of beasts that are not clean, and of fowls,\\nand of every thing that creepeth upon the earth, 7:9 There went in two\\nand two unto Noah into the ark, the male and the female, as God had\\ncommanded Noah.',\n",
       " '7:10 And it came to pass after seven days, that the waters of the\\nflood were upon the earth.',\n",
       " \"7:11 In the six hundredth year of Noah's life, in the second month,\\nthe seventeenth day of the month, the same day were all the fountains\\nof the great deep broken up, and the windows of heaven were opened.\",\n",
       " '7:12 And the rain was upon the earth forty days and forty nights.',\n",
       " \"7:13 In the selfsame day entered Noah, and Shem, and Ham, and Japheth,\\nthe sons of Noah, and Noah's wife, and the three wives of his sons\\nwith them, into the ark; 7:14 They, and every beast after his kind,\\nand all the cattle after their kind, and every creeping thing that\\ncreepeth upon the earth after his kind, and every fowl after his kind,\\nevery bird of every sort.\",\n",
       " '7:15 And they went in unto Noah into the ark, two and two of all\\nflesh, wherein is the breath of life.',\n",
       " '7:16 And they that went in, went in male and female of all flesh, as\\nGod had commanded him: and the LORD shut him in.',\n",
       " '7:17 And the flood was forty days upon the earth; and the waters\\nincreased, and bare up the ark, and it was lift up above the earth.',\n",
       " '7:18 And the waters prevailed, and were increased greatly upon the\\nearth; and the ark went upon the face of the waters.',\n",
       " '7:19 And the waters prevailed exceedingly upon the earth; and all the\\nhigh hills, that were under the whole heaven, were covered.',\n",
       " '7:20 Fifteen cubits upward did the waters prevail; and the mountains\\nwere covered.',\n",
       " '7:21 And all flesh died that moved upon the earth, both of fowl, and\\nof cattle, and of beast, and of every creeping thing that creepeth\\nupon the earth, and every man: 7:22 All in whose nostrils was the\\nbreath of life, of all that was in the dry land, died.',\n",
       " '7:23 And every living substance was destroyed which was upon the face\\nof the ground, both man, and cattle, and the creeping things, and the\\nfowl of the heaven; and they were destroyed from the earth: and Noah\\nonly remained alive, and they that were with him in the ark.',\n",
       " '7:24 And the waters prevailed upon the earth an hundred and fifty\\ndays.',\n",
       " '8:1 And God remembered Noah, and every living thing, and all the\\ncattle that was with him in the ark: and God made a wind to pass over\\nthe earth, and the waters asswaged; 8:2 The fountains also of the deep\\nand the windows of heaven were stopped, and the rain from heaven was\\nrestrained; 8:3 And the waters returned from off the earth\\ncontinually: and after the end of the hundred and fifty days the\\nwaters were abated.',\n",
       " '8:4 And the ark rested in the seventh month, on the seventeenth day of\\nthe month, upon the mountains of Ararat.',\n",
       " '8:5 And the waters decreased continually until the tenth month: in the\\ntenth month, on the first day of the month, were the tops of the\\nmountains seen.',\n",
       " '8:6 And it came to pass at the end of forty days, that Noah opened the\\nwindow of the ark which he had made: 8:7 And he sent forth a raven,\\nwhich went forth to and fro, until the waters were dried up from off\\nthe earth.',\n",
       " '8:8 Also he sent forth a dove from him, to see if the waters were\\nabated from off the face of the ground; 8:9 But the dove found no rest\\nfor the sole of her foot, and she returned unto him into the ark, for\\nthe waters were on the face of the whole earth: then he put forth his\\nhand, and took her, and pulled her in unto him into the ark.',\n",
       " '8:10 And he stayed yet other seven days; and again he sent forth the\\ndove out of the ark; 8:11 And the dove came in to him in the evening;\\nand, lo, in her mouth was an olive leaf pluckt off: so Noah knew that\\nthe waters were abated from off the earth.',\n",
       " '8:12 And he stayed yet other seven days; and sent forth the dove;\\nwhich returned not again unto him any more.',\n",
       " '8:13 And it came to pass in the six hundredth and first year, in the\\nfirst month, the first day of the month, the waters were dried up from\\noff the earth: and Noah removed the covering of the ark, and looked,\\nand, behold, the face of the ground was dry.',\n",
       " '8:14 And in the second month, on the seven and twentieth day of the\\nmonth, was the earth dried.',\n",
       " \"8:15 And God spake unto Noah, saying, 8:16 Go forth of the ark, thou,\\nand thy wife, and thy sons, and thy sons' wives with thee.\",\n",
       " '8:17 Bring forth with thee every living thing that is with thee, of\\nall flesh, both of fowl, and of cattle, and of every creeping thing\\nthat creepeth upon the earth; that they may breed abundantly in the\\nearth, and be fruitful, and multiply upon the earth.',\n",
       " \"8:18 And Noah went forth, and his sons, and his wife, and his sons'\\nwives with him: 8:19 Every beast, every creeping thing, and every\\nfowl, and whatsoever creepeth upon the earth, after their kinds, went\\nforth out of the ark.\",\n",
       " '8:20 And Noah builded an altar unto the LORD; and took of every clean\\nbeast, and of every clean fowl, and offered burnt offerings on the\\naltar.',\n",
       " \"8:21 And the LORD smelled a sweet savour; and the LORD said in his\\nheart, I will not again curse the ground any more for man's sake; for\\nthe imagination of man's heart is evil from his youth; neither will I\\nagain smite any more every thing living, as I have done.\",\n",
       " '8:22 While the earth remaineth, seedtime and harvest, and cold and\\nheat, and summer and winter, and day and night shall not cease.',\n",
       " '9:1 And God blessed Noah and his sons, and said unto them, Be\\nfruitful, and multiply, and replenish the earth.',\n",
       " '9:2 And the fear of you and the dread of you shall be upon every beast\\nof the earth, and upon every fowl of the air, upon all that moveth\\nupon the earth, and upon all the fishes of the sea; into your hand are\\nthey delivered.',\n",
       " '9:3 Every moving thing that liveth shall be meat for you; even as the\\ngreen herb have I given you all things.',\n",
       " '9:4 But flesh with the life thereof, which is the blood thereof, shall\\nye not eat.',\n",
       " \"9:5 And surely your blood of your lives will I require; at the hand of\\nevery beast will I require it, and at the hand of man; at the hand of\\nevery man's brother will I require the life of man.\",\n",
       " \"9:6 Whoso sheddeth man's blood, by man shall his blood be shed: for in\\nthe image of God made he man.\",\n",
       " '9:7 And you, be ye fruitful, and multiply; bring forth abundantly in\\nthe earth, and multiply therein.',\n",
       " '9:8 And God spake unto Noah, and to his sons with him, saying, 9:9 And\\nI, behold, I establish my covenant with you, and with your seed after\\nyou; 9:10 And with every living creature that is with you, of the\\nfowl, of the cattle, and of every beast of the earth with you; from\\nall that go out of the ark, to every beast of the earth.',\n",
       " '9:11 And I will establish my covenant with you, neither shall all\\nflesh be cut off any more by the waters of a flood; neither shall\\nthere any more be a flood to destroy the earth.',\n",
       " '9:12 And God said, This is the token of the covenant which I make\\nbetween me and you and every living creature that is with you, for\\nperpetual generations: 9:13 I do set my bow in the cloud, and it shall\\nbe for a token of a covenant between me and the earth.',\n",
       " '9:14 And it shall come to pass, when I bring a cloud over the earth,\\nthat the bow shall be seen in the cloud: 9:15 And I will remember my\\ncovenant, which is between me and you and every living creature of all\\nflesh; and the waters shall no more become a flood to destroy all\\nflesh.',\n",
       " '9:16 And the bow shall be in the cloud; and I will look upon it, that\\nI may remember the everlasting covenant between God and every living\\ncreature of all flesh that is upon the earth.',\n",
       " '9:17 And God said unto Noah, This is the token of the covenant, which\\nI have established between me and all flesh that is upon the earth.',\n",
       " '9:18 And the sons of Noah, that went forth of the ark, were Shem, and\\nHam, and Japheth: and Ham is the father of Canaan.',\n",
       " '9:19 These are the three sons of Noah: and of them was the whole earth\\noverspread.',\n",
       " '9:20 And Noah began to be an husbandman, and he planted a vineyard:\\n9:21 And he drank of the wine, and was drunken; and he was uncovered\\nwithin his tent.',\n",
       " '9:22 And Ham, the father of Canaan, saw the nakedness of his father,\\nand told his two brethren without.',\n",
       " \"9:23 And Shem and Japheth took a garment, and laid it upon both their\\nshoulders, and went backward, and covered the nakedness of their\\nfather; and their faces were backward, and they saw not their father's\\nnakedness.\",\n",
       " '9:24 And Noah awoke from his wine, and knew what his younger son had\\ndone unto him.',\n",
       " '9:25 And he said, Cursed be Canaan; a servant of servants shall he be\\nunto his brethren.',\n",
       " '9:26 And he said, Blessed be the LORD God of Shem; and Canaan shall be\\nhis servant.',\n",
       " '9:27 God shall enlarge Japheth, and he shall dwell in the tents of\\nShem; and Canaan shall be his servant.',\n",
       " '9:28 And Noah lived after the flood three hundred and fifty years.',\n",
       " '9:29 And all the days of Noah were nine hundred and fifty years: and\\nhe died.',\n",
       " '10:1 Now these are the generations of the sons of Noah, Shem, Ham, and\\nJapheth: and unto them were sons born after the flood.',\n",
       " '10:2 The sons of Japheth; Gomer, and Magog, and Madai, and Javan, and\\nTubal, and Meshech, and Tiras.',\n",
       " '10:3 And the sons of Gomer; Ashkenaz, and Riphath, and Togarmah.',\n",
       " '10:4 And the sons of Javan; Elishah, and Tarshish, Kittim, and\\nDodanim.',\n",
       " '10:5 By these were the isles of the Gentiles divided in their lands;\\nevery one after his tongue, after their families, in their nations.',\n",
       " '10:6 And the sons of Ham; Cush, and Mizraim, and Phut, and Canaan.',\n",
       " '10:7 And the sons of Cush; Seba, and Havilah, and Sabtah, and Raamah,\\nand Sabtechah: and the sons of Raamah; Sheba, and Dedan.',\n",
       " '10:8 And Cush begat Nimrod: he began to be a mighty one in the earth.',\n",
       " '10:9 He was a mighty hunter before the LORD: wherefore it is said,\\nEven as Nimrod the mighty hunter before the LORD.',\n",
       " '10:10 And the beginning of his kingdom was Babel, and Erech, and\\nAccad, and Calneh, in the land of Shinar.',\n",
       " '10:11 Out of that land went forth Asshur, and builded Nineveh, and the\\ncity Rehoboth, and Calah, 10:12 And Resen between Nineveh and Calah:\\nthe same is a great city.',\n",
       " '10:13 And Mizraim begat Ludim, and Anamim, and Lehabim, and Naphtuhim,\\n10:14 And Pathrusim, and Casluhim, (out of whom came Philistim,) and\\nCaphtorim.',\n",
       " '10:15 And Canaan begat Sidon his first born, and Heth, 10:16 And the\\nJebusite, and the Amorite, and the Girgasite, 10:17 And the Hivite,\\nand the Arkite, and the Sinite, 10:18 And the Arvadite, and the\\nZemarite, and the Hamathite: and afterward were the families of the\\nCanaanites spread abroad.',\n",
       " '10:19 And the border of the Canaanites was from Sidon, as thou comest\\nto Gerar, unto Gaza; as thou goest, unto Sodom, and Gomorrah, and\\nAdmah, and Zeboim, even unto Lasha.',\n",
       " '10:20 These are the sons of Ham, after their families, after their\\ntongues, in their countries, and in their nations.',\n",
       " '10:21 Unto Shem also, the father of all the children of Eber, the\\nbrother of Japheth the elder, even to him were children born.',\n",
       " '10:22 The children of Shem; Elam, and Asshur, and Arphaxad, and Lud,\\nand Aram.',\n",
       " '10:23 And the children of Aram; Uz, and Hul, and Gether, and Mash.',\n",
       " '10:24 And Arphaxad begat Salah; and Salah begat Eber.',\n",
       " \"10:25 And unto Eber were born two sons: the name of one was Peleg; for\\nin his days was the earth divided; and his brother's name was Joktan.\",\n",
       " '10:26 And Joktan begat Almodad, and Sheleph, and Hazarmaveth, and\\nJerah, 10:27 And Hadoram, and Uzal, and Diklah, 10:28 And Obal, and\\nAbimael, and Sheba, 10:29 And Ophir, and Havilah, and Jobab: all these\\nwere the sons of Joktan.',\n",
       " '10:30 And their dwelling was from Mesha, as thou goest unto Sephar a\\nmount of the east.',\n",
       " '10:31 These are the sons of Shem, after their families, after their\\ntongues, in their lands, after their nations.',\n",
       " '10:32 These are the families of the sons of Noah, after their\\ngenerations, in their nations: and by these were the nations divided\\nin the earth after the flood.',\n",
       " '11:1 And the whole earth was of one language, and of one speech.',\n",
       " '11:2 And it came to pass, as they journeyed from the east, that they\\nfound a plain in the land of Shinar; and they dwelt there.',\n",
       " '11:3 And they said one to another, Go to, let us make brick, and burn\\nthem thoroughly.',\n",
       " 'And they had brick for stone, and slime had they for\\nmorter.',\n",
       " '11:4 And they said, Go to, let us build us a city and a tower, whose\\ntop may reach unto heaven; and let us make us a name, lest we be\\nscattered abroad upon the face of the whole earth.',\n",
       " '11:5 And the LORD came down to see the city and the tower, which the\\nchildren of men builded.',\n",
       " '11:6 And the LORD said, Behold, the people is one, and they have all\\none language; and this they begin to do: and now nothing will be\\nrestrained from them, which they have imagined to do.',\n",
       " \"11:7 Go to, let us go down, and there confound their language, that\\nthey may not understand one another's speech.\",\n",
       " '11:8 So the LORD scattered them abroad from thence upon the face of\\nall the earth: and they left off to build the city.',\n",
       " '11:9 Therefore is the name of it called Babel; because the LORD did\\nthere confound the language of all the earth: and from thence did the\\nLORD scatter them abroad upon the face of all the earth.',\n",
       " '11:10 These are the generations of Shem: Shem was an hundred years\\nold, and begat Arphaxad two years after the flood: 11:11 And Shem\\nlived after he begat Arphaxad five hundred years, and begat sons and\\ndaughters.',\n",
       " '11:12 And Arphaxad lived five and thirty years, and begat Salah: 11:13\\nAnd Arphaxad lived after he begat Salah four hundred and three years,\\nand begat sons and daughters.',\n",
       " '11:14 And Salah lived thirty years, and begat Eber: 11:15 And Salah\\nlived after he begat Eber four hundred and three years, and begat sons\\nand daughters.',\n",
       " '11:16 And Eber lived four and thirty years, and begat Peleg: 11:17 And\\nEber lived after he begat Peleg four hundred and thirty years, and\\nbegat sons and daughters.',\n",
       " '11:18 And Peleg lived thirty years, and begat Reu: 11:19 And Peleg\\nlived after he begat Reu two hundred and nine years, and begat sons\\nand daughters.',\n",
       " '11:20 And Reu lived two and thirty years, and begat Serug: 11:21 And\\nReu lived after he begat Serug two hundred and seven years, and begat\\nsons and daughters.',\n",
       " '11:22 And Serug lived thirty years, and begat Nahor: 11:23 And Serug\\nlived after he begat Nahor two hundred years, and begat sons and\\ndaughters.',\n",
       " '11:24 And Nahor lived nine and twenty years, and begat Terah: 11:25\\nAnd Nahor lived after he begat Terah an hundred and nineteen years,\\nand begat sons and daughters.',\n",
       " '11:26 And Terah lived seventy years, and begat Abram, Nahor, and\\nHaran.',\n",
       " '11:27 Now these are the generations of Terah: Terah begat Abram,\\nNahor, and Haran; and Haran begat Lot.',\n",
       " '11:28 And Haran died before his father Terah in the land of his\\nnativity, in Ur of the Chaldees.',\n",
       " \"11:29 And Abram and Nahor took them wives: the name of Abram's wife\\nwas Sarai; and the name of Nahor's wife, Milcah, the daughter of\\nHaran, the father of Milcah, and the father of Iscah.\",\n",
       " '11:30 But Sarai was barren; she had no child.',\n",
       " \"11:31 And Terah took Abram his son, and Lot the son of Haran his son's\\nson, and Sarai his daughter in law, his son Abram's wife; and they\\nwent forth with them from Ur of the Chaldees, to go into the land of\\nCanaan; and they came unto Haran, and dwelt there.\",\n",
       " '11:32 And the days of Terah were two hundred and five years: and Terah\\ndied in Haran.',\n",
       " \"12:1 Now the LORD had said unto Abram, Get thee out of thy country,\\nand from thy kindred, and from thy father's house, unto a land that I\\nwill shew thee: 12:2 And I will make of thee a great nation, and I\\nwill bless thee, and make thy name great; and thou shalt be a\\nblessing: 12:3 And I will bless them that bless thee, and curse him\\nthat curseth thee: and in thee shall all families of the earth be\\nblessed.\",\n",
       " '12:4 So Abram departed, as the LORD had spoken unto him; and Lot went\\nwith him: and Abram was seventy and five years old when he departed\\nout of Haran.',\n",
       " \"12:5 And Abram took Sarai his wife, and Lot his brother's son, and all\\ntheir substance that they had gathered, and the souls that they had\\ngotten in Haran; and they went forth to go into the land of Canaan;\\nand into the land of Canaan they came.\",\n",
       " '12:6 And Abram passed through the land unto the place of Sichem, unto\\nthe plain of Moreh.',\n",
       " 'And the Canaanite was then in the land.',\n",
       " '12:7 And the LORD appeared unto Abram, and said, Unto thy seed will I\\ngive this land: and there builded he an altar unto the LORD, who\\nappeared unto him.',\n",
       " '12:8 And he removed from thence unto a mountain on the east of Bethel,\\nand pitched his tent, having Bethel on the west, and Hai on the east:\\nand there he builded an altar unto the LORD, and called upon the name\\nof the LORD.',\n",
       " '12:9 And Abram journeyed, going on still toward the south.',\n",
       " '12:10 And there was a famine in the land: and Abram went down into\\nEgypt to sojourn there; for the famine was grievous in the land.',\n",
       " '12:11 And it came to pass, when he was come near to enter into Egypt,\\nthat he said unto Sarai his wife, Behold now, I know that thou art a\\nfair woman to look upon: 12:12 Therefore it shall come to pass, when\\nthe Egyptians shall see thee, that they shall say, This is his wife:\\nand they will kill me, but they will save thee alive.',\n",
       " '12:13 Say, I pray thee, thou art my sister: that it may be well with\\nme for thy sake; and my soul shall live because of thee.',\n",
       " '12:14 And it came to pass, that, when Abram was come into Egypt, the\\nEgyptians beheld the woman that she was very fair.',\n",
       " \"12:15 The princes also of Pharaoh saw her, and commended her before\\nPharaoh: and the woman was taken into Pharaoh's house.\",\n",
       " '12:16 And he entreated Abram well for her sake: and he had sheep, and\\noxen, and he asses, and menservants, and maidservants, and she asses,\\nand camels.',\n",
       " \"12:17 And the LORD plagued Pharaoh and his house with great plagues\\nbecause of Sarai Abram's wife.\",\n",
       " '12:18 And Pharaoh called Abram and said, What is this that thou hast\\ndone unto me?',\n",
       " 'why didst thou not tell me that she was thy wife?',\n",
       " '12:19\\nWhy saidst thou, She is my sister?',\n",
       " 'so I might have taken her to me to\\nwife: now therefore behold thy wife, take her, and go thy way.',\n",
       " '12:20 And Pharaoh commanded his men concerning him: and they sent him\\naway, and his wife, and all that he had.',\n",
       " '13:1 And Abram went up out of Egypt, he, and his wife, and all that he\\nhad, and Lot with him, into the south.',\n",
       " '13:2 And Abram was very rich in cattle, in silver, and in gold.',\n",
       " '13:3 And he went on his journeys from the south even to Bethel, unto\\nthe place where his tent had been at the beginning, between Bethel and\\nHai; 13:4 Unto the place of the altar, which he had make there at the\\nfirst: and there Abram called on the name of the LORD.',\n",
       " '13:5 And Lot also, which went with Abram, had flocks, and herds, and\\ntents.',\n",
       " '13:6 And the land was not able to bear them, that they might dwell\\ntogether: for their substance was great, so that they could not dwell\\ntogether.',\n",
       " \"13:7 And there was a strife between the herdmen of Abram's cattle and\\nthe herdmen of Lot's cattle: and the Canaanite and the Perizzite\\ndwelled then in the land.\",\n",
       " '13:8 And Abram said unto Lot, Let there be no strife, I pray thee,\\nbetween me and thee, and between my herdmen and thy herdmen; for we be\\nbrethren.',\n",
       " '13:9 Is not the whole land before thee?',\n",
       " 'separate thyself, I pray thee,\\nfrom me: if thou wilt take the left hand, then I will go to the right;\\nor if thou depart to the right hand, then I will go to the left.',\n",
       " '13:10 And Lot lifted up his eyes, and beheld all the plain of Jordan,\\nthat it was well watered every where, before the LORD destroyed Sodom\\nand Gomorrah, even as the garden of the LORD, like the land of Egypt,\\nas thou comest unto Zoar.',\n",
       " '13:11 Then Lot chose him all the plain of Jordan; and Lot journeyed\\neast: and they separated themselves the one from the other.',\n",
       " '13:12 Abram dwelled in the land of Canaan, and Lot dwelled in the\\ncities of the plain, and pitched his tent toward Sodom.',\n",
       " '13:13 But the men of Sodom were wicked and sinners before the LORD\\nexceedingly.',\n",
       " '13:14 And the LORD said unto Abram, after that Lot was separated from\\nhim, Lift up now thine eyes, and look from the place where thou art\\nnorthward, and southward, and eastward, and westward: 13:15 For all\\nthe land which thou seest, to thee will I give it, and to thy seed for\\never.',\n",
       " '13:16 And I will make thy seed as the dust of the earth: so that if a\\nman can number the dust of the earth, then shall thy seed also be\\nnumbered.',\n",
       " '13:17 Arise, walk through the land in the length of it and in the\\nbreadth of it; for I will give it unto thee.',\n",
       " '13:18 Then Abram removed his tent, and came and dwelt in the plain of\\nMamre, which is in Hebron, and built there an altar unto the LORD.',\n",
       " '14:1 And it came to pass in the days of Amraphel king of Shinar,\\nArioch king of Ellasar, Chedorlaomer king of Elam, and Tidal king of\\nnations; 14:2 That these made war with Bera king of Sodom, and with\\nBirsha king of Gomorrah, Shinab king of Admah, and Shemeber king of\\nZeboiim, and the king of Bela, which is Zoar.',\n",
       " '14:3 All these were joined together in the vale of Siddim, which is\\nthe salt sea.',\n",
       " '14:4 Twelve years they served Chedorlaomer, and in the thirteenth year\\nthey rebelled.',\n",
       " '14:5 And in the fourteenth year came Chedorlaomer, and the kings that\\nwere with him, and smote the Rephaims in Ashteroth Karnaim, and the\\nZuzims in Ham, and the Emins in Shaveh Kiriathaim, 14:6 And the\\nHorites in their mount Seir, unto Elparan, which is by the wilderness.',\n",
       " '14:7 And they returned, and came to Enmishpat, which is Kadesh, and\\nsmote all the country of the Amalekites, and also the Amorites, that\\ndwelt in Hazezontamar.',\n",
       " '14:8 And there went out the king of Sodom, and the king of Gomorrah,\\nand the king of Admah, and the king of Zeboiim, and the king of Bela\\n(the same is Zoar;) and they joined battle with them in the vale of\\nSiddim; 14:9 With Chedorlaomer the king of Elam, and with Tidal king\\nof nations, and Amraphel king of Shinar, and Arioch king of Ellasar;\\nfour kings with five.',\n",
       " '14:10 And the vale of Siddim was full of slimepits; and the kings of\\nSodom and Gomorrah fled, and fell there; and they that remained fled\\nto the mountain.',\n",
       " '14:11 And they took all the goods of Sodom and Gomorrah, and all their\\nvictuals, and went their way.',\n",
       " \"14:12 And they took Lot, Abram's brother's son, who dwelt in Sodom,\\nand his goods, and departed.\",\n",
       " '14:13 And there came one that had escaped, and told Abram the Hebrew;\\nfor he dwelt in the plain of Mamre the Amorite, brother of Eshcol, and\\nbrother of Aner: and these were confederate with Abram.',\n",
       " '14:14 And when Abram heard that his brother was taken captive, he\\narmed his trained servants, born in his own house, three hundred and\\neighteen, and pursued them unto Dan.',\n",
       " '14:15 And he divided himself against them, he and his servants, by\\nnight, and smote them, and pursued them unto Hobah, which is on the\\nleft hand of Damascus.',\n",
       " '14:16 And he brought back all the goods, and also brought again his\\nbrother Lot, and his goods, and the women also, and the people.',\n",
       " \"14:17 And the king of Sodom went out to meet him after his return from\\nthe slaughter of Chedorlaomer, and of the kings that were with him, at\\nthe valley of Shaveh, which is the king's dale.\",\n",
       " '14:18 And Melchizedek king of Salem brought forth bread and wine: and\\nhe was the priest of the most high God.',\n",
       " '14:19 And he blessed him, and said, Blessed be Abram of the most high\\nGod, possessor of heaven and earth: 14:20 And blessed be the most high\\nGod, which hath delivered thine enemies into thy hand.',\n",
       " 'And he gave him\\ntithes of all.',\n",
       " '14:21 And the king of Sodom said unto Abram, Give me the persons, and\\ntake the goods to thyself.',\n",
       " '14:22 And Abram said to the king of Sodom, I have lift up mine hand\\nunto the LORD, the most high God, the possessor of heaven and earth,\\n14:23 That I will not take from a thread even to a shoelatchet, and\\nthat I will not take any thing that is thine, lest thou shouldest say,\\nI have made Abram rich: 14:24 Save only that which the young men have\\neaten, and the portion of the men which went with me, Aner, Eshcol,\\nand Mamre; let them take their portion.',\n",
       " '15:1 After these things the word of the LORD came unto Abram in a\\nvision, saying, Fear not, Abram: I am thy shield, and thy exceeding\\ngreat reward.',\n",
       " '15:2 And Abram said, LORD God, what wilt thou give me, seeing I go\\nchildless, and the steward of my house is this Eliezer of Damascus?',\n",
       " '15:3 And Abram said, Behold, to me thou hast given no seed: and, lo,\\none born in my house is mine heir.',\n",
       " '15:4 And, behold, the word of the LORD came unto him, saying, This\\nshall not be thine heir; but he that shall come forth out of thine own\\nbowels shall be thine heir.',\n",
       " '15:5 And he brought him forth abroad, and said, Look now toward\\nheaven, and tell the stars, if thou be able to number them: and he\\nsaid unto him, So shall thy seed be.',\n",
       " '15:6 And he believed in the LORD; and he counted it to him for\\nrighteousness.',\n",
       " '15:7 And he said unto him, I am the LORD that brought thee out of Ur\\nof the Chaldees, to give thee this land to inherit it.',\n",
       " '15:8 And he said, LORD God, whereby shall I know that I shall inherit\\nit?',\n",
       " '15:9 And he said unto him, Take me an heifer of three years old,\\nand a she goat of three years old, and a ram of three years old, and a\\nturtledove, and a young pigeon.',\n",
       " '15:10 And he took unto him all these, and divided them in the midst,\\nand laid each piece one against another: but the birds divided he not.',\n",
       " '15:11 And when the fowls came down upon the carcases, Abram drove them\\naway.',\n",
       " '15:12 And when the sun was going down, a deep sleep fell upon Abram;\\nand, lo, an horror of great darkness fell upon him.',\n",
       " \"15:13 And he said unto Abram, Know of a surety that thy seed shall be\\na stranger in a land that is not their's, and shall serve them; and\\nthey shall afflict them four hundred years; 15:14 And also that\\nnation, whom they shall serve, will I judge: and afterward shall they\\ncome out with great substance.\",\n",
       " '15:15 And thou shalt go to thy fathers in peace; thou shalt be buried\\nin a good old age.',\n",
       " '15:16 But in the fourth generation they shall come hither again: for\\nthe iniquity of the Amorites is not yet full.',\n",
       " '15:17 And it came to pass, that, when the sun went down, and it was\\ndark, behold a smoking furnace, and a burning lamp that passed between\\nthose pieces.',\n",
       " '15:18 In the same day the LORD made a covenant with Abram, saying,\\nUnto thy seed have I given this land, from the river of Egypt unto the\\ngreat river, the river Euphrates: 15:19 The Kenites, and the\\nKenizzites, and the Kadmonites, 15:20 And the Hittites, and the\\nPerizzites, and the Rephaims, 15:21 And the Amorites, and the\\nCanaanites, and the Girgashites, and the Jebusites.',\n",
       " \"16:1 Now Sarai Abram's wife bare him no children: and she had an\\nhandmaid, an Egyptian, whose name was Hagar.\",\n",
       " '16:2 And Sarai said unto Abram, Behold now, the LORD hath restrained\\nme from bearing: I pray thee, go in unto my maid; it may be that I may\\nobtain children by her.',\n",
       " 'And Abram hearkened to the voice of Sarai.',\n",
       " \"16:3 And Sarai Abram's wife took Hagar her maid the Egyptian, after\\nAbram had dwelt ten years in the land of Canaan, and gave her to her\\nhusband Abram to be his wife.\",\n",
       " '16:4 And he went in unto Hagar, and she conceived: and when she saw\\nthat she had conceived, her mistress was despised in her eyes.',\n",
       " '16:5 And Sarai said unto Abram, My wrong be upon thee: I have given my\\nmaid into thy bosom; and when she saw that she had conceived, I was\\ndespised in her eyes: the LORD judge between me and thee.',\n",
       " '16:6 But Abram said unto Sarai, Behold, thy maid is in thine hand; do\\nto her as it pleaseth thee.',\n",
       " 'And when Sarai dealt hardly with her, she\\nfled from her face.',\n",
       " '16:7 And the angel of the LORD found her by a fountain of water in the\\nwilderness, by the fountain in the way to Shur.',\n",
       " \"16:8 And he said, Hagar, Sarai's maid, whence camest thou?\",\n",
       " 'and whither\\nwilt thou go?',\n",
       " 'And she said, I flee from the face of my mistress Sarai.',\n",
       " '16:9 And the angel of the LORD said unto her, Return to thy mistress,\\nand submit thyself under her hands.',\n",
       " '16:10 And the angel of the LORD said unto her, I will multiply thy\\nseed exceedingly, that it shall not be numbered for multitude.',\n",
       " '16:11 And the angel of the LORD said unto her, Behold, thou art with\\nchild and shalt bear a son, and shalt call his name Ishmael; because\\nthe LORD hath heard thy affliction.',\n",
       " \"16:12 And he will be a wild man; his hand will be against every man,\\nand every man's hand against him; and he shall dwell in the presence\\nof all his brethren.\",\n",
       " '16:13 And she called the name of the LORD that spake unto her, Thou\\nGod seest me: for she said, Have I also here looked after him that\\nseeth me?',\n",
       " '16:14 Wherefore the well was called Beerlahairoi; behold,\\nit is between Kadesh and Bered.',\n",
       " \"16:15 And Hagar bare Abram a son: and Abram called his son's name,\\nwhich Hagar bare, Ishmael.\",\n",
       " '16:16 And Abram was fourscore and six years old, when Hagar bare\\nIshmael to Abram.',\n",
       " '17:1 And when Abram was ninety years old and nine, the LORD appeared\\nto Abram, and said unto him, I am the Almighty God; walk before me,\\nand be thou perfect.',\n",
       " '17:2 And I will make my covenant between me and thee, and will\\nmultiply thee exceedingly.',\n",
       " '17:3 And Abram fell on his face: and God talked with him, saying, 17:4\\nAs for me, behold, my covenant is with thee, and thou shalt be a\\nfather of many nations.',\n",
       " '17:5 Neither shall thy name any more be called Abram, but thy name\\nshall be Abraham; for a father of many nations have I made thee.',\n",
       " '17:6 And I will make thee exceeding fruitful, and I will make nations\\nof thee, and kings shall come out of thee.',\n",
       " '17:7 And I will establish my covenant between me and thee and thy seed\\nafter thee in their generations for an everlasting covenant, to be a\\nGod unto thee, and to thy seed after thee.',\n",
       " '17:8 And I will give unto thee, and to thy seed after thee, the land\\nwherein thou art a stranger, all the land of Canaan, for an\\neverlasting possession; and I will be their God.',\n",
       " '17:9 And God said unto Abraham, Thou shalt keep my covenant therefore,\\nthou, and thy seed after thee in their generations.',\n",
       " '17:10 This is my covenant, which ye shall keep, between me and you and\\nthy seed after thee; Every man child among you shall be circumcised.',\n",
       " '17:11 And ye shall circumcise the flesh of your foreskin; and it shall\\nbe a token of the covenant betwixt me and you.',\n",
       " '17:12 And he that is eight days old shall be circumcised among you,\\nevery man child in your generations, he that is born in the house, or\\nbought with money of any stranger, which is not of thy seed.',\n",
       " '17:13 He that is born in thy house, and he that is bought with thy\\nmoney, must needs be circumcised: and my covenant shall be in your\\nflesh for an everlasting covenant.',\n",
       " '17:14 And the uncircumcised man child whose flesh of his foreskin is\\nnot circumcised, that soul shall be cut off from his people; he hath\\nbroken my covenant.',\n",
       " '17:15 And God said unto Abraham, As for Sarai thy wife, thou shalt not\\ncall her name Sarai, but Sarah shall her name be.',\n",
       " '17:16 And I will bless her, and give thee a son also of her: yea, I\\nwill bless her, and she shall be a mother of nations; kings of people\\nshall be of her.',\n",
       " '17:17 Then Abraham fell upon his face, and laughed, and said in his\\nheart, Shall a child be born unto him that is an hundred years old?',\n",
       " 'and shall Sarah, that is ninety years old, bear?',\n",
       " '17:18 And Abraham\\nsaid unto God, O that Ishmael might live before thee!',\n",
       " '17:19 And God\\nsaid, Sarah thy wife shall bear thee a son indeed; and thou shalt call\\nhis name Isaac: and I will establish my covenant with him for an\\neverlasting covenant, and with his seed after him.',\n",
       " '17:20 And as for Ishmael, I have heard thee: Behold, I have blessed\\nhim, and will make him fruitful, and will multiply him exceedingly;\\ntwelve princes shall he beget, and I will make him a great nation.',\n",
       " '17:21 But my covenant will I establish with Isaac, which Sarah shall\\nbear unto thee at this set time in the next year.',\n",
       " '17:22 And he left off talking with him, and God went up from Abraham.',\n",
       " \"17:23 And Abraham took Ishmael his son, and all that were born in his\\nhouse, and all that were bought with his money, every male among the\\nmen of Abraham's house; and circumcised the flesh of their foreskin in\\nthe selfsame day, as God had said unto him.\",\n",
       " '17:24 And Abraham was ninety years old and nine, when he was\\ncircumcised in the flesh of his foreskin.',\n",
       " '17:25 And Ishmael his son was thirteen years old, when he was\\ncircumcised in the flesh of his foreskin.',\n",
       " '17:26 In the selfsame day was Abraham circumcised, and Ishmael his\\nson.',\n",
       " '17:27 And all the men of his house, born in the house, and bought with\\nmoney of the stranger, were circumcised with him.',\n",
       " '18:1 And the LORD appeared unto him in the plains of Mamre: and he sat\\nin the tent door in the heat of the day; 18:2 And he lift up his eyes\\nand looked, and, lo, three men stood by him: and when he saw them, he\\nran to meet them from the tent door, and bowed himself toward the\\nground, 18:3 And said, My LORD, if now I have found favour in thy\\nsight, pass not away, I pray thee, from thy servant: 18:4 Let a little\\nwater, I pray you, be fetched, and wash your feet, and rest yourselves\\nunder the tree: 18:5 And I will fetch a morsel of bread, and comfort\\nye your hearts; after that ye shall pass on: for therefore are ye come\\nto your servant.',\n",
       " 'And they said, So do, as thou hast said.',\n",
       " '18:6 And Abraham hastened into the tent unto Sarah, and said, Make\\nready quickly three measures of fine meal, knead it, and make cakes\\nupon the hearth.',\n",
       " '18:7 And Abraham ran unto the herd, and fetcht a calf tender and good,\\nand gave it unto a young man; and he hasted to dress it.',\n",
       " '18:8 And he took butter, and milk, and the calf which he had dressed,\\nand set it before them; and he stood by them under the tree, and they\\ndid eat.',\n",
       " '18:9 And they said unto him, Where is Sarah thy wife?',\n",
       " 'And he said,\\nBehold, in the tent.',\n",
       " '18:10 And he said, I will certainly return unto thee according to the\\ntime of life; and, lo, Sarah thy wife shall have a son.',\n",
       " 'And Sarah\\nheard it in the tent door, which was behind him.',\n",
       " '18:11 Now Abraham and Sarah were old and well stricken in age; and it\\nceased to be with Sarah after the manner of women.',\n",
       " '18:12 Therefore Sarah laughed within herself, saying, After I am waxed\\nold shall I have pleasure, my lord being old also?',\n",
       " '18:13 And the LORD\\nsaid unto Abraham, Wherefore did Sarah laugh, saying, Shall I of a\\nsurety bear a child, which am old?',\n",
       " '18:14 Is any thing too hard for\\nthe LORD?',\n",
       " 'At the time appointed I will return unto thee, according to\\nthe time of life, and Sarah shall have a son.',\n",
       " '18:15 Then Sarah denied, saying, I laughed not; for she was afraid.',\n",
       " 'And he said, Nay; but thou didst laugh.',\n",
       " '18:16 And the men rose up from thence, and looked toward Sodom: and\\nAbraham went with them to bring them on the way.',\n",
       " '18:17 And the LORD said, Shall I hide from Abraham that thing which I\\ndo; 18:18 Seeing that Abraham shall surely become a great and mighty\\nnation, and all the nations of the earth shall be blessed in him?',\n",
       " '18:19 For I know him, that he will command his children and his\\nhousehold after him, and they shall keep the way of the LORD, to do\\njustice and judgment; that the LORD may bring upon Abraham that which\\nhe hath spoken of him.',\n",
       " '18:20 And the LORD said, Because the cry of Sodom and Gomorrah is\\ngreat, and because their sin is very grievous; 18:21 I will go down\\nnow, and see whether they have done altogether according to the cry of\\nit, which is come unto me; and if not, I will know.',\n",
       " '18:22 And the men turned their faces from thence, and went toward\\nSodom: but Abraham stood yet before the LORD.',\n",
       " '18:23 And Abraham drew near, and said, Wilt thou also destroy the\\nrighteous with the wicked?',\n",
       " '18:24 Peradventure there be fifty\\nrighteous within the city: wilt thou also destroy and not spare the\\nplace for the fifty righteous that are therein?',\n",
       " '18:25 That be far\\nfrom thee to do after this manner, to slay the righteous with the\\nwicked: and that the righteous should be as the wicked, that be far\\nfrom thee: Shall not the Judge of all the earth do right?',\n",
       " '18:26 And\\nthe LORD said, If I find in Sodom fifty righteous within the city,\\nthen I will spare all the place for their sakes.',\n",
       " '18:27 And Abraham answered and said, Behold now, I have taken upon me\\nto speak unto the LORD, which am but dust and ashes: 18:28\\nPeradventure there shall lack five of the fifty righteous: wilt thou\\ndestroy all the city for lack of five?',\n",
       " 'And he said, If I find there\\nforty and five, I will not destroy it.',\n",
       " '18:29 And he spake unto him yet again, and said, Peradventure there\\nshall be forty found there.',\n",
       " \"And he said, I will not do it for forty's\\nsake.\",\n",
       " '18:30 And he said unto him, Oh let not the LORD be angry, and I will\\nspeak: Peradventure there shall thirty be found there.',\n",
       " 'And he said, I\\nwill not do it, if I find thirty there.',\n",
       " '18:31 And he said, Behold now, I have taken upon me to speak unto the\\nLORD: Peradventure there shall be twenty found there.',\n",
       " \"And he said, I\\nwill not destroy it for twenty's sake.\",\n",
       " '18:32 And he said, Oh let not the LORD be angry, and I will speak yet\\nbut this once: Peradventure ten shall be found there.',\n",
       " \"And he said, I\\nwill not destroy it for ten's sake.\",\n",
       " '18:33 And the LORD went his way, as soon as he had left communing with\\nAbraham: and Abraham returned unto his place.',\n",
       " \"19:1 And there came two angels to Sodom at even; and Lot sat in the\\ngate of Sodom: and Lot seeing them rose up to meet them; and he bowed\\nhimself with his face toward the ground; 19:2 And he said, Behold now,\\nmy lords, turn in, I pray you, into your servant's house, and tarry\\nall night, and wash your feet, and ye shall rise up early, and go on\\nyour ways.\",\n",
       " 'And they said, Nay; but we will abide in the street all\\nnight.',\n",
       " '19:3 And he pressed upon them greatly; and they turned in unto him,\\nand entered into his house; and he made them a feast, and did bake\\nunleavened bread, and they did eat.',\n",
       " '19:4 But before they lay down, the men of the city, even the men of\\nSodom, compassed the house round, both old and young, all the people\\nfrom every quarter: 19:5 And they called unto Lot, and said unto him,\\nWhere are the men which came in to thee this night?',\n",
       " 'bring them out\\nunto us, that we may know them.',\n",
       " '19:6 And Lot went out at the door unto them, and shut the door after\\nhim, 19:7 And said, I pray you, brethren, do not so wickedly.',\n",
       " '19:8 Behold now, I have two daughters which have not known man; let\\nme, I pray you, bring them out unto you, and do ye to them as is good\\nin your eyes: only unto these men do nothing; for therefore came they\\nunder the shadow of my roof.',\n",
       " '19:9 And they said, Stand back.',\n",
       " 'And they said again, This one fellow\\ncame in to sojourn, and he will needs be a judge: now will we deal\\nworse with thee, than with them.',\n",
       " 'And they pressed sore upon the man,\\neven Lot, and came near to break the door.',\n",
       " '19:10 But the men put forth their hand, and pulled Lot into the house\\nto them, and shut to the door.',\n",
       " '19:11 And they smote the men that were at the door of the house with\\nblindness, both small and great: so that they wearied themselves to\\nfind the door.',\n",
       " '19:12 And the men said unto Lot, Hast thou here any besides?',\n",
       " 'son in\\nlaw, and thy sons, and thy daughters, and whatsoever thou hast in the\\ncity, bring them out of this place: 19:13 For we will destroy this\\nplace, because the cry of them is waxen great before the face of the\\nLORD; and the LORD hath sent us to destroy it.',\n",
       " '19:14 And Lot went out, and spake unto his sons in law, which married\\nhis daughters, and said, Up, get you out of this place; for the LORD\\nwill destroy this city.',\n",
       " 'But he seemed as one that mocked unto his sons\\nin law.',\n",
       " '19:15 And when the morning arose, then the angels hastened Lot,\\nsaying, Arise, take thy wife, and thy two daughters, which are here;\\nlest thou be consumed in the iniquity of the city.',\n",
       " '19:16 And while he lingered, the men laid hold upon his hand, and upon\\nthe hand of his wife, and upon the hand of his two daughters; the LORD\\nbeing merciful unto him: and they brought him forth, and set him\\nwithout the city.',\n",
       " '19:17 And it came to pass, when they had brought them forth abroad,\\nthat he said, Escape for thy life; look not behind thee, neither stay\\nthou in all the plain; escape to the mountain, lest thou be consumed.',\n",
       " '19:18 And Lot said unto them, Oh, not so, my LORD: 19:19 Behold now,\\nthy servant hath found grace in thy sight, and thou hast magnified thy\\nmercy, which thou hast shewed unto me in saving my life; and I cannot\\nescape to the mountain, lest some evil take me, and I die: 19:20\\nBehold now, this city is near to flee unto, and it is a little one:\\nOh, let me escape thither, (is it not a little one?)',\n",
       " 'and my soul shall\\nlive.',\n",
       " '19:21 And he said unto him, See, I have accepted thee concerning this\\nthing also, that I will not overthrow this city, for the which thou\\nhast spoken.',\n",
       " '19:22 Haste thee, escape thither; for I cannot do anything till thou\\nbe come thither.',\n",
       " 'Therefore the name of the city was called Zoar.',\n",
       " '19:23 The sun was risen upon the earth when Lot entered into Zoar.',\n",
       " '19:24 Then the LORD rained upon Sodom and upon Gomorrah brimstone and\\nfire from the LORD out of heaven; 19:25 And he overthrew those cities,\\nand all the plain, and all the inhabitants of the cities, and that\\nwhich grew upon the ground.',\n",
       " '19:26 But his wife looked back from behind him, and she became a\\npillar of salt.',\n",
       " '19:27 And Abraham gat up early in the morning to the place where he\\nstood before the LORD: 19:28 And he looked toward Sodom and Gomorrah,\\nand toward all the land of the plain, and beheld, and, lo, the smoke\\nof the country went up as the smoke of a furnace.',\n",
       " '19:29 And it came to pass, when God destroyed the cities of the plain,\\nthat God remembered Abraham, and sent Lot out of the midst of the\\noverthrow, when he overthrew the cities in the which Lot dwelt.',\n",
       " '19:30 And Lot went up out of Zoar, and dwelt in the mountain, and his\\ntwo daughters with him; for he feared to dwell in Zoar: and he dwelt\\nin a cave, he and his two daughters.',\n",
       " '19:31 And the firstborn said unto the younger, Our father is old, and\\nthere is not a man in the earth to come in unto us after the manner of\\nall the earth: 19:32 Come, let us make our father drink wine, and we\\nwill lie with him, that we may preserve seed of our father.',\n",
       " '19:33 And they made their father drink wine that night: and the\\nfirstborn went in, and lay with her father; and he perceived not when\\nshe lay down, nor when she arose.',\n",
       " '19:34 And it came to pass on the morrow, that the firstborn said unto\\nthe younger, Behold, I lay yesternight with my father: let us make him\\ndrink wine this night also; and go thou in, and lie with him, that we\\nmay preserve seed of our father.',\n",
       " '19:35 And they made their father drink wine that night also: and the\\nyounger arose, and lay with him; and he perceived not when she lay\\ndown, nor when she arose.',\n",
       " '19:36 Thus were both the daughters of Lot with child by their father.',\n",
       " '19:37 And the first born bare a son, and called his name Moab: the\\nsame is the father of the Moabites unto this day.',\n",
       " '19:38 And the younger, she also bare a son, and called his name\\nBenammi: the same is the father of the children of Ammon unto this\\nday.',\n",
       " '20:1 And Abraham journeyed from thence toward the south country, and\\ndwelled between Kadesh and Shur, and sojourned in Gerar.',\n",
       " '20:2 And Abraham said of Sarah his wife, She is my sister: and\\nAbimelech king of Gerar sent, and took Sarah.',\n",
       " \"20:3 But God came to Abimelech in a dream by night, and said to him,\\nBehold, thou art but a dead man, for the woman which thou hast taken;\\nfor she is a man's wife.\",\n",
       " '20:4 But Abimelech had not come near her: and he said, LORD, wilt thou\\nslay also a righteous nation?',\n",
       " '20:5 Said he not unto me, She is my\\nsister?',\n",
       " 'and she, even she herself said, He is my brother: in the\\nintegrity of my heart and innocency of my hands have I done this.',\n",
       " '20:6 And God said unto him in a dream, Yea, I know that thou didst\\nthis in the integrity of thy heart; for I also withheld thee from\\nsinning against me: therefore suffered I thee not to touch her.',\n",
       " '20:7 Now therefore restore the man his wife; for he is a prophet, and\\nhe shall pray for thee, and thou shalt live: and if thou restore her\\nnot, know thou that thou shalt surely die, thou, and all that are\\nthine.',\n",
       " '20:8 Therefore Abimelech rose early in the morning, and called all his\\nservants, and told all these things in their ears: and the men were\\nsore afraid.',\n",
       " '20:9 Then Abimelech called Abraham, and said unto him, What hast thou\\ndone unto us?',\n",
       " 'and what have I offended thee, that thou hast brought on\\nme and on my kingdom a great sin?',\n",
       " 'thou hast done deeds unto me that\\nought not to be done.',\n",
       " '20:10 And Abimelech said unto Abraham, What sawest thou, that thou\\nhast done this thing?',\n",
       " \"20:11 And Abraham said, Because I thought,\\nSurely the fear of God is not in this place; and they will slay me for\\nmy wife's sake.\",\n",
       " '20:12 And yet indeed she is my sister; she is the daughter of my\\nfather, but not the daughter of my mother; and she became my wife.',\n",
       " \"20:13 And it came to pass, when God caused me to wander from my\\nfather's house, that I said unto her, This is thy kindness which thou\\nshalt shew unto me; at every place whither we shall come, say of me,\\nHe is my brother.\",\n",
       " '20:14 And Abimelech took sheep, and oxen, and menservants, and\\nwomenservants, and gave them unto Abraham, and restored him Sarah his\\nwife.',\n",
       " '20:15 And Abimelech said, Behold, my land is before thee: dwell where\\nit pleaseth thee.',\n",
       " '20:16 And unto Sarah he said, Behold, I have given thy brother a\\nthousand pieces of silver: behold, he is to thee a covering of the\\neyes, unto all that are with thee, and with all other: thus she was\\nreproved.',\n",
       " '20:17 So Abraham prayed unto God: and God healed Abimelech, and his\\nwife, and his maidservants; and they bare children.',\n",
       " \"20:18 For the LORD had fast closed up all the wombs of the house of\\nAbimelech, because of Sarah Abraham's wife.\",\n",
       " '21:1 And the LORD visited Sarah as he had said, and the LORD did unto\\nSarah as he had spoken.',\n",
       " '21:2 For Sarah conceived, and bare Abraham a son in his old age, at\\nthe set time of which God had spoken to him.',\n",
       " '21:3 And Abraham called the name of his son that was born unto him,\\nwhom Sarah bare to him, Isaac.',\n",
       " '21:4 And Abraham circumcised his son Isaac being eight days old, as\\nGod had commanded him.',\n",
       " '21:5 And Abraham was an hundred years old, when his son Isaac was born\\nunto him.',\n",
       " '21:6 And Sarah said, God hath made me to laugh, so that all that hear\\nwill laugh with me.',\n",
       " '21:7 And she said, Who would have said unto Abraham, that Sarah should\\nhave given children suck?',\n",
       " 'for I have born him a son in his old age.',\n",
       " '21:8 And the child grew, and was weaned: and Abraham made a great\\nfeast the same day that Isaac was weaned.',\n",
       " '21:9 And Sarah saw the son of Hagar the Egyptian, which she had born\\nunto Abraham, mocking.',\n",
       " '21:10 Wherefore she said unto Abraham, Cast out this bondwoman and her\\nson: for the son of this bondwoman shall not be heir with my son, even\\nwith Isaac.',\n",
       " \"21:11 And the thing was very grievous in Abraham's sight because of\\nhis son.\",\n",
       " '21:12 And God said unto Abraham, Let it not be grievous in thy sight\\nbecause of the lad, and because of thy bondwoman; in all that Sarah\\nhath said unto thee, hearken unto her voice; for in Isaac shall thy\\nseed be called.',\n",
       " '21:13 And also of the son of the bondwoman will I make a nation,\\nbecause he is thy seed.',\n",
       " '21:14 And Abraham rose up early in the morning, and took bread, and a\\nbottle of water, and gave it unto Hagar, putting it on her shoulder,\\nand the child, and sent her away: and she departed, and wandered in\\nthe wilderness of Beersheba.',\n",
       " '21:15 And the water was spent in the bottle, and she cast the child\\nunder one of the shrubs.',\n",
       " '21:16 And she went, and sat her down over against him a good way off,\\nas it were a bow shot: for she said, Let me not see the death of the\\nchild.',\n",
       " 'And she sat over against him, and lift up her voice, and wept.',\n",
       " '21:17 And God heard the voice of the lad; and the angel of God called\\nto Hagar out of heaven, and said unto her, What aileth thee, Hagar?',\n",
       " 'fear not; for God hath heard the voice of the lad where he is.',\n",
       " '21:18 Arise, lift up the lad, and hold him in thine hand; for I will\\nmake him a great nation.',\n",
       " '21:19 And God opened her eyes, and she saw a well of water; and she\\nwent, and filled the bottle with water, and gave the lad drink.',\n",
       " '21:20 And God was with the lad; and he grew, and dwelt in the\\nwilderness, and became an archer.',\n",
       " '21:21 And he dwelt in the wilderness of Paran: and his mother took him\\na wife out of the land of Egypt.',\n",
       " \"21:22 And it came to pass at that time, that Abimelech and Phichol the\\nchief captain of his host spake unto Abraham, saying, God is with thee\\nin all that thou doest: 21:23 Now therefore swear unto me here by God\\nthat thou wilt not deal falsely with me, nor with my son, nor with my\\nson's son: but according to the kindness that I have done unto thee,\\nthou shalt do unto me, and to the land wherein thou hast sojourned.\",\n",
       " '21:24 And Abraham said, I will swear.',\n",
       " \"21:25 And Abraham reproved Abimelech because of a well of water, which\\nAbimelech's servants had violently taken away.\",\n",
       " '21:26 And Abimelech said, I wot not who hath done this thing; neither\\ndidst thou tell me, neither yet heard I of it, but to day.',\n",
       " '21:27 And Abraham took sheep and oxen, and gave them unto Abimelech;\\nand both of them made a covenant.',\n",
       " '21:28 And Abraham set seven ewe lambs of the flock by themselves.',\n",
       " '21:29 And Abimelech said unto Abraham, What mean these seven ewe lambs\\nwhich thou hast set by themselves?',\n",
       " '21:30 And he said, For these seven\\newe lambs shalt thou take of my hand, that they may be a witness unto\\nme, that I have digged this well.',\n",
       " '21:31 Wherefore he called that place Beersheba; because there they\\nsware both of them.',\n",
       " '21:32 Thus they made a covenant at Beersheba: then Abimelech rose up,\\nand Phichol the chief captain of his host, and they returned into the\\nland of the Philistines.',\n",
       " '21:33 And Abraham planted a grove in Beersheba, and called there on\\nthe name of the LORD, the everlasting God.',\n",
       " \"21:34 And Abraham sojourned in the Philistines' land many days.\",\n",
       " '22:1 And it came to pass after these things, that God did tempt\\nAbraham, and said unto him, Abraham: and he said, Behold, here I am.',\n",
       " '22:2 And he said, Take now thy son, thine only son Isaac, whom thou\\nlovest, and get thee into the land of Moriah; and offer him there for\\na burnt offering upon one of the mountains which I will tell thee of.',\n",
       " '22:3 And Abraham rose up early in the morning, and saddled his ass,\\nand took two of his young men with him, and Isaac his son, and clave\\nthe wood for the burnt offering, and rose up, and went unto the place\\nof which God had told him.',\n",
       " '22:4 Then on the third day Abraham lifted up his eyes, and saw the\\nplace afar off.',\n",
       " '22:5 And Abraham said unto his young men, Abide ye here with the ass;\\nand I and the lad will go yonder and worship, and come again to you.',\n",
       " '22:6 And Abraham took the wood of the burnt offering, and laid it upon\\nIsaac his son; and he took the fire in his hand, and a knife; and they\\nwent both of them together.',\n",
       " '22:7 And Isaac spake unto Abraham his father, and said, My father: and\\nhe said, Here am I, my son.',\n",
       " 'And he said, Behold the fire and the wood:\\nbut where is the lamb for a burnt offering?',\n",
       " '22:8 And Abraham said, My\\nson, God will provide himself a lamb for a burnt offering: so they\\nwent both of them together.',\n",
       " '22:9 And they came to the place which God had told him of; and Abraham\\nbuilt an altar there, and laid the wood in order, and bound Isaac his\\nson, and laid him on the altar upon the wood.',\n",
       " '22:10 And Abraham stretched forth his hand, and took the knife to slay\\nhis son.',\n",
       " '22:11 And the angel of the LORD called unto him out of heaven, and\\nsaid, Abraham, Abraham: and he said, Here am I.',\n",
       " '22:12 And he said, Lay not thine hand upon the lad, neither do thou\\nany thing unto him: for now I know that thou fearest God, seeing thou\\nhast not withheld thy son, thine only son from me.',\n",
       " '22:13 And Abraham lifted up his eyes, and looked, and behold behind\\nhim a ram caught in a thicket by his horns: and Abraham went and took\\nthe ram, and offered him up for a burnt offering in the stead of his\\nson.',\n",
       " '22:14 And Abraham called the name of that place Jehovahjireh: as it is\\nsaid to this day, In the mount of the LORD it shall be seen.',\n",
       " '22:15 And the angel of the LORD called unto Abraham out of heaven the\\nsecond time, 22:16 And said, By myself have I sworn, saith the LORD,\\nfor because thou hast done this thing, and hast not withheld thy son,\\nthine only son: 22:17 That in blessing I will bless thee, and in\\nmultiplying I will multiply thy seed as the stars of the heaven, and\\nas the sand which is upon the sea shore; and thy seed shall possess\\nthe gate of his enemies; 22:18 And in thy seed shall all the nations\\nof the earth be blessed; because thou hast obeyed my voice.',\n",
       " '22:19 So Abraham returned unto his young men, and they rose up and\\nwent together to Beersheba; and Abraham dwelt at Beersheba.',\n",
       " '22:20 And it came to pass after these things, that it was told\\nAbraham, saying, Behold, Milcah, she hath also born children unto thy\\nbrother Nahor; 22:21 Huz his firstborn, and Buz his brother, and\\nKemuel the father of Aram, 22:22 And Chesed, and Hazo, and Pildash,\\nand Jidlaph, and Bethuel.',\n",
       " \"22:23 And Bethuel begat Rebekah: these eight Milcah did bear to Nahor,\\nAbraham's brother.\",\n",
       " '22:24 And his concubine, whose name was Reumah, she bare also Tebah,\\nand Gaham, and Thahash, and Maachah.',\n",
       " '23:1 And Sarah was an hundred and seven and twenty years old: these\\nwere the years of the life of Sarah.',\n",
       " '23:2 And Sarah died in Kirjatharba; the same is Hebron in the land of\\nCanaan: and Abraham came to mourn for Sarah, and to weep for her.',\n",
       " '23:3 And Abraham stood up from before his dead, and spake unto the\\nsons of Heth, saying, 23:4 I am a stranger and a sojourner with you:\\ngive me a possession of a buryingplace with you, that I may bury my\\ndead out of my sight.',\n",
       " '23:5 And the children of Heth answered Abraham, saying unto him, 23:6\\nHear us, my lord: thou art a mighty prince among us: in the choice of\\nour sepulchres bury thy dead; none of us shall withhold from thee his\\nsepulchre, but that thou mayest bury thy dead.',\n",
       " '23:7 And Abraham stood up, and bowed himself to the people of the\\nland, even to the children of Heth.',\n",
       " '23:8 And he communed with them, saying, If it be your mind that I\\nshould bury my dead out of my sight; hear me, and intreat for me to\\nEphron the son of Zohar, 23:9 That he may give me the cave of\\nMachpelah, which he hath, which is in the end of his field; for as\\nmuch money as it is worth he shall give it me for a possession of a\\nburyingplace amongst you.',\n",
       " '23:10 And Ephron dwelt among the children of Heth: and Ephron the\\nHittite answered Abraham in the audience of the children of Heth, even\\nof all that went in at the gate of his city, saying, 23:11 Nay, my\\nlord, hear me: the field give I thee, and the cave that is therein, I\\ngive it thee; in the presence of the sons of my people give I it thee:\\nbury thy dead.',\n",
       " '23:12 And Abraham bowed down himself before the people of the land.',\n",
       " '23:13 And he spake unto Ephron in the audience of the people of the\\nland, saying, But if thou wilt give it, I pray thee, hear me: I will\\ngive thee money for the field; take it of me, and I will bury my dead\\nthere.',\n",
       " '23:14 And Ephron answered Abraham, saying unto him, 23:15 My lord,\\nhearken unto me: the land is worth four hundred shekels of silver;\\nwhat is that betwixt me and thee?',\n",
       " 'bury therefore thy dead.',\n",
       " '23:16 And Abraham hearkened unto Ephron; and Abraham weighed to Ephron\\nthe silver, which he had named in the audience of the sons of Heth,\\nfour hundred shekels of silver, current money with the merchant.',\n",
       " '23:17 And the field of Ephron which was in Machpelah, which was before\\nMamre, the field, and the cave which was therein, and all the trees\\nthat were in the field, that were in all the borders round about, were\\nmade sure 23:18 Unto Abraham for a possession in the presence of the\\nchildren of Heth, before all that went in at the gate of his city.',\n",
       " '23:19 And after this, Abraham buried Sarah his wife in the cave of the\\nfield of Machpelah before Mamre: the same is Hebron in the land of\\nCanaan.',\n",
       " '23:20 And the field, and the cave that is therein, were made sure unto\\nAbraham for a possession of a buryingplace by the sons of Heth.',\n",
       " '24:1 And Abraham was old, and well stricken in age: and the LORD had\\nblessed Abraham in all things.',\n",
       " '24:2 And Abraham said unto his eldest servant of his house, that ruled\\nover all that he had, Put, I pray thee, thy hand under my thigh: 24:3\\nAnd I will make thee swear by the LORD, the God of heaven, and the God\\nof the earth, that thou shalt not take a wife unto my son of the\\ndaughters of the Canaanites, among whom I dwell: 24:4 But thou shalt\\ngo unto my country, and to my kindred, and take a wife unto my son\\nIsaac.',\n",
       " '24:5 And the servant said unto him, Peradventure the woman will not be\\nwilling to follow me unto this land: must I needs bring thy son again\\nunto the land from whence thou camest?',\n",
       " '24:6 And Abraham said unto\\nhim, Beware thou that thou bring not my son thither again.',\n",
       " \"24:7 The LORD God of heaven, which took me from my father's house, and\\nfrom the land of my kindred, and which spake unto me, and that sware\\nunto me, saying, Unto thy seed will I give this land; he shall send\\nhis angel before thee, and thou shalt take a wife unto my son from\\nthence.\",\n",
       " '24:8 And if the woman will not be willing to follow thee, then thou\\nshalt be clear from this my oath: only bring not my son thither again.',\n",
       " '24:9 And the servant put his hand under the thigh of Abraham his\\nmaster, and sware to him concerning that matter.',\n",
       " '24:10 And the servant took ten camels of the camels of his master, and\\ndeparted; for all the goods of his master were in his hand: and he\\narose, and went to Mesopotamia, unto the city of Nahor.',\n",
       " '24:11 And he made his camels to kneel down without the city by a well\\nof water at the time of the evening, even the time that women go out\\nto draw water.',\n",
       " '24:12 And he said O LORD God of my master Abraham, I pray thee, send\\nme good speed this day, and shew kindness unto my master Abraham.',\n",
       " '24:13 Behold, I stand here by the well of water; and the daughters of\\nthe men of the city come out to draw water: 24:14 And let it come to\\npass, that the damsel to whom I shall say, Let down thy pitcher, I\\npray thee, that I may drink; and she shall say, Drink, and I will give\\nthy camels drink also: let the same be she that thou hast appointed\\nfor thy servant Isaac; and thereby shall I know that thou hast shewed\\nkindness unto my master.',\n",
       " \"24:15 And it came to pass, before he had done speaking, that, behold,\\nRebekah came out, who was born to Bethuel, son of Milcah, the wife of\\nNahor, Abraham's brother, with her pitcher upon her shoulder.\",\n",
       " '24:16 And the damsel was very fair to look upon, a virgin, neither had\\nany man known her: and she went down to the well, and filled her\\npitcher, and came up.',\n",
       " '24:17 And the servant ran to meet her, and said, Let me, I pray thee,\\ndrink a little water of thy pitcher.',\n",
       " '24:18 And she said, Drink, my lord: and she hasted, and let down her\\npitcher upon her hand, and gave him drink.',\n",
       " '24:19 And when she had done giving him drink, she said, I will draw\\nwater for thy camels also, until they have done drinking.',\n",
       " '24:20 And she hasted, and emptied her pitcher into the trough, and ran\\nagain unto the well to draw water, and drew for all his camels.',\n",
       " '24:21 And the man wondering at her held his peace, to wit whether the\\nLORD had made his journey prosperous or not.',\n",
       " '24:22 And it came to pass, as the camels had done drinking, that the\\nman took a golden earring of half a shekel weight, and two bracelets\\nfor her hands of ten shekels weight of gold; 24:23 And said, Whose\\ndaughter art thou?',\n",
       " \"tell me, I pray thee: is there room in thy father's\\nhouse for us to lodge in?\",\n",
       " '24:24 And she said unto him, I am the\\ndaughter of Bethuel the son of Milcah, which she bare unto Nahor.',\n",
       " '24:25 She said moreover unto him, We have both straw and provender\\nenough, and room to lodge in.',\n",
       " '24:26 And the man bowed down his head, and worshipped the LORD.',\n",
       " \"24:27 And he said, Blessed be the LORD God of my master Abraham, who\\nhath not left destitute my master of his mercy and his truth: I being\\nin the way, the LORD led me to the house of my master's brethren.\",\n",
       " \"24:28 And the damsel ran, and told them of her mother's house these\\nthings.\",\n",
       " '24:29 And Rebekah had a brother, and his name was Laban: and Laban ran\\nout unto the man, unto the well.',\n",
       " \"24:30 And it came to pass, when he saw the earring and bracelets upon\\nhis sister's hands, and when he heard the words of Rebekah his sister,\\nsaying, Thus spake the man unto me; that he came unto the man; and,\\nbehold, he stood by the camels at the well.\",\n",
       " '24:31 And he said, Come in, thou blessed of the LORD; wherefore\\nstandest thou without?',\n",
       " 'for I have prepared the house, and room for the\\ncamels.',\n",
       " \"24:32 And the man came into the house: and he ungirded his camels, and\\ngave straw and provender for the camels, and water to wash his feet,\\nand the men's feet that were with him.\",\n",
       " '24:33 And there was set meat before him to eat: but he said, I will\\nnot eat, until I have told mine errand.',\n",
       " 'And he said, Speak on.',\n",
       " \"24:34 And he said, I am Abraham's servant.\",\n",
       " '24:35 And the LORD hath blessed my master greatly; and he is become\\ngreat: and he hath given him flocks, and herds, and silver, and gold,\\nand menservants, and maidservants, and camels, and asses.',\n",
       " \"24:36 And Sarah my master's wife bare a son to my master when she was\\nold: and unto him hath he given all that he hath.\",\n",
       " \"24:37 And my master made me swear, saying, Thou shalt not take a wife\\nto my son of the daughters of the Canaanites, in whose land I dwell:\\n24:38 But thou shalt go unto my father's house, and to my kindred, and\\ntake a wife unto my son.\",\n",
       " '24:39 And I said unto my master, Peradventure the woman will not\\nfollow me.',\n",
       " \"24:40 And he said unto me, The LORD, before whom I walk, will send his\\nangel with thee, and prosper thy way; and thou shalt take a wife for\\nmy son of my kindred, and of my father's house: 24:41 Then shalt thou\\nbe clear from this my oath, when thou comest to my kindred; and if\\nthey give not thee one, thou shalt be clear from my oath.\",\n",
       " \"24:42 And I came this day unto the well, and said, O LORD God of my\\nmaster Abraham, if now thou do prosper my way which I go: 24:43\\nBehold, I stand by the well of water; and it shall come to pass, that\\nwhen the virgin cometh forth to draw water, and I say to her, Give me,\\nI pray thee, a little water of thy pitcher to drink; 24:44 And she say\\nto me, Both drink thou, and I will also draw for thy camels: let the\\nsame be the woman whom the LORD hath appointed out for my master's\\nson.\",\n",
       " '24:45 And before I had done speaking in mine heart, behold, Rebekah\\ncame forth with her pitcher on her shoulder; and she went down unto\\nthe well, and drew water: and I said unto her, Let me drink, I pray\\nthee.',\n",
       " '24:46 And she made haste, and let down her pitcher from her shoulder,\\nand said, Drink, and I will give thy camels drink also: so I drank,\\nand she made the camels drink also.',\n",
       " '24:47 And I asked her, and said, Whose daughter art thou?',\n",
       " \"And she\\nsaid, the daughter of Bethuel, Nahor's son, whom Milcah bare unto him:\\nand I put the earring upon her face, and the bracelets upon her hands.\",\n",
       " \"24:48 And I bowed down my head, and worshipped the LORD, and blessed\\nthe LORD God of my master Abraham, which had led me in the right way\\nto take my master's brother's daughter unto his son.\",\n",
       " '24:49 And now if ye will deal kindly and truly with my master, tell\\nme: and if not, tell me; that I may turn to the right hand, or to the\\nleft.',\n",
       " '24:50 Then Laban and Bethuel answered and said, The thing proceedeth\\nfrom the LORD: we cannot speak unto thee bad or good.',\n",
       " \"24:51 Behold, Rebekah is before thee, take her, and go, and let her be\\nthy master's son's wife, as the LORD hath spoken.\",\n",
       " \"24:52 And it came to pass, that, when Abraham's servant heard their\\nwords, he worshipped the LORD, bowing himself to the earth.\",\n",
       " '24:53 And the servant brought forth jewels of silver, and jewels of\\ngold, and raiment, and gave them to Rebekah: he gave also to her\\nbrother and to her mother precious things.',\n",
       " '24:54 And they did eat and drink, he and the men that were with him,\\nand tarried all night; and they rose up in the morning, and he said,\\nSend me away unto my master.',\n",
       " '24:55 And her brother and her mother said, Let the damsel abide with\\nus a few days, at the least ten; after that she shall go.',\n",
       " '24:56 And he said unto them, Hinder me not, seeing the LORD hath\\nprospered my way; send me away that I may go to my master.',\n",
       " '24:57 And they said, We will call the damsel, and enquire at her\\nmouth.',\n",
       " '24:58 And they called Rebekah, and said unto her, Wilt thou go with\\nthis man?',\n",
       " 'And she said, I will go.',\n",
       " \"24:59 And they sent away Rebekah their sister, and her nurse, and\\nAbraham's servant, and his men.\",\n",
       " '24:60 And they blessed Rebekah, and said unto her, Thou art our\\nsister, be thou the mother of thousands of millions, and let thy seed\\npossess the gate of those which hate them.',\n",
       " '24:61 And Rebekah arose, and her damsels, and they rode upon the\\ncamels, and followed the man: and the servant took Rebekah, and went\\nhis way.',\n",
       " '24:62 And Isaac came from the way of the well Lahairoi; for he dwelt\\nin the south country.',\n",
       " '24:63 And Isaac went out to meditate in the field at the eventide: and\\nhe lifted up his eyes, and saw, and, behold, the camels were coming.',\n",
       " '24:64 And Rebekah lifted up her eyes, and when she saw Isaac, she\\nlighted off the camel.',\n",
       " '24:65 For she had said unto the servant, What man is this that walketh\\nin the field to meet us?',\n",
       " 'And the servant had said, It is my master:\\ntherefore she took a vail, and covered herself.',\n",
       " '24:66 And the servant told Isaac all things that he had done.',\n",
       " \"24:67 And Isaac brought her into his mother Sarah's tent, and took\\nRebekah, and she became his wife; and he loved her: and Isaac was\\ncomforted after his mother's death.\",\n",
       " '25:1 Then again Abraham took a wife, and her name was Keturah.',\n",
       " '25:2 And she bare him Zimran, and Jokshan, and Medan, and Midian, and\\nIshbak, and Shuah.',\n",
       " '25:3 And Jokshan begat Sheba, and Dedan.',\n",
       " 'And the sons of Dedan were\\nAsshurim, and Letushim, and Leummim.',\n",
       " '25:4 And the sons of Midian; Ephah, and Epher, and Hanoch, and Abidah,\\nand Eldaah.',\n",
       " 'All these were the children of Keturah.',\n",
       " '25:5 And Abraham gave all that he had unto Isaac.',\n",
       " '25:6 But unto the sons of the concubines, which Abraham had, Abraham\\ngave gifts, and sent them away from Isaac his son, while he yet lived,\\neastward, unto the east country.',\n",
       " \"25:7 And these are the days of the years of Abraham's life which he\\nlived, an hundred threescore and fifteen years.\",\n",
       " '25:8 Then Abraham gave up the ghost, and died in a good old age, an\\nold man, and full of years; and was gathered to his people.',\n",
       " '25:9 And his sons Isaac and Ishmael buried him in the cave of\\nMachpelah, in the field of Ephron the son of Zohar the Hittite, which\\nis before Mamre; 25:10 The field which Abraham purchased of the sons\\nof Heth: there was Abraham buried, and Sarah his wife.',\n",
       " '25:11 And it came to pass after the death of Abraham, that God blessed\\nhis son Isaac; and Isaac dwelt by the well Lahairoi.',\n",
       " \"25:12 Now these are the generations of Ishmael, Abraham's son, whom\\nHagar the Egyptian, Sarah's handmaid, bare unto Abraham: 25:13 And\\nthese are the names of the sons of Ishmael, by their names, according\\nto their generations: the firstborn of Ishmael, Nebajoth; and Kedar,\\nand Adbeel, and Mibsam, 25:14 And Mishma, and Dumah, and Massa, 25:15\\nHadar, and Tema, Jetur, Naphish, and Kedemah: 25:16 These are the sons\\nof Ishmael, and these are their names, by their towns, and by their\\ncastles; twelve princes according to their nations.\",\n",
       " '25:17 And these are the years of the life of Ishmael, an hundred and\\nthirty and seven years: and he gave up the ghost and died; and was\\ngathered unto his people.',\n",
       " '25:18 And they dwelt from Havilah unto Shur, that is before Egypt, as\\nthou goest toward Assyria: and he died in the presence of all his\\nbrethren.',\n",
       " \"25:19 And these are the generations of Isaac, Abraham's son: Abraham\\nbegat Isaac: 25:20 And Isaac was forty years old when he took Rebekah\\nto wife, the daughter of Bethuel the Syrian of Padanaram, the sister\\nto Laban the Syrian.\",\n",
       " '25:21 And Isaac intreated the LORD for his wife, because she was\\nbarren: and the LORD was intreated of him, and Rebekah his wife\\nconceived.',\n",
       " '25:22 And the children struggled together within her; and she said, If\\nit be so, why am I thus?',\n",
       " 'And she went to enquire of the LORD.',\n",
       " '25:23 And the LORD said unto her, Two nations are in thy womb, and two\\nmanner of people shall be separated from thy bowels; and the one\\npeople shall be stronger than the other people; and the elder shall\\nserve the younger.',\n",
       " '25:24 And when her days to be delivered were fulfilled, behold, there\\nwere twins in her womb.',\n",
       " '25:25 And the first came out red, all over like an hairy garment; and\\nthey called his name Esau.',\n",
       " \"25:26 And after that came his brother out, and his hand took hold on\\nEsau's heel; and his name was called Jacob: and Isaac was threescore\\nyears old when she bare them.\",\n",
       " '25:27 And the boys grew: and Esau was a cunning hunter, a man of the\\nfield; and Jacob was a plain man, dwelling in tents.',\n",
       " '25:28 And Isaac loved Esau, because he did eat of his venison: but\\nRebekah loved Jacob.',\n",
       " '25:29 And Jacob sod pottage: and Esau came from the field, and he was\\nfaint: 25:30 And Esau said to Jacob, Feed me, I pray thee, with that\\nsame red pottage; for I am faint: therefore was his name called Edom.',\n",
       " '25:31 And Jacob said, Sell me this day thy birthright.',\n",
       " '25:32 And Esau said, Behold, I am at the point to die: and what profit\\nshall this birthright do to me?',\n",
       " '25:33 And Jacob said, Swear to me\\nthis day; and he sware unto him: and he sold his birthright unto\\nJacob.',\n",
       " '25:34 Then Jacob gave Esau bread and pottage of lentiles; and he did\\neat and drink, and rose up, and went his way: thus Esau despised his\\nbirthright.',\n",
       " '26:1 And there was a famine in the land, beside the first famine that\\nwas in the days of Abraham.',\n",
       " 'And Isaac went unto Abimelech king of the\\nPhilistines unto Gerar.',\n",
       " '26:2 And the LORD appeared unto him, and said, Go not down into Egypt;\\ndwell in the land which I shall tell thee of: 26:3 Sojourn in this\\nland, and I will be with thee, and will bless thee; for unto thee, and\\nunto thy seed, I will give all these countries, and I will perform the\\noath which I sware unto Abraham thy father; 26:4 And I will make thy\\nseed to multiply as the stars of heaven, and will give unto thy seed\\nall these countries; and in thy seed shall all the nations of the\\nearth be blessed; 26:5 Because that Abraham obeyed my voice, and kept\\nmy charge, my commandments, my statutes, and my laws.',\n",
       " '26:6 And Isaac dwelt in Gerar: 26:7 And the men of the place asked him\\nof his wife; and he said, She is my sister: for he feared to say, She\\nis my wife; lest, said he, the men of the place should kill me for\\nRebekah; because she was fair to look upon.',\n",
       " '26:8 And it came to pass, when he had been there a long time, that\\nAbimelech king of the Philistines looked out at a window, and saw,\\nand, behold, Isaac was sporting with Rebekah his wife.',\n",
       " '26:9 And Abimelech called Isaac, and said, Behold, of a surety she is\\nthy wife; and how saidst thou, She is my sister?',\n",
       " 'And Isaac said unto\\nhim, Because I said, Lest I die for her.',\n",
       " '26:10 And Abimelech said, What is this thou hast done unto us?',\n",
       " 'one of\\nthe people might lightly have lien with thy wife, and thou shouldest\\nhave brought guiltiness upon us.',\n",
       " '26:11 And Abimelech charged all his people, saying, He that toucheth\\nthis man or his wife shall surely be put to death.',\n",
       " '26:12 Then Isaac sowed in that land, and received in the same year an\\nhundredfold: and the LORD blessed him.',\n",
       " '26:13 And the man waxed great, and went forward, and grew until he\\nbecame very great: 26:14 For he had possession of flocks, and\\npossession of herds, and great store of servants: and the Philistines\\nenvied him.',\n",
       " \"26:15 For all the wells which his father's servants had digged in the\\ndays of Abraham his father, the Philistines had stopped them, and\\nfilled them with earth.\",\n",
       " '26:16 And Abimelech said unto Isaac, Go from us; for thou art much\\nmightier than we.',\n",
       " '26:17 And Isaac departed thence, and pitched his tent in the valley of\\nGerar, and dwelt there.',\n",
       " '26:18 And Isaac digged again the wells of water, which they had digged\\nin the days of Abraham his father; for the Philistines had stopped\\nthem after the death of Abraham: and he called their names after the\\nnames by which his father had called them.',\n",
       " \"26:19 And Isaac's servants digged in the valley, and found there a\\nwell of springing water.\",\n",
       " \"26:20 And the herdmen of Gerar did strive with Isaac's herdmen,\\nsaying, The water is ours: and he called the name of the well Esek;\\nbecause they strove with him.\",\n",
       " '26:21 And they digged another well, and strove for that also: and he\\ncalled the name of it Sitnah.',\n",
       " '26:22 And he removed from thence, and digged another well; and for\\nthat they strove not: and he called the name of it Rehoboth; and he\\nsaid, For now the LORD hath made room for us, and we shall be fruitful\\nin the land.',\n",
       " '26:23 And he went up from thence to Beersheba.',\n",
       " \"26:24 And the LORD appeared unto him the same night, and said, I am\\nthe God of Abraham thy father: fear not, for I am with thee, and will\\nbless thee, and multiply thy seed for my servant Abraham's sake.\",\n",
       " \"26:25 And he builded an altar there, and called upon the name of the\\nLORD, and pitched his tent there: and there Isaac's servants digged a\\nwell.\",\n",
       " '26:26 Then Abimelech went to him from Gerar, and Ahuzzath one of his\\nfriends, and Phichol the chief captain of his army.',\n",
       " '26:27 And Isaac said unto them, Wherefore come ye to me, seeing ye\\nhate me, and have sent me away from you?',\n",
       " '26:28 And they said, We saw\\ncertainly that the LORD was with thee: and we said, Let there be now\\nan oath betwixt us, even betwixt us and thee, and let us make a\\ncovenant with thee; 26:29 That thou wilt do us no hurt, as we have not\\ntouched thee, and as we have done unto thee nothing but good, and have\\nsent thee away in peace: thou art now the blessed of the LORD.',\n",
       " '26:30 And he made them a feast, and they did eat and drink.',\n",
       " '26:31 And they rose up betimes in the morning, and sware one to\\nanother: and Isaac sent them away, and they departed from him in\\npeace.',\n",
       " \"26:32 And it came to pass the same day, that Isaac's servants came,\\nand told him concerning the well which they had digged, and said unto\\nhim, We have found water.\",\n",
       " '26:33 And he called it Shebah: therefore the name of the city is\\nBeersheba unto this day.',\n",
       " '26:34 And Esau was forty years old when he took to wife Judith the\\ndaughter of Beeri the Hittite, and Bashemath the daughter of Elon the\\nHittite: 26:35 Which were a grief of mind unto Isaac and to Rebekah.',\n",
       " '27:1 And it came to pass, that when Isaac was old, and his eyes were\\ndim, so that he could not see, he called Esau his eldest son, and said\\nunto him, My son: and he said unto him, Behold, here am I.',\n",
       " '27:2 And he said, Behold now, I am old, I know not the day of my\\ndeath: 27:3 Now therefore take, I pray thee, thy weapons, thy quiver\\nand thy bow, and go out to the field, and take me some venison; 27:4\\nAnd make me savoury meat, such as I love, and bring it to me, that I\\nmay eat; that my soul may bless thee before I die.',\n",
       " '27:5 And Rebekah heard when Isaac spake to Esau his son.',\n",
       " 'And Esau went\\nto the field to hunt for venison, and to bring it.',\n",
       " '27:6 And Rebekah spake unto Jacob her son, saying, Behold, I heard thy\\nfather speak unto Esau thy brother, saying, 27:7 Bring me venison, and\\nmake me savoury meat, that I may eat, and bless thee before the LORD\\nbefore my death.',\n",
       " '27:8 Now therefore, my son, obey my voice according to that which I\\ncommand thee.',\n",
       " '27:9 Go now to the flock, and fetch me from thence two good kids of\\nthe goats; and I will make them savoury meat for thy father, such as\\nhe loveth: 27:10 And thou shalt bring it to thy father, that he may\\neat, and that he may bless thee before his death.',\n",
       " '27:11 And Jacob said to Rebekah his mother, Behold, Esau my brother is\\na hairy man, and I am a smooth man: 27:12 My father peradventure will\\nfeel me, and I shall seem to him as a deceiver; and I shall bring a\\ncurse upon me, and not a blessing.',\n",
       " '27:13 And his mother said unto him, Upon me be thy curse, my son: only\\nobey my voice, and go fetch me them.',\n",
       " '27:14 And he went, and fetched, and brought them to his mother: and\\nhis mother made savoury meat, such as his father loved.',\n",
       " '27:15 And Rebekah took goodly raiment of her eldest son Esau, which\\nwere with her in the house, and put them upon Jacob her younger son:\\n27:16 And she put the skins of the kids of the goats upon his hands,\\nand upon the smooth of his neck: 27:17 And she gave the savoury meat\\nand the bread, which she had prepared, into the hand of her son Jacob.',\n",
       " '27:18 And he came unto his father, and said, My father: and he said,\\nHere am I; who art thou, my son?',\n",
       " '27:19 And Jacob said unto his\\nfather, I am Esau thy first born; I have done according as thou badest\\nme: arise, I pray thee, sit and eat of my venison, that thy soul may\\nbless me.',\n",
       " '27:20 And Isaac said unto his son, How is it that thou hast found it\\nso quickly, my son?',\n",
       " 'And he said, Because the LORD thy God brought it\\nto me.',\n",
       " '27:21 And Isaac said unto Jacob, Come near, I pray thee, that I may\\nfeel thee, my son, whether thou be my very son Esau or not.',\n",
       " \"27:22 And Jacob went near unto Isaac his father; and he felt him, and\\nsaid, The voice is Jacob's voice, but the hands are the hands of Esau.\",\n",
       " \"27:23 And he discerned him not, because his hands were hairy, as his\\nbrother Esau's hands: so he blessed him.\",\n",
       " '27:24 And he said, Art thou my very son Esau?',\n",
       " 'And he said, I am.',\n",
       " \"27:25 And he said, Bring it near to me, and I will eat of my son's\\nvenison, that my soul may bless thee.\",\n",
       " 'And he brought it near to him,\\nand he did eat: and he brought him wine and he drank.',\n",
       " '27:26 And his father Isaac said unto him, Come near now, and kiss me,\\nmy son.',\n",
       " \"27:27 And he came near, and kissed him: and he smelled the smell of\\nhis raiment, and blessed him, and said, See, the smell of my son is as\\nthe smell of a field which the LORD hath blessed: 27:28 Therefore God\\ngive thee of the dew of heaven, and the fatness of the earth, and\\nplenty of corn and wine: 27:29 Let people serve thee, and nations bow\\ndown to thee: be lord over thy brethren, and let thy mother's sons bow\\ndown to thee: cursed be every one that curseth thee, and blessed be he\\nthat blesseth thee.\",\n",
       " '27:30 And it came to pass, as soon as Isaac had made an end of\\nblessing Jacob, and Jacob was yet scarce gone out from the presence of\\nIsaac his father, that Esau his brother came in from his hunting.',\n",
       " \"27:31 And he also had made savoury meat, and brought it unto his\\nfather, and said unto his father, Let my father arise, and eat of his\\nson's venison, that thy soul may bless me.\",\n",
       " '27:32 And Isaac his father said unto him, Who art thou?',\n",
       " 'And he said, I\\nam thy son, thy firstborn Esau.',\n",
       " '27:33 And Isaac trembled very exceedingly, and said, Who?',\n",
       " 'where is he\\nthat hath taken venison, and brought it me, and I have eaten of all\\nbefore thou camest, and have blessed him?',\n",
       " 'yea, and he shall be\\nblessed.',\n",
       " '27:34 And when Esau heard the words of his father, he cried with a\\ngreat and exceeding bitter cry, and said unto his father, Bless me,\\neven me also, O my father.',\n",
       " '27:35 And he said, Thy brother came with subtilty, and hath taken away\\nthy blessing.',\n",
       " '27:36 And he said, Is not he rightly named Jacob?',\n",
       " 'for he hath\\nsupplanted me these two times: he took away my birthright; and,\\nbehold, now he hath taken away my blessing.',\n",
       " 'And he said, Hast thou not\\nreserved a blessing for me?',\n",
       " '27:37 And Isaac answered and said unto\\nEsau, Behold, I have made him thy lord, and all his brethren have I\\ngiven to him for servants; and with corn and wine have I sustained\\nhim: and what shall I do now unto thee, my son?',\n",
       " '27:38 And Esau said\\nunto his father, Hast thou but one blessing, my father?',\n",
       " 'bless me, even\\nme also, O my father.',\n",
       " 'And Esau lifted up his voice, and wept.',\n",
       " '27:39 And Isaac his father answered and said unto him, Behold, thy\\ndwelling shall be the fatness of the earth, and of the dew of heaven\\nfrom above; 27:40 And by thy sword shalt thou live, and shalt serve\\nthy brother; and it shall come to pass when thou shalt have the\\ndominion, that thou shalt break his yoke from off thy neck.',\n",
       " '27:41 And Esau hated Jacob because of the blessing wherewith his\\nfather blessed him: and Esau said in his heart, The days of mourning\\nfor my father are at hand; then will I slay my brother Jacob.',\n",
       " '27:42 And these words of Esau her elder son were told to Rebekah: and\\nshe sent and called Jacob her younger son, and said unto him, Behold,\\nthy brother Esau, as touching thee, doth comfort himself, purposing to\\nkill thee.',\n",
       " \"27:43 Now therefore, my son, obey my voice; arise, flee thou to Laban\\nmy brother to Haran; 27:44 And tarry with him a few days, until thy\\nbrother's fury turn away; 27:45 Until thy brother's anger turn away\\nfrom thee, and he forget that which thou hast done to him: then I will\\nsend, and fetch thee from thence: why should I be deprived also of you\\nboth in one day?\",\n",
       " '27:46 And Rebekah said to Isaac, I am weary of my\\nlife because of the daughters of Heth: if Jacob take a wife of the\\ndaughters of Heth, such as these which are of the daughters of the\\nland, what good shall my life do me?',\n",
       " '28:1 And Isaac called Jacob, and\\nblessed him, and charged him, and said unto him, Thou shalt not take a\\nwife of the daughters of Canaan.',\n",
       " \"28:2 Arise, go to Padanaram, to the house of Bethuel thy mother's\\nfather; and take thee a wife from thence of the daughers of Laban thy\\nmother's brother.\",\n",
       " '28:3 And God Almighty bless thee, and make thee fruitful, and multiply\\nthee, that thou mayest be a multitude of people; 28:4 And give thee\\nthe blessing of Abraham, to thee, and to thy seed with thee; that thou\\nmayest inherit the land wherein thou art a stranger, which God gave\\nunto Abraham.',\n",
       " \"28:5 And Isaac sent away Jacob: and he went to Padanaram unto Laban,\\nson of Bethuel the Syrian, the brother of Rebekah, Jacob's and Esau's\\nmother.\",\n",
       " \"28:6 When Esau saw that Isaac had blessed Jacob, and sent him away to\\nPadanaram, to take him a wife from thence; and that as he blessed him\\nhe gave him a charge, saying, Thou shalt not take a wife of the\\ndaughers of Canaan; 28:7 And that Jacob obeyed his father and his\\nmother, and was gone to Padanaram; 28:8 And Esau seeing that the\\ndaughters of Canaan pleased not Isaac his father; 28:9 Then went Esau\\nunto Ishmael, and took unto the wives which he had Mahalath the\\ndaughter of Ishmael Abraham's son, the sister of Nebajoth, to be his\\nwife.\",\n",
       " '28:10 And Jacob went out from Beersheba, and went toward Haran.',\n",
       " '28:11 And he lighted upon a certain place, and tarried there all\\nnight, because the sun was set; and he took of the stones of that\\nplace, and put them for his pillows, and lay down in that place to\\nsleep.',\n",
       " '28:12 And he dreamed, and behold a ladder set up on the earth, and the\\ntop of it reached to heaven: and behold the angels of God ascending\\nand descending on it.',\n",
       " '28:13 And, behold, the LORD stood above it, and said, I am the LORD\\nGod of Abraham thy father, and the God of Isaac: the land whereon thou\\nliest, to thee will I give it, and to thy seed; 28:14 And thy seed\\nshall be as the dust of the earth, and thou shalt spread abroad to the\\nwest, and to the east, and to the north, and to the south: and in thee\\nand in thy seed shall all the families of the earth be blessed.',\n",
       " '28:15 And, behold, I am with thee, and will keep thee in all places\\nwhither thou goest, and will bring thee again into this land; for I\\nwill not leave thee, until I have done that which I have spoken to\\nthee of.',\n",
       " '28:16 And Jacob awaked out of his sleep, and he said, Surely the LORD\\nis in this place; and I knew it not.',\n",
       " '28:17 And he was afraid, and said, How dreadful is this place!',\n",
       " 'this is\\nnone other but the house of God, and this is the gate of heaven.',\n",
       " '28:18 And Jacob rose up early in the morning, and took the stone that\\nhe had put for his pillows, and set it up for a pillar, and poured oil\\nupon the top of it.',\n",
       " '28:19 And he called the name of that place Bethel: but the name of\\nthat city was called Luz at the first.',\n",
       " \"28:20 And Jacob vowed a vow, saying, If God will be with me, and will\\nkeep me in this way that I go, and will give me bread to eat, and\\nraiment to put on, 28:21 So that I come again to my father's house in\\npeace; then shall the LORD be my God: 28:22 And this stone, which I\\nhave set for a pillar, shall be God's house: and of all that thou\\nshalt give me I will surely give the tenth unto thee.\",\n",
       " '29:1 Then Jacob went on his journey, and came into the land of the\\npeople of the east.',\n",
       " \"29:2 And he looked, and behold a well in the field, and, lo, there\\nwere three flocks of sheep lying by it; for out of that well they\\nwatered the flocks: and a great stone was upon the well's mouth.\",\n",
       " \"29:3 And thither were all the flocks gathered: and they rolled the\\nstone from the well's mouth, and watered the sheep, and put the stone\\nagain upon the well's mouth in his place.\",\n",
       " '29:4 And Jacob said unto them, My brethren, whence be ye?',\n",
       " 'And they\\nsaid, Of Haran are we.',\n",
       " '29:5 And he said unto them, Know ye Laban the son of Nahor?',\n",
       " 'And they\\nsaid, We know him.',\n",
       " '29:6 And he said unto them, Is he well?',\n",
       " 'And they said, He is well:\\nand, behold, Rachel his daughter cometh with the sheep.',\n",
       " '29:7 And he said, Lo, it is yet high day, neither is it time that the\\ncattle should be gathered together: water ye the sheep, and go and\\nfeed them.',\n",
       " \"29:8 And they said, We cannot, until all the flocks be gathered\\ntogether, and till they roll the stone from the well's mouth; then we\\nwater the sheep.\",\n",
       " \"29:9 And while he yet spake with them, Rachel came with her father's\\nsheep; for she kept them.\",\n",
       " \"29:10 And it came to pass, when Jacob saw Rachel the daughter of Laban\\nhis mother's brother, and the sheep of Laban his mother's brother,\\nthat Jacob went near, and rolled the stone from the well's mouth, and\\nwatered the flock of Laban his mother's brother.\",\n",
       " '29:11 And Jacob kissed Rachel, and lifted up his voice, and wept.',\n",
       " \"29:12 And Jacob told Rachel that he was her father's brother, and that\\nhe was Rebekah's son: and she ran and told her father.\",\n",
       " \"29:13 And it came to pass, when Laban heard the tidings of Jacob his\\nsister's son, that he ran to meet him, and embraced him, and kissed\\nhim, and brought him to his house.\",\n",
       " 'And he told Laban all these things.',\n",
       " '29:14 And Laban said to him, Surely thou art my bone and my flesh.',\n",
       " 'And\\nhe abode with him the space of a month.',\n",
       " '29:15 And Laban said unto Jacob, Because thou art my brother,\\nshouldest thou therefore serve me for nought?',\n",
       " 'tell me, what shall thy\\nwages be?',\n",
       " '29:16 And Laban had two daughters: the name of the elder\\nwas Leah, and the name of the younger was Rachel.',\n",
       " '29:17 Leah was tender eyed; but Rachel was beautiful and well\\nfavoured.',\n",
       " '29:18 And Jacob loved Rachel; and said, I will serve thee seven years\\nfor Rachel thy younger daughter.',\n",
       " '29:19 And Laban said, It is better that I give her to thee, than that\\nI should give her to another man: abide with me.',\n",
       " '29:20 And Jacob served seven years for Rachel; and they seemed unto\\nhim but a few days, for the love he had to her.',\n",
       " '29:21 And Jacob said unto Laban, Give me my wife, for my days are\\nfulfilled, that I may go in unto her.',\n",
       " '29:22 And Laban gathered together all the men of the place, and made a\\nfeast.',\n",
       " '29:23 And it came to pass in the evening, that he took Leah his\\ndaughter, and brought her to him; and he went in unto her.',\n",
       " '29:24 And Laban gave unto his daughter Leah Zilpah his maid for an\\nhandmaid.',\n",
       " '29:25 And it came to pass, that in the morning, behold, it was Leah:\\nand he said to Laban, What is this thou hast done unto me?',\n",
       " 'did not I\\nserve with thee for Rachel?',\n",
       " 'wherefore then hast thou beguiled me?',\n",
       " '29:26 And Laban said, It must not be so done in our country, to give\\nthe younger before the firstborn.',\n",
       " '29:27 Fulfil her week, and we will give thee this also for the service\\nwhich thou shalt serve with me yet seven other years.',\n",
       " '29:28 And Jacob did so, and fulfilled her week: and he gave him Rachel\\nhis daughter to wife also.',\n",
       " '29:29 And Laban gave to Rachel his daughter Bilhah his handmaid to be\\nher maid.',\n",
       " '29:30 And he went in also unto Rachel, and he loved also Rachel more\\nthan Leah, and served with him yet seven other years.',\n",
       " '29:31 And when the LORD saw that Leah was hated, he opened her womb:\\nbut Rachel was barren.',\n",
       " '29:32 And Leah conceived, and bare a son, and she called his name\\nReuben: for she said, Surely the LORD hath looked upon my affliction;\\nnow therefore my husband will love me.',\n",
       " '29:33 And she conceived again, and bare a son; and said, Because the\\nLORD hath heard I was hated, he hath therefore given me this son also:\\nand she called his name Simeon.',\n",
       " '29:34 And she conceived again, and bare a son; and said, Now this time\\nwill my husband be joined unto me, because I have born him three sons:\\ntherefore was his name called Levi.',\n",
       " '29:35 And she conceived again, and bare a son: and she said, Now will\\nI praise the LORD: therefore she called his name Judah; and left\\nbearing.',\n",
       " '30:1 And when Rachel saw that she bare Jacob no children, Rachel\\nenvied her sister; and said unto Jacob, Give me children, or else I\\ndie.',\n",
       " \"30:2 And Jacob's anger was kindled against Rachel: and he said, Am I\\nin God's stead, who hath withheld from thee the fruit of the womb?\",\n",
       " '30:3 And she said, Behold my maid Bilhah, go in unto her; and she\\nshall bear upon my knees, that I may also have children by her.',\n",
       " '30:4 And she gave him Bilhah her handmaid to wife: and Jacob went in\\nunto her.',\n",
       " '30:5 And Bilhah conceived, and bare Jacob a son.',\n",
       " '30:6 And Rachel said, God hath judged me, and hath also heard my\\nvoice, and hath given me a son: therefore called she his name Dan.',\n",
       " \"30:7 And Bilhah Rachel's maid conceived again, and bare Jacob a second\\nson.\",\n",
       " '30:8 And Rachel said, With great wrestlings have I wrestled with my\\nsister, and I have prevailed: and she called his name Naphtali.',\n",
       " '30:9 When Leah saw that she had left bearing, she took Zilpah her\\nmaid, and gave her Jacob to wife.',\n",
       " \"30:10 And Zilpah Leah's maid bare Jacob a son.\",\n",
       " '30:11 And Leah said, A troop cometh: and she called his name Gad.',\n",
       " \"30:12 And Zilpah Leah's maid bare Jacob a second son.\",\n",
       " '30:13 And Leah said, Happy am I, for the daughters will call me\\nblessed: and she called his name Asher.',\n",
       " '30:14 And Reuben went in the days of wheat harvest, and found\\nmandrakes in the field, and brought them unto his mother Leah.',\n",
       " \"Then\\nRachel said to Leah, Give me, I pray thee, of thy son's mandrakes.\",\n",
       " '30:15 And she said unto her, Is it a small matter that thou hast taken\\nmy husband?',\n",
       " \"and wouldest thou take away my son's mandrakes also?\",\n",
       " \"And\\nRachel said, Therefore he shall lie with thee to night for thy son's\\nmandrakes.\",\n",
       " \"30:16 And Jacob came out of the field in the evening, and Leah went\\nout to meet him, and said, Thou must come in unto me; for surely I\\nhave hired thee with my son's mandrakes.\",\n",
       " 'And he lay with her that\\nnight.',\n",
       " '30:17 And God hearkened unto Leah, and she conceived, and bare Jacob\\nthe fifth son.',\n",
       " '30:18 And Leah said, God hath given me my hire, because I have given\\nmy maiden to my husband: and she called his name Issachar.',\n",
       " '30:19 And Leah conceived again, and bare Jacob the sixth son.',\n",
       " '30:20 And Leah said, God hath endued me with a good dowry; now will my\\nhusband dwell with me, because I have born him six sons: and she\\ncalled his name Zebulun.',\n",
       " '30:21 And afterwards she bare a daughter, and called her name Dinah.',\n",
       " '30:22 And God remembered Rachel, and God hearkened to her, and opened\\nher womb.',\n",
       " '30:23 And she conceived, and bare a son; and said, God hath taken away\\nmy reproach: 30:24 And she called his name Joseph; and said, The LORD\\nshall add to me another son.',\n",
       " '30:25 And it came to pass, when Rachel had born Joseph, that Jacob\\nsaid unto Laban, Send me away, that I may go unto mine own place, and\\nto my country.',\n",
       " '30:26 Give me my wives and my children, for whom I have served thee,\\nand let me go: for thou knowest my service which I have done thee.',\n",
       " '30:27 And Laban said unto him, I pray thee, if I have found favour in\\nthine eyes, tarry: for I have learned by experience that the LORD hath\\nblessed me for thy sake.',\n",
       " '30:28 And he said, Appoint me thy wages, and I will give it.',\n",
       " '30:29 And he said unto him, Thou knowest how I have served thee, and\\nhow thy cattle was with me.',\n",
       " '30:30 For it was little which thou hadst before I came, and it is now\\nincreased unto a multitude; and the LORD hath blessed thee since my\\ncoming: and now when shall I provide for mine own house also?',\n",
       " '30:31\\nAnd he said, What shall I give thee?',\n",
       " 'And Jacob said, Thou shalt not\\ngive me any thing: if thou wilt do this thing for me, I will again\\nfeed and keep thy flock.',\n",
       " '30:32 I will pass through all thy flock to day, removing from thence\\nall the speckled and spotted cattle, and all the brown cattle among\\nthe sheep, and the spotted and speckled among the goats: and of such\\nshall be my hire.',\n",
       " '30:33 So shall my righteousness answer for me in time to come, when it\\nshall come for my hire before thy face: every one that is not speckled\\nand spotted among the goats, and brown among the sheep, that shall be\\ncounted stolen with me.',\n",
       " '30:34 And Laban said, Behold, I would it might be according to thy\\nword.',\n",
       " '30:35 And he removed that day the he goats that were ringstraked and\\nspotted, and all the she goats that were speckled and spotted, and\\nevery one that had some white in it, and all the brown among the\\nsheep, and gave them into the hand of his sons.',\n",
       " \"30:36 And he set three days' journey betwixt himself and Jacob: and\\nJacob fed the rest of Laban's flocks.\",\n",
       " '30:37 And Jacob took him rods of green poplar, and of the hazel and\\nchesnut tree; and pilled white strakes in them, and made the white\\nappear which was in the rods.',\n",
       " '30:38 And he set the rods which he had pilled before the flocks in the\\ngutters in the watering troughs when the flocks came to drink, that\\nthey should conceive when they came to drink.',\n",
       " '30:39 And the flocks conceived before the rods, and brought forth\\ncattle ringstraked, speckled, and spotted.',\n",
       " \"30:40 And Jacob did separate the lambs, and set the faces of the\\nflocks toward the ringstraked, and all the brown in the flock of\\nLaban; and he put his own flocks by themselves, and put them not unto\\nLaban's cattle.\",\n",
       " '30:41 And it came to pass, whensoever the stronger cattle did\\nconceive, that Jacob laid the rods before the eyes of the cattle in\\nthe gutters, that they might conceive among the rods.',\n",
       " \"30:42 But when the cattle were feeble, he put them not in: so the\\nfeebler were Laban's, and the stronger Jacob's.\",\n",
       " '30:43 And the man increased exceedingly, and had much cattle, and\\nmaidservants, and menservants, and camels, and asses.',\n",
       " \"31:1 And he heard the words of Laban's sons, saying, Jacob hath taken\\naway all that was our father's; and of that which was our father's\\nhath he gotten all this glory.\",\n",
       " '31:2 And Jacob beheld the countenance of Laban, and, behold, it was\\nnot toward him as before.',\n",
       " '31:3 And the LORD said unto Jacob, Return unto the land of thy\\nfathers, and to thy kindred; and I will be with thee.',\n",
       " \"31:4 And Jacob sent and called Rachel and Leah to the field unto his\\nflock, 31:5 And said unto them, I see your father's countenance, that\\nit is not toward me as before; but the God of my father hath been with\\nme.\",\n",
       " '31:6 And ye know that with all my power I have served your father.',\n",
       " '31:7 And your father hath deceived me, and changed my wages ten times;\\nbut God suffered him not to hurt me.',\n",
       " '31:8 If he said thus, The speckled shall be thy wages; then all the\\ncattle bare speckled: and if he said thus, The ringstraked shall be\\nthy hire; then bare all the cattle ringstraked.',\n",
       " '31:9 Thus God hath taken away the cattle of your father, and given\\nthem to me.',\n",
       " '31:10 And it came to pass at the time that the cattle conceived, that\\nI lifted up mine eyes, and saw in a dream, and, behold, the rams which\\nleaped upon the cattle were ringstraked, speckled, and grisled.',\n",
       " '31:11 And the angel of God spake unto me in a dream, saying, Jacob:\\nAnd I said, Here am I.',\n",
       " '31:12 And he said, Lift up now thine eyes, and see, all the rams which\\nleap upon the cattle are ringstraked, speckled, and grisled: for I\\nhave seen all that Laban doeth unto thee.',\n",
       " '31:13 I am the God of Bethel, where thou anointedst the pillar, and\\nwhere thou vowedst a vow unto me: now arise, get thee out from this\\nland, and return unto the land of thy kindred.',\n",
       " \"31:14 And Rachel and Leah answered and said unto him, Is there yet any\\nportion or inheritance for us in our father's house?\",\n",
       " '31:15 Are we not\\ncounted of him strangers?',\n",
       " 'for he hath sold us, and hath quite devoured\\nalso our money.',\n",
       " \"31:16 For all the riches which God hath taken from our father, that is\\nours, and our children's: now then, whatsoever God hath said unto\\nthee, do.\",\n",
       " '31:17 Then Jacob rose up, and set his sons and his wives upon camels;\\n31:18 And he carried away all his cattle, and all his goods which he\\nhad gotten, the cattle of his getting, which he had gotten in\\nPadanaram, for to go to Isaac his father in the land of Canaan.',\n",
       " \"31:19 And Laban went to shear his sheep: and Rachel had stolen the\\nimages that were her father's.\",\n",
       " '31:20 And Jacob stole away unawares to Laban the Syrian, in that he\\ntold him not that he fled.',\n",
       " '31:21 So he fled with all that he had; and he rose up, and passed over\\nthe river, and set his face toward the mount Gilead.',\n",
       " '31:22 And it was told Laban on the third day that Jacob was fled.',\n",
       " \"31:23 And he took his brethren with him, and pursued after him seven\\ndays' journey; and they overtook him in the mount Gilead.\",\n",
       " '31:24 And God came to Laban the Syrian in a dream by night, and said\\nunto him, Take heed that thou speak not to Jacob either good or bad.',\n",
       " '31:25 Then Laban overtook Jacob.',\n",
       " 'Now Jacob had pitched his tent in the\\nmount: and Laban with his brethren pitched in the mount of Gilead.',\n",
       " '31:26 And Laban said to Jacob, What hast thou done, that thou hast\\nstolen away unawares to me, and carried away my daughters, as captives\\ntaken with the sword?',\n",
       " '31:27 Wherefore didst thou flee away secretly,\\nand steal away from me; and didst not tell me, that I might have sent\\nthee away with mirth, and with songs, with tabret, and with harp?',\n",
       " '31:28 And hast not suffered me to kiss my sons and my daughters?',\n",
       " 'thou\\nhast now done foolishly in so doing.',\n",
       " '31:29 It is in the power of my hand to do you hurt: but the God of\\nyour father spake unto me yesternight, saying, Take thou heed that\\nthou speak not to Jacob either good or bad.',\n",
       " \"31:30 And now, though thou wouldest needs be gone, because thou sore\\nlongedst after thy father's house, yet wherefore hast thou stolen my\\ngods?\",\n",
       " '31:31 And Jacob answered and said to Laban, Because I was\\nafraid: for I said, Peradventure thou wouldest take by force thy\\ndaughters from me.',\n",
       " '31:32 With whomsoever thou findest thy gods, let him not live: before\\nour brethren discern thou what is thine with me, and take it to thee.',\n",
       " 'For Jacob knew not that Rachel had stolen them.',\n",
       " \"31:33 And Laban went into Jacob's tent, and into Leah's tent, and into\\nthe two maidservants' tents; but he found them not.\",\n",
       " \"Then went he out\\nof Leah's tent, and entered into Rachel's tent.\",\n",
       " \"31:34 Now Rachel had taken the images, and put them in the camel's\\nfurniture, and sat upon them.\",\n",
       " 'And Laban searched all the tent, but\\nfound them not.',\n",
       " '31:35 And she said to her father, Let it not displease my lord that I\\ncannot rise up before thee; for the custom of women is upon me.',\n",
       " 'And he\\nsearched but found not the images.',\n",
       " '31:36 And Jacob was wroth, and chode with Laban: and Jacob answered\\nand said to Laban, What is my trespass?',\n",
       " 'what is my sin, that thou hast\\nso hotly pursued after me?',\n",
       " '31:37 Whereas thou hast searched all my\\nstuff, what hast thou found of all thy household stuff?',\n",
       " 'set it here\\nbefore my brethren and thy brethren, that they may judge betwixt us\\nboth.',\n",
       " '31:38 This twenty years have I been with thee; thy ewes and thy she\\ngoats have not cast their young, and the rams of thy flock have I not\\neaten.',\n",
       " '31:39 That which was torn of beasts I brought not unto thee; I bare\\nthe loss of it; of my hand didst thou require it, whether stolen by\\nday, or stolen by night.',\n",
       " '31:40 Thus I was; in the day the drought consumed me, and the frost by\\nnight; and my sleep departed from mine eyes.',\n",
       " '31:41 Thus have I been twenty years in thy house; I served thee\\nfourteen years for thy two daughters, and six years for thy cattle:\\nand thou hast changed my wages ten times.',\n",
       " '31:42 Except the God of my father, the God of Abraham, and the fear of\\nIsaac, had been with me, surely thou hadst sent me away now empty.',\n",
       " 'God\\nhath seen mine affliction and the labour of my hands, and rebuked thee\\nyesternight.',\n",
       " '31:43 And Laban answered and said unto Jacob, These daughters are my\\ndaughters, and these children are my children, and these cattle are my\\ncattle, and all that thou seest is mine: and what can I do this day\\nunto these my daughters, or unto their children which they have born?',\n",
       " '31:44 Now therefore come thou, let us make a covenant, I and thou; and\\nlet it be for a witness between me and thee.',\n",
       " '31:45 And Jacob took a stone, and set it up for a pillar.',\n",
       " '31:46 And Jacob said unto his brethren, Gather stones; and they took\\nstones, and made an heap: and they did eat there upon the heap.',\n",
       " '31:47 And Laban called it Jegarsahadutha: but Jacob called it Galeed.',\n",
       " '31:48 And Laban said, This heap is a witness between me and thee this\\nday.',\n",
       " 'Therefore was the name of it called Galeed; 31:49 And Mizpah; for he\\nsaid, The LORD watch between me and thee, when we are absent one from\\nanother.',\n",
       " '31:50 If thou shalt afflict my daughters, or if thou shalt take other\\nwives beside my daughters, no man is with us; see, God is witness\\nbetwixt me and thee.',\n",
       " '31:51 And Laban said to Jacob, Behold this heap, and behold this\\npillar, which I have cast betwixt me and thee: 31:52 This heap be\\nwitness, and this pillar be witness, that I will not pass over this\\nheap to thee, and that thou shalt not pass over this heap and this\\npillar unto me, for harm.',\n",
       " '31:53 The God of Abraham, and the God of Nahor, the God of their\\nfather, judge betwixt us.',\n",
       " 'And Jacob sware by the fear of his father\\nIsaac.',\n",
       " '31:54 Then Jacob offered sacrifice upon the mount, and called his\\nbrethren to eat bread: and they did eat bread, and tarried all night\\nin the mount.',\n",
       " '31:55 And early in the morning Laban rose up, and kissed his sons and\\nhis daughters, and blessed them: and Laban departed, and returned unto\\nhis place.',\n",
       " '32:1 And Jacob went on his way, and the angels of God met him.',\n",
       " \"32:2 And when Jacob saw them, he said, This is God's host: and he\\ncalled the name of that place Mahanaim.\",\n",
       " '32:3 And Jacob sent messengers before him to Esau his brother unto the\\nland of Seir, the country of Edom.',\n",
       " '32:4 And he commanded them, saying, Thus shall ye speak unto my lord\\nEsau; Thy servant Jacob saith thus, I have sojourned with Laban, and\\nstayed there until now: 32:5 And I have oxen, and asses, flocks, and\\nmenservants, and womenservants: and I have sent to tell my lord, that\\nI may find grace in thy sight.',\n",
       " '32:6 And the messengers returned to Jacob, saying, We came to thy\\nbrother Esau, and also he cometh to meet thee, and four hundred men\\nwith him.',\n",
       " '32:7 Then Jacob was greatly afraid and distressed: and he divided the\\npeople that was with him, and the flocks, and herds, and the camels,\\ninto two bands; 32:8 And said, If Esau come to the one company, and\\nsmite it, then the other company which is left shall escape.',\n",
       " '32:9 And Jacob said, O God of my father Abraham, and God of my father\\nIsaac, the LORD which saidst unto me, Return unto thy country, and to\\nthy kindred, and I will deal well with thee: 32:10 I am not worthy of\\nthe least of all the mercies, and of all the truth, which thou hast\\nshewed unto thy servant; for with my staff I passed over this Jordan;\\nand now I am become two bands.',\n",
       " '32:11 Deliver me, I pray thee, from the hand of my brother, from the\\nhand of Esau: for I fear him, lest he will come and smite me, and the\\nmother with the children.',\n",
       " '32:12 And thou saidst, I will surely do thee good, and make thy seed\\nas the sand of the sea, which cannot be numbered for multitude.',\n",
       " '32:13 And he lodged there that same night; and took of that which came\\nto his hand a present for Esau his brother; 32:14 Two hundred she\\ngoats, and twenty he goats, two hundred ewes, and twenty rams, 32:15\\nThirty milch camels with their colts, forty kine, and ten bulls,\\ntwenty she asses, and ten foals.',\n",
       " '32:16 And he delivered them into the hand of his servants, every drove\\nby themselves; and said unto his servants, Pass over before me, and\\nput a space betwixt drove and drove.',\n",
       " '32:17 And he commanded the foremost, saying, When Esau my brother\\nmeeteth thee, and asketh thee, saying, Whose art thou?',\n",
       " 'and whither\\ngoest thou?',\n",
       " 'and whose are these before thee?',\n",
       " \"32:18 Then thou shalt\\nsay, They be thy servant Jacob's; it is a present sent unto my lord\\nEsau: and, behold, also he is behind us.\",\n",
       " '32:19 And so commanded he the second, and the third, and all that\\nfollowed the droves, saying, On this manner shall ye speak unto Esau,\\nwhen ye find him.',\n",
       " '32:20 And say ye moreover, Behold, thy servant Jacob is behind us.',\n",
       " 'For\\nhe said, I will appease him with the present that goeth before me, and\\nafterward I will see his face; peradventure he will accept of me.',\n",
       " '32:21 So went the present over before him: and himself lodged that\\nnight in the company.',\n",
       " '32:22 And he rose up that night, and took his two wives, and his two\\nwomenservants, and his eleven sons, and passed over the ford Jabbok.',\n",
       " '32:23 And he took them, and sent them over the brook, and sent over\\nthat he had.',\n",
       " '32:24 And Jacob was left alone; and there wrestled a man with him\\nuntil the breaking of the day.',\n",
       " \"32:25 And when he saw that he prevailed not against him, he touched\\nthe hollow of his thigh; and the hollow of Jacob's thigh was out of\\njoint, as he wrestled with him.\",\n",
       " '32:26 And he said, Let me go, for the day breaketh.',\n",
       " 'And he said, I\\nwill not let thee go, except thou bless me.',\n",
       " '32:27 And he said unto him, What is thy name?',\n",
       " 'And he said, Jacob.',\n",
       " '32:28 And he said, Thy name shall be called no more Jacob, but Israel:\\nfor as a prince hast thou power with God and with men, and hast\\nprevailed.',\n",
       " '32:29 And Jacob asked him, and said, Tell me, I pray thee, thy name.',\n",
       " 'And he said, Wherefore is it that thou dost ask after my name?',\n",
       " 'And he\\nblessed him there.',\n",
       " '32:30 And Jacob called the name of the place Peniel: for I have seen\\nGod face to face, and my life is preserved.',\n",
       " '32:31 And as he passed over Penuel the sun rose upon him, and he\\nhalted upon his thigh.',\n",
       " \"32:32 Therefore the children of Israel eat not of the sinew which\\nshrank, which is upon the hollow of the thigh, unto this day: because\\nhe touched the hollow of Jacob's thigh in the sinew that shrank.\",\n",
       " '33:1 And Jacob lifted up his eyes, and looked, and, behold, Esau came,\\nand with him four hundred men.',\n",
       " 'And he divided the children unto Leah,\\nand unto Rachel, and unto the two handmaids.',\n",
       " '33:2 And he put the handmaids and their children foremost, and Leah\\nand her children after, and Rachel and Joseph hindermost.',\n",
       " '33:3 And he passed over before them, and bowed himself to the ground\\nseven times, until he came near to his brother.',\n",
       " '33:4 And Esau ran to meet him, and embraced him, and fell on his neck,\\nand kissed him: and they wept.',\n",
       " '33:5 And he lifted up his eyes, and saw the women and the children;\\nand said, Who are those with thee?',\n",
       " 'And he said, The children which God\\nhath graciously given thy servant.',\n",
       " '33:6 Then the handmaidens came near, they and their children, and they\\nbowed themselves.',\n",
       " '33:7 And Leah also with her children came near, and bowed themselves:\\nand after came Joseph near and Rachel, and they bowed themselves.',\n",
       " '33:8 And he said, What meanest thou by all this drove which I met?',\n",
       " 'And\\nhe said, These are to find grace in the sight of my lord.',\n",
       " '33:9 And Esau said, I have enough, my brother; keep that thou hast\\nunto thyself.',\n",
       " '33:10 And Jacob said, Nay, I pray thee, if now I have found grace in\\nthy sight, then receive my present at my hand: for therefore I have\\nseen thy face, as though I had seen the face of God, and thou wast\\npleased with me.',\n",
       " '33:11 Take, I pray thee, my blessing that is brought to thee; because\\nGod hath dealt graciously with me, and because I have enough.',\n",
       " 'And he\\nurged him, and he took it.',\n",
       " '33:12 And he said, Let us take our journey, and let us go, and I will\\ngo before thee.',\n",
       " '33:13 And he said unto him, My lord knoweth that the children are\\ntender, and the flocks and herds with young are with me: and if men\\nshould overdrive them one day, all the flock will die.',\n",
       " '33:14 Let my lord, I pray thee, pass over before his servant: and I\\nwill lead on softly, according as the cattle that goeth before me and\\nthe children be able to endure, until I come unto my lord unto Seir.',\n",
       " '33:15 And Esau said, Let me now leave with thee some of the folk that\\nare with me.',\n",
       " 'And he said, What needeth it?',\n",
       " 'let me find grace in the\\nsight of my lord.',\n",
       " '33:16 So Esau returned that day on his way unto Seir.',\n",
       " '33:17 And Jacob journeyed to Succoth, and built him an house, and made\\nbooths for his cattle: therefore the name of the place is called\\nSuccoth.',\n",
       " '33:18 And Jacob came to Shalem, a city of Shechem, which is in the\\nland of Canaan, when he came from Padanaram; and pitched his tent\\nbefore the city.',\n",
       " \"33:19 And he bought a parcel of a field, where he had spread his tent,\\nat the hand of the children of Hamor, Shechem's father, for an hundred\\npieces of money.\",\n",
       " '33:20 And he erected there an altar, and called it EleloheIsrael.',\n",
       " '34:1 And Dinah the daughter of Leah, which she bare unto Jacob, went\\nout to see the daughters of the land.',\n",
       " '34:2 And when Shechem the son of Hamor the Hivite, prince of the\\ncountry, saw her, he took her, and lay with her, and defiled her.',\n",
       " '34:3 And his soul clave unto Dinah the daughter of Jacob, and he loved\\nthe damsel, and spake kindly unto the damsel.',\n",
       " '34:4 And Shechem spake unto his father Hamor, saying, Get me this\\ndamsel to wife.',\n",
       " '34:5 And Jacob heard that he had defiled Dinah his daughter: now his\\nsons were with his cattle in the field: and Jacob held his peace until\\nthey were come.',\n",
       " '34:6 And Hamor the father of Shechem went out unto Jacob to commune\\nwith him.',\n",
       " \"34:7 And the sons of Jacob came out of the field when they heard it:\\nand the men were grieved, and they were very wroth, because he had\\nwrought folly in Israel in lying with Jacob's daughter: which thing\\nought not to be done.\",\n",
       " '34:8 And Hamor communed with them, saying, The soul of my son Shechem\\nlongeth for your daughter: I pray you give her him to wife.',\n",
       " '34:9 And make ye marriages with us, and give your daughters unto us,\\nand take our daughters unto you.',\n",
       " '34:10 And ye shall dwell with us: and the land shall be before you;\\ndwell and trade ye therein, and get you possessions therein.',\n",
       " '34:11 And Shechem said unto her father and unto her brethren, Let me\\nfind grace in your eyes, and what ye shall say unto me I will give.',\n",
       " '34:12 Ask me never so much dowry and gift, and I will give according\\nas ye shall say unto me: but give me the damsel to wife.',\n",
       " '34:13 And the sons of Jacob answered Shechem and Hamor his father\\ndeceitfully, and said, because he had defiled Dinah their sister:\\n34:14 And they said unto them, We cannot do this thing, to give our\\nsister to one that is uncircumcised; for that were a reproach unto us:\\n34:15 But in this will we consent unto you: If ye will be as we be,\\nthat every male of you be circumcised; 34:16 Then will we give our\\ndaughters unto you, and we will take your daughters to us, and we will\\ndwell with you, and we will become one people.',\n",
       " '34:17 But if ye will not hearken unto us, to be circumcised; then will\\nwe take our daughter, and we will be gone.',\n",
       " \"34:18 And their words pleased Hamor, and Shechem Hamor's son.\",\n",
       " \"34:19 And the young man deferred not to do the thing, because he had\\ndelight in Jacob's daughter: and he was more honourable than all the\\nhouse of his father.\",\n",
       " '34:20 And Hamor and Shechem his son came unto the gate of their city,\\nand communed with the men of their city, saying, 34:21 These men are\\npeaceable with us; therefore let them dwell in the land, and trade\\ntherein; for the land, behold, it is large enough for them; let us\\ntake their daughters to us for wives, and let us give them our\\ndaughters.',\n",
       " '34:22 Only herein will the men consent unto us for to dwell with us,\\nto be one people, if every male among us be circumcised, as they are\\ncircumcised.',\n",
       " \"34:23 Shall not their cattle and their substance and every beast of\\ntheir's be our's?\",\n",
       " 'only let us consent unto them, and they will dwell\\nwith us.',\n",
       " '34:24 And unto Hamor and unto Shechem his son hearkened all that went\\nout of the gate of his city; and every male was circumcised, all that\\nwent out of the gate of his city.',\n",
       " \"34:25 And it came to pass on the third day, when they were sore, that\\ntwo of the sons of Jacob, Simeon and Levi, Dinah's brethren, took each\\nman his sword, and came upon the city boldly, and slew all the males.\",\n",
       " \"34:26 And they slew Hamor and Shechem his son with the edge of the\\nsword, and took Dinah out of Shechem's house, and went out.\",\n",
       " '34:27 The sons of Jacob came upon the slain, and spoiled the city,\\nbecause they had defiled their sister.',\n",
       " '34:28 They took their sheep, and their oxen, and their asses, and that\\nwhich was in the city, and that which was in the field, 34:29 And all\\ntheir wealth, and all their little ones, and their wives took they\\ncaptive, and spoiled even all that was in the house.',\n",
       " '34:30 And Jacob said to Simeon and Levi, Ye have troubled me to make\\nme to stink among the inhabitants of the land, among the Canaanites\\nand the Perizzites: and I being few in number, they shall gather\\nthemselves together against me, and slay me; and I shall be destroyed,\\nI and my house.',\n",
       " '34:31 And they said, Should he deal with our sister as with an harlot?',\n",
       " '35:1 And God said unto Jacob, Arise, go up to Bethel, and dwell there:\\nand make there an altar unto God, that appeared unto thee when thou\\nfleddest from the face of Esau thy brother.',\n",
       " '35:2 Then Jacob said unto his household, and to all that were with\\nhim, Put away the strange gods that are among you, and be clean, and\\nchange your garments: 35:3 And let us arise, and go up to Bethel; and\\nI will make there an altar unto God, who answered me in the day of my\\ndistress, and was with me in the way which I went.',\n",
       " '35:4 And they gave unto Jacob all the strange gods which were in their\\nhand, and all their earrings which were in their ears; and Jacob hid\\nthem under the oak which was by Shechem.',\n",
       " '35:5 And they journeyed: and the terror of God was upon the cities\\nthat were round about them, and they did not pursue after the sons of\\nJacob.',\n",
       " '35:6 So Jacob came to Luz, which is in the land of Canaan, that is,\\nBethel, he and all the people that were with him.',\n",
       " '35:7 And he built there an altar, and called the place Elbethel:\\nbecause there God appeared unto him, when he fled from the face of his\\nbrother.',\n",
       " \"35:8 But Deborah Rebekah's nurse died, and she was buried beneath\\nBethel under an oak: and the name of it was called Allonbachuth.\",\n",
       " '35:9 And God appeared unto Jacob again, when he came out of Padanaram,\\nand blessed him.',\n",
       " '35:10 And God said unto him, Thy name is Jacob: thy name shall not be\\ncalled any more Jacob, but Israel shall be thy name: and he called his\\nname Israel.',\n",
       " '35:11 And God said unto him, I am God Almighty: be fruitful and\\nmultiply; a nation and a company of nations shall be of thee, and\\nkings shall come out of thy loins; 35:12 And the land which I gave\\nAbraham and Isaac, to thee I will give it, and to thy seed after thee\\nwill I give the land.',\n",
       " '35:13 And God went up from him in the place where he talked with him.',\n",
       " '35:14 And Jacob set up a pillar in the place where he talked with him,\\neven a pillar of stone: and he poured a drink offering thereon, and he\\npoured oil thereon.',\n",
       " '35:15 And Jacob called the name of the place where God spake with him,\\nBethel.',\n",
       " '35:16 And they journeyed from Bethel; and there was but a little way\\nto come to Ephrath: and Rachel travailed, and she had hard labour.',\n",
       " '35:17 And it came to pass, when she was in hard labour, that the\\nmidwife said unto her, Fear not; thou shalt have this son also.',\n",
       " '35:18 And it came to pass, as her soul was in departing, (for she\\ndied) that she called his name Benoni: but his father called him\\nBenjamin.',\n",
       " '35:19 And Rachel died, and was buried in the way to Ephrath, which is\\nBethlehem.',\n",
       " \"35:20 And Jacob set a pillar upon her grave: that is the pillar of\\nRachel's grave unto this day.\",\n",
       " '35:21 And Israel journeyed, and spread his tent beyond the tower of\\nEdar.',\n",
       " \"35:22 And it came to pass, when Israel dwelt in that land, that Reuben\\nwent and lay with Bilhah his father's concubine: and Israel heard it.\",\n",
       " \"Now the sons of Jacob were twelve: 35:23 The sons of Leah; Reuben,\\nJacob's firstborn, and Simeon, and Levi, and Judah, and Issachar, and\\nZebulun: 35:24 The sons of Rachel; Joseph, and Benjamin: 35:25 And the\\nsons of Bilhah, Rachel's handmaid; Dan, and Naphtali: 35:26 And the\\nsons of Zilpah, Leah's handmaid: Gad, and Asher: these are the sons of\\nJacob, which were born to him in Padanaram.\",\n",
       " '35:27 And Jacob came unto Isaac his father unto Mamre, unto the city\\nof Arbah, which is Hebron, where Abraham and Isaac sojourned.',\n",
       " '35:28 And the days of Isaac were an hundred and fourscore years.',\n",
       " '35:29 And Isaac gave up the ghost, and died, and was gathered unto his\\npeople, being old and full of days: and his sons Esau and Jacob buried\\nhim.',\n",
       " '36:1 Now these are the generations of Esau, who is Edom.',\n",
       " \"36:2 Esau took his wives of the daughters of Canaan; Adah the daughter\\nof Elon the Hittite, and Aholibamah the daughter of Anah the daughter\\nof Zibeon the Hivite; 36:3 And Bashemath Ishmael's daughter, sister of\\nNebajoth.\",\n",
       " '36:4 And Adah bare to Esau Eliphaz; and Bashemath bare Reuel; 36:5 And\\nAholibamah bare Jeush, and Jaalam, and Korah: these are the sons of\\nEsau, which were born unto him in the land of Canaan.',\n",
       " '36:6 And Esau took his wives, and his sons, and his daughters, and all\\nthe persons of his house, and his cattle, and all his beasts, and all\\nhis substance, which he had got in the land of Canaan; and went into\\nthe country from the face of his brother Jacob.',\n",
       " '36:7 For their riches were more than that they might dwell together;\\nand the land wherein they were strangers could not bear them because\\nof their cattle.',\n",
       " '36:8 Thus dwelt Esau in mount Seir: Esau is Edom.',\n",
       " \"36:9 And these are the generations of Esau the father of the Edomites\\nin mount Seir: 36:10 These are the names of Esau's sons; Eliphaz the\\nson of Adah the wife of Esau, Reuel the son of Bashemath the wife of\\nEsau.\",\n",
       " '36:11 And the sons of Eliphaz were Teman, Omar, Zepho, and Gatam, and\\nKenaz.',\n",
       " \"36:12 And Timna was concubine to Eliphaz Esau's son; and she bare to\\nEliphaz Amalek: these were the sons of Adah Esau's wife.\",\n",
       " \"36:13 And these are the sons of Reuel; Nahath, and Zerah, Shammah, and\\nMizzah: these were the sons of Bashemath Esau's wife.\",\n",
       " \"36:14 And these were the sons of Aholibamah, the daughter of Anah the\\ndaughter of Zibeon, Esau's wife: and she bare to Esau Jeush, and\\nJaalam, and Korah.\",\n",
       " ...]"
      ]
     },
     "execution_count": 16,
     "metadata": {},
     "output_type": "execute_result"
    }
   ],
   "source": [
    "tokenized_text"
   ]
  },
  {
   "cell_type": "code",
   "execution_count": null,
   "metadata": {},
   "outputs": [],
   "source": []
  },
  {
   "cell_type": "code",
   "execution_count": 17,
   "metadata": {},
   "outputs": [],
   "source": [
    "from nltk.tokenize import word_tokenize"
   ]
  },
  {
   "cell_type": "code",
   "execution_count": 18,
   "metadata": {},
   "outputs": [],
   "source": [
    "sample = \"We present a model that generates natural language descriptions of images and their regions. Our approach leverages datasets of images and their sentence descriptions to learn about the inter-modal correspondences between language and visual data. Our alignment model is based on a novel combination of Convolutional Neural Networks over image regions, bidirectional Recurrent Neural Networks over sentences, and a structured objective that aligns the two modalities through a multimodal embedding. We then describe a Multimodal Recurrent Neural Network architecture that uses the inferred alignments to learn to generate novel descriptions of image regions. We demonstrate that our alignment model produces state of the art results in retrieval experiments on Flickr8K, Flickr30K and MSCOCO datasets. We then show that the generated descriptions significantly outperform retrieval baselines on both full images and on a new dataset of region-level annotations.\""
   ]
  },
  {
   "cell_type": "code",
   "execution_count": 19,
   "metadata": {},
   "outputs": [
    {
     "name": "stdout",
     "output_type": "stream",
     "text": [
      "['We', 'present', 'a', 'model', 'that', 'generates', 'natural', 'language', 'descriptions', 'of', 'images', 'and', 'their', 'regions', '.', 'Our', 'approach', 'leverages', 'datasets', 'of', 'images', 'and', 'their', 'sentence', 'descriptions', 'to', 'learn', 'about', 'the', 'inter-modal', 'correspondences', 'between', 'language', 'and', 'visual', 'data', '.', 'Our', 'alignment', 'model', 'is', 'based', 'on', 'a', 'novel']\n"
     ]
    }
   ],
   "source": [
    "tokenized_word = word_tokenize(sample)\n",
    "\n",
    "print(tokenized_word[:45])"
   ]
  },
  {
   "cell_type": "code",
   "execution_count": 20,
   "metadata": {},
   "outputs": [],
   "source": [
    "from nltk.tokenize import RegexpTokenizer"
   ]
  },
  {
   "cell_type": "code",
   "execution_count": 21,
   "metadata": {},
   "outputs": [
    {
     "data": {
      "text/plain": [
       "['We',\n",
       " 'Our',\n",
       " 'Our',\n",
       " 'Convolutional',\n",
       " 'Neural',\n",
       " 'Networks',\n",
       " 'Recurrent',\n",
       " 'Neural',\n",
       " 'Networks',\n",
       " 'We',\n",
       " 'Multimodal',\n",
       " 'Recurrent',\n",
       " 'Neural',\n",
       " 'Network',\n",
       " 'We']"
      ]
     },
     "execution_count": 21,
     "metadata": {},
     "output_type": "execute_result"
    }
   ],
   "source": [
    "tokenized_regexp = RegexpTokenizer('[A-Z]\\w+')\n",
    "\n",
    "tokenized_regexp.tokenize(sample)[:15]"
   ]
  },
  {
   "cell_type": "code",
   "execution_count": 22,
   "metadata": {},
   "outputs": [
    {
     "data": {
      "text/plain": [
       "['30']"
      ]
     },
     "execution_count": 22,
     "metadata": {},
     "output_type": "execute_result"
    }
   ],
   "source": [
    "tokenized_regexp = RegexpTokenizer('[0-9]\\d+')\n",
    "\n",
    "tokenized_regexp.tokenize(sample)"
   ]
  },
  {
   "cell_type": "code",
   "execution_count": 23,
   "metadata": {},
   "outputs": [],
   "source": [
    "from nltk.tokenize import word_tokenize\n",
    "from nltk.corpus import gutenberg\n",
    "from nltk.probability import FreqDist"
   ]
  },
  {
   "cell_type": "code",
   "execution_count": 24,
   "metadata": {},
   "outputs": [],
   "source": [
    "sample =gutenberg.raw(\"carroll-alice.txt\") "
   ]
  },
  {
   "cell_type": "code",
   "execution_count": 25,
   "metadata": {},
   "outputs": [
    {
     "name": "stdout",
     "output_type": "stream",
     "text": [
      "<FreqDist with 3185 samples and 33493 outcomes>\n"
     ]
    }
   ],
   "source": [
    "tokenized_word = word_tokenize(sample)\n",
    "\n",
    "fdist = FreqDist(tokenized_word)\n",
    "print(fdist)"
   ]
  },
  {
   "cell_type": "code",
   "execution_count": 26,
   "metadata": {},
   "outputs": [
    {
     "data": {
      "text/plain": [
       "[(',', 2418),\n",
       " ('the', 1516),\n",
       " (\"'\", 1309),\n",
       " ('.', 975),\n",
       " ('and', 757),\n",
       " ('to', 717),\n",
       " ('a', 614),\n",
       " ('I', 533),\n",
       " ('it', 512),\n",
       " ('she', 506),\n",
       " ('of', 496),\n",
       " ('said', 456),\n",
       " ('!', 450),\n",
       " ('Alice', 394),\n",
       " ('was', 361)]"
      ]
     },
     "execution_count": 26,
     "metadata": {},
     "output_type": "execute_result"
    }
   ],
   "source": [
    "fdist.most_common(15)"
   ]
  },
  {
   "cell_type": "code",
   "execution_count": 27,
   "metadata": {},
   "outputs": [
    {
     "data": {
      "text/plain": [
       "<Figure size 640x480 with 1 Axes>"
      ]
     },
     "metadata": {},
     "output_type": "display_data"
    }
   ],
   "source": [
    "fdist.plot(15);"
   ]
  },
  {
   "cell_type": "code",
   "execution_count": 28,
   "metadata": {},
   "outputs": [
    {
     "name": "stdout",
     "output_type": "stream",
     "text": [
      "{'only', \"you've\", 'not', \"shan't\", 'on', 'my', 'do', 'a', 'now', 'these', 'll', 'have', 'that', 'does', 'if', 'who', \"she's\", 'hadn', 'we', 'below', \"wouldn't\", 'few', 'doing', 'the', 'been', 'is', 'further', 'itself', 'how', 'no', 'from', 'where', 'down', 'ourselves', 'and', 'while', 'hasn', 'its', 'an', 'mightn', 'they', 'it', 'after', 'as', \"didn't\", 'against', 'isn', 'couldn', 'with', 'them', 'was', 'why', 'had', 'herself', 't', 'mustn', 'theirs', 'because', \"hasn't\", 're', 'are', 'be', 'then', 'up', \"mightn't\", 'you', 'both', 'his', 'm', 'me', \"couldn't\", 'doesn', 'your', 'has', 'out', 'other', 'am', \"you'll\", 'ma', 'being', 'haven', 'here', 'which', 'between', \"should've\", 'same', 'this', 'he', 'ain', 'myself', 'very', 've', 'himself', 'under', 'just', 'yourself', 'will', 'off', 'of', 'wasn', 'there', 'i', 'hers', 'or', 'd', \"it's\", 'into', 'needn', \"shouldn't\", \"weren't\", 'too', 'before', 'don', 'shouldn', 'any', 'each', \"doesn't\", \"don't\", 'own', 'him', 'wouldn', 's', 'such', 'y', 'those', 'all', 'their', 'did', \"hadn't\", \"aren't\", 'she', 'won', 'shan', 'until', 'our', 'themselves', 'but', 'in', 'through', 'at', \"isn't\", \"haven't\", 'didn', 'when', 'whom', 'o', \"you're\", 'nor', 'ours', \"mustn't\", 'to', 'than', 'above', 'should', \"you'd\", 'her', \"needn't\", 'yourselves', \"that'll\", 'what', 'weren', 'can', 'were', 'about', 'more', 'aren', 'some', 'most', 'during', 'over', 'for', \"won't\", \"wasn't\", 'once', 'by', 'yours', 'having', 'so', 'again'}\n"
     ]
    }
   ],
   "source": [
    "from nltk.corpus import stopwords\n",
    "\n",
    "\n",
    "stop_words = set(stopwords.words('english'))\n",
    "print(stop_words)"
   ]
  },
  {
   "cell_type": "code",
   "execution_count": 29,
   "metadata": {},
   "outputs": [],
   "source": [
    "filtered_word =[]"
   ]
  },
  {
   "cell_type": "code",
   "execution_count": 30,
   "metadata": {},
   "outputs": [],
   "source": [
    "for w in tokenized_word:\n",
    "    if w not in stop_words:\n",
    "        if len(w) >3:\n",
    "            filtered_word.append(w)"
   ]
  },
  {
   "cell_type": "code",
   "execution_count": 31,
   "metadata": {},
   "outputs": [
    {
     "name": "stdout",
     "output_type": "stream",
     "text": [
      "<FreqDist with 2733 samples and 11589 outcomes>\n"
     ]
    }
   ],
   "source": [
    "fdist = FreqDist(filtered_word)\n",
    "print(fdist)"
   ]
  },
  {
   "cell_type": "code",
   "execution_count": 32,
   "metadata": {},
   "outputs": [
    {
     "data": {
      "text/plain": [
       "[('said', 456),\n",
       " ('Alice', 394),\n",
       " ('little', 125),\n",
       " ('know', 87),\n",
       " ('like', 84),\n",
       " ('went', 83),\n",
       " ('could', 82),\n",
       " ('would', 82),\n",
       " ('thought', 74),\n",
       " ('Queen', 74),\n",
       " ('time', 65),\n",
       " ('King', 60),\n",
       " ('began', 58),\n",
       " ('Turtle', 58),\n",
       " ('Mock', 56),\n",
       " ('Hatter', 55),\n",
       " ('Gryphon', 54),\n",
       " ('quite', 53),\n",
       " ('much', 51),\n",
       " ('think', 50)]"
      ]
     },
     "execution_count": 32,
     "metadata": {},
     "output_type": "execute_result"
    }
   ],
   "source": [
    "fdist.most_common(20)"
   ]
  },
  {
   "cell_type": "code",
   "execution_count": 33,
   "metadata": {},
   "outputs": [
    {
     "data": {
      "image/png": "[encoded data removed]",
      "text/plain": [
       "<Figure size 432x288 with 1 Axes>"
      ]
     },
     "metadata": {
      "needs_background": "light"
     },
     "output_type": "display_data"
    },
    {
     "data": {
      "text/plain": [
       "<matplotlib.axes._subplots.AxesSubplot at 0x1fcae3755c0>"
      ]
     },
     "execution_count": 33,
     "metadata": {},
     "output_type": "execute_result"
    }
   ],
   "source": [
    "fdist.plot(20)"
   ]
  },
  {
   "cell_type": "code",
   "execution_count": null,
   "metadata": {},
   "outputs": [],
   "source": []
  },
  {
   "cell_type": "markdown",
   "metadata": {},
   "source": [
    "### Bigrams"
   ]
  },
  {
   "cell_type": "code",
   "execution_count": 34,
   "metadata": {},
   "outputs": [],
   "source": [
    "from nltk.corpus import stopwords, webtext\n",
    "from nltk import bigrams, trigrams"
   ]
  },
  {
   "cell_type": "code",
   "execution_count": 35,
   "metadata": {},
   "outputs": [],
   "source": [
    "text_word = [w.lower() for w in webtext.words(\"pirates.txt\")]\n",
    "\n",
    "stop_words = set(stopwords.words('english'))\n",
    "\n",
    "filtered_word= []\n",
    "for w in text_word:\n",
    "    if w not in stop_words:\n",
    "        if len(w) >3:\n",
    "            filtered_word.append(w)"
   ]
  },
  {
   "cell_type": "code",
   "execution_count": 36,
   "metadata": {},
   "outputs": [
    {
     "name": "stdout",
     "output_type": "stream",
     "text": [
      "['pirates', 'carribean', 'dead', 'chest', 'elliott', 'terry', 'rossio', 'view', 'looking', 'straight', 'rolling', 'swells', 'sound', 'wind', 'thunder']\n"
     ]
    }
   ],
   "source": [
    "print(filtered_word[:15])"
   ]
  },
  {
   "cell_type": "code",
   "execution_count": 37,
   "metadata": {},
   "outputs": [],
   "source": [
    "Bigram = bigrams(filtered_word)\n",
    "\n",
    "fdist = FreqDist(Bigram)"
   ]
  },
  {
   "cell_type": "code",
   "execution_count": 38,
   "metadata": {},
   "outputs": [
    {
     "data": {
      "text/plain": [
       "[(('jack', 'sparrow'), 222),\n",
       " (('elizabeth', 'swann'), 93),\n",
       " (('davy', 'jones'), 58),\n",
       " (('black', 'pearl'), 37),\n",
       " (('flying', 'dutchman'), 37),\n",
       " (('lord', 'cutler'), 35),\n",
       " (('cutler', 'beckett'), 35),\n",
       " (('pintel', 'ragetti'), 24),\n",
       " (('turner', 'jack'), 14),\n",
       " (('cannibal', 'island'), 14),\n",
       " (('sparrow', 'jack'), 13),\n",
       " (('jack', 'jack'), 13),\n",
       " (('scene', 'cannibal'), 13),\n",
       " (('port', 'royal'), 11),\n",
       " (('captain', 'jack'), 10),\n",
       " (('bamboo', 'pole'), 9),\n",
       " (('scene', 'black'), 8),\n",
       " (('cotton', 'parrot'), 8),\n",
       " (('gibbs', 'jack'), 8),\n",
       " (('sparrow', 'turner'), 8)]"
      ]
     },
     "execution_count": 38,
     "metadata": {},
     "output_type": "execute_result"
    }
   ],
   "source": [
    "fdist.most_common(20)"
   ]
  },
  {
   "cell_type": "code",
   "execution_count": 39,
   "metadata": {},
   "outputs": [
    {
     "data": {
      "image/png": "[encoded data removed]",
      "text/plain": [
       "<Figure size 432x288 with 1 Axes>"
      ]
     },
     "metadata": {
      "needs_background": "light"
     },
     "output_type": "display_data"
    },
    {
     "data": {
      "text/plain": [
       "<matplotlib.axes._subplots.AxesSubplot at 0x1fcae375400>"
      ]
     },
     "execution_count": 39,
     "metadata": {},
     "output_type": "execute_result"
    }
   ],
   "source": [
    "fdist.plot(20)"
   ]
  },
  {
   "cell_type": "code",
   "execution_count": null,
   "metadata": {},
   "outputs": [],
   "source": []
  },
  {
   "cell_type": "markdown",
   "metadata": {},
   "source": [
    "### Trigrams"
   ]
  },
  {
   "cell_type": "code",
   "execution_count": 40,
   "metadata": {},
   "outputs": [],
   "source": [
    "text_word = [w.lower() for w in webtext.words(\"grail.txt\")]\n",
    "\n",
    "stop_words = set(stopwords.words('english'))\n",
    "\n",
    "filtered_word= []\n",
    "for w in text_word:\n",
    "    if w not in stop_words:\n",
    "        if len(w) >3:\n",
    "            filtered_word.append(w)"
   ]
  },
  {
   "cell_type": "code",
   "execution_count": 41,
   "metadata": {},
   "outputs": [
    {
     "name": "stdout",
     "output_type": "stream",
     "text": [
      "['scene', 'wind', 'clop', 'clop', 'clop', 'king', 'arthur', 'whoa', 'clop', 'clop', 'clop', 'soldier', 'halt', 'goes', 'arthur']\n"
     ]
    }
   ],
   "source": [
    "print(filtered_word[:15])"
   ]
  },
  {
   "cell_type": "code",
   "execution_count": 42,
   "metadata": {},
   "outputs": [],
   "source": [
    "trigram = trigrams(filtered_word)\n",
    "\n",
    "fdist = FreqDist(trigram)"
   ]
  },
  {
   "cell_type": "code",
   "execution_count": 43,
   "metadata": {},
   "outputs": [
    {
     "data": {
      "text/plain": [
       "[(('hello', 'hello', 'hello'), 21),\n",
       " (('squeak', 'squeak', 'squeak'), 15),\n",
       " (('clop', 'clop', 'clop'), 13),\n",
       " (('witch', 'witch', 'witch'), 13),\n",
       " (('burn', 'burn', 'burn'), 13),\n",
       " (('mumble', 'mumble', 'mumble'), 10),\n",
       " (('clang', 'bring', 'dead'), 9),\n",
       " (('king', 'arthur', 'music'), 9),\n",
       " (('mumble', 'mumble', 'boom'), 9),\n",
       " (('bring', 'dead', 'clang'), 8),\n",
       " (('dead', 'clang', 'bring'), 8),\n",
       " (('boom', 'mumble', 'mumble'), 8),\n",
       " (('guests', 'singing', 'going'), 8),\n",
       " (('singing', 'going', 'tell'), 8),\n",
       " (('mumble', 'boom', 'mumble'), 7),\n",
       " (('arthur', 'king', 'britons'), 6),\n",
       " (('music', 'music', 'stops'), 6),\n",
       " (('away', 'away', 'away'), 6),\n",
       " (('make', 'sure', 'leave'), 6),\n",
       " (('monks', 'chanting', 'iesu'), 5)]"
      ]
     },
     "execution_count": 43,
     "metadata": {},
     "output_type": "execute_result"
    }
   ],
   "source": [
    "fdist.most_common(20)"
   ]
  },
  {
   "cell_type": "code",
   "execution_count": 44,
   "metadata": {},
   "outputs": [
    {
     "data": {
      "image/png": "[encoded data removed]",
      "text/plain": [
       "<Figure size 432x288 with 1 Axes>"
      ]
     },
     "metadata": {
      "needs_background": "light"
     },
     "output_type": "display_data"
    },
    {
     "data": {
      "text/plain": [
       "<matplotlib.axes._subplots.AxesSubplot at 0x1fcae44fa58>"
      ]
     },
     "execution_count": 44,
     "metadata": {},
     "output_type": "execute_result"
    }
   ],
   "source": [
    "fdist.plot(20)"
   ]
  },
  {
   "cell_type": "code",
   "execution_count": null,
   "metadata": {},
   "outputs": [],
   "source": []
  },
  {
   "cell_type": "markdown",
   "metadata": {},
   "source": [
    "### Ngrams"
   ]
  },
  {
   "cell_type": "code",
   "execution_count": 45,
   "metadata": {},
   "outputs": [],
   "source": [
    "from nltk.corpus import stopwords, gutenberg\n",
    "from nltk import ngrams"
   ]
  },
  {
   "cell_type": "code",
   "execution_count": 46,
   "metadata": {},
   "outputs": [],
   "source": [
    "text_word = [w.lower() for w in gutenberg.words(\"shakespeare-hamlet.txt\")]\n",
    "\n",
    "stop_words = set(stopwords.words('english'))\n",
    "\n",
    "filtered_word= []\n",
    "for w in text_word:\n",
    "    if w not in stop_words:\n",
    "        if len(w) >3:\n",
    "            filtered_word.append(w)"
   ]
  },
  {
   "cell_type": "code",
   "execution_count": 47,
   "metadata": {},
   "outputs": [
    {
     "name": "stdout",
     "output_type": "stream",
     "text": [
      "['tragedie', 'hamlet', 'william', 'shakespeare', '1599', 'actus', 'primus', 'scoena', 'prima', 'enter', 'barnardo', 'francisco', 'centinels', 'barnardo', 'fran']\n"
     ]
    }
   ],
   "source": [
    "print(filtered_word[:15])"
   ]
  },
  {
   "cell_type": "code",
   "execution_count": 48,
   "metadata": {},
   "outputs": [],
   "source": [
    "ngram = ngrams(filtered_word, 4)\n",
    "\n",
    "fdist = FreqDist(ngram)"
   ]
  },
  {
   "cell_type": "code",
   "execution_count": 49,
   "metadata": {},
   "outputs": [
    {
     "data": {
      "text/plain": [
       "[(('reynol', 'good', 'lord', 'polon'), 3),\n",
       " (('exeunt', 'scena', 'secunda', 'enter'), 2),\n",
       " (('lord', 'exeunt', 'enter', 'hamlet'), 2),\n",
       " (('exeunt', 'enter', 'hamlet', 'horatio'), 2),\n",
       " (('lord', 'haue', 'newes', 'tell'), 2),\n",
       " (('enter', 'king', 'queene', 'polonius'), 2),\n",
       " (('king', 'queene', 'polonius', 'ophelia'), 2),\n",
       " (('queene', 'polonius', 'ophelia', 'rosincrance'), 2),\n",
       " (('helpe', 'helpe', 'helpe', 'helpe'), 2),\n",
       " (('clay', 'made', 'guest', 'meete'), 2),\n",
       " (('enter', 'king', 'queene', 'laertes'), 2),\n",
       " (('tragedie', 'hamlet', 'william', 'shakespeare'), 1),\n",
       " (('hamlet', 'william', 'shakespeare', '1599'), 1),\n",
       " (('william', 'shakespeare', '1599', 'actus'), 1),\n",
       " (('shakespeare', '1599', 'actus', 'primus'), 1),\n",
       " (('1599', 'actus', 'primus', 'scoena'), 1),\n",
       " (('actus', 'primus', 'scoena', 'prima'), 1),\n",
       " (('primus', 'scoena', 'prima', 'enter'), 1),\n",
       " (('scoena', 'prima', 'enter', 'barnardo'), 1),\n",
       " (('prima', 'enter', 'barnardo', 'francisco'), 1)]"
      ]
     },
     "execution_count": 49,
     "metadata": {},
     "output_type": "execute_result"
    }
   ],
   "source": [
    "fdist.most_common(20)"
   ]
  },
  {
   "cell_type": "code",
   "execution_count": 50,
   "metadata": {},
   "outputs": [
    {
     "data": {
      "image/png": "[encoded data removed]",
      "text/plain": [
       "<Figure size 432x288 with 1 Axes>"
      ]
     },
     "metadata": {
      "needs_background": "light"
     },
     "output_type": "display_data"
    }
   ],
   "source": [
    "fdist.plot(20);"
   ]
  },
  {
   "cell_type": "code",
   "execution_count": null,
   "metadata": {},
   "outputs": [],
   "source": []
  },
  {
   "cell_type": "markdown",
   "metadata": {},
   "source": [
    "### Stemming"
   ]
  },
  {
   "cell_type": "code",
   "execution_count": 51,
   "metadata": {},
   "outputs": [],
   "source": [
    "from nltk.stem import PorterStemmer, WordNetLemmatizer"
   ]
  },
  {
   "cell_type": "code",
   "execution_count": 52,
   "metadata": {},
   "outputs": [],
   "source": [
    "ps =PorterStemmer()"
   ]
  },
  {
   "cell_type": "code",
   "execution_count": 53,
   "metadata": {},
   "outputs": [],
   "source": [
    "sample = \"We are presenting a model that generates natural language descriptions of images and their regions. Our approach leverages datasets of images and their sentence descriptions to learn about the inter-modal correspondences between language and visual data. Our alignment model is based on a novel combination of Convolutional Neural Networks over image regions, bidirectional Recurrent Neural Networks over sentences, and a structured objective that aligns the two modalities through a multimodal embedding. We then describe a Multimodal Recurrent Neural Network architecture that uses the inferred alignments to learn to generate novel descriptions of image regions. We demonstrate that our alignment model produces state of the art results in retrieval experiments on Flickr8K, Flickr30K and MSCOCO datasets. We then show that the generated descriptions significantly outperform retrieval baselines on both full images and on a new dataset of region-level annotations.\""
   ]
  },
  {
   "cell_type": "code",
   "execution_count": 54,
   "metadata": {},
   "outputs": [
    {
     "name": "stdout",
     "output_type": "stream",
     "text": [
      "We\n",
      "are\n",
      "present\n",
      "a\n",
      "model\n",
      "that\n",
      "gener\n",
      "natur\n",
      "languag\n",
      "descript\n",
      "of\n",
      "imag\n",
      "and\n",
      "their\n",
      "region\n",
      ".\n",
      "our\n",
      "approach\n",
      "leverag\n",
      "dataset\n",
      "of\n",
      "imag\n",
      "and\n",
      "their\n",
      "sentenc\n",
      "descript\n",
      "to\n",
      "learn\n",
      "about\n",
      "the\n",
      "inter-mod\n",
      "correspond\n",
      "between\n",
      "languag\n",
      "and\n",
      "visual\n",
      "data\n",
      ".\n",
      "our\n",
      "align\n",
      "model\n",
      "is\n",
      "base\n",
      "on\n",
      "a\n",
      "novel\n",
      "combin\n",
      "of\n",
      "convolut\n",
      "neural\n",
      "network\n",
      "over\n",
      "imag\n",
      "region\n",
      ",\n",
      "bidirect\n",
      "recurr\n",
      "neural\n",
      "network\n",
      "over\n",
      "sentenc\n",
      ",\n",
      "and\n",
      "a\n",
      "structur\n",
      "object\n",
      "that\n",
      "align\n",
      "the\n",
      "two\n",
      "modal\n",
      "through\n",
      "a\n",
      "multimod\n",
      "embed\n",
      ".\n",
      "We\n",
      "then\n",
      "describ\n",
      "a\n",
      "multimod\n",
      "recurr\n",
      "neural\n",
      "network\n",
      "architectur\n",
      "that\n",
      "use\n",
      "the\n",
      "infer\n",
      "align\n",
      "to\n",
      "learn\n",
      "to\n",
      "gener\n",
      "novel\n",
      "descript\n",
      "of\n",
      "imag\n",
      "region\n",
      ".\n",
      "We\n",
      "demonstr\n",
      "that\n",
      "our\n",
      "align\n",
      "model\n",
      "produc\n",
      "state\n",
      "of\n",
      "the\n",
      "art\n",
      "result\n",
      "in\n",
      "retriev\n",
      "experi\n",
      "on\n",
      "flickr8k\n",
      ",\n",
      "flickr30k\n",
      "and\n",
      "mscoco\n",
      "dataset\n",
      ".\n",
      "We\n",
      "then\n",
      "show\n",
      "that\n",
      "the\n",
      "gener\n",
      "descript\n",
      "significantli\n",
      "outperform\n",
      "retriev\n",
      "baselin\n",
      "on\n",
      "both\n",
      "full\n",
      "imag\n",
      "and\n",
      "on\n",
      "a\n",
      "new\n",
      "dataset\n",
      "of\n",
      "region-level\n",
      "annot\n",
      ".\n"
     ]
    }
   ],
   "source": [
    "word = word_tokenize(sample)\n",
    "\n",
    "for w in word:\n",
    "    print(ps.stem(w))"
   ]
  },
  {
   "cell_type": "code",
   "execution_count": null,
   "metadata": {},
   "outputs": [],
   "source": []
  },
  {
   "cell_type": "markdown",
   "metadata": {},
   "source": [
    "### Lemmatization"
   ]
  },
  {
   "cell_type": "code",
   "execution_count": 55,
   "metadata": {},
   "outputs": [],
   "source": [
    "from nltk.stem import WordNetLemmatizer"
   ]
  },
  {
   "cell_type": "code",
   "execution_count": 56,
   "metadata": {},
   "outputs": [
    {
     "name": "stdout",
     "output_type": "stream",
     "text": [
      "best\n",
      "cactus\n",
      "foot\n",
      "cat\n",
      "bat\n"
     ]
    }
   ],
   "source": [
    "lem = WordNetLemmatizer()\n",
    "\n",
    "words=  ['best','cacti','feet','cats','bats']\n",
    "\n",
    "for w in words:\n",
    "    print(lem.lemmatize(w))"
   ]
  },
  {
   "cell_type": "code",
   "execution_count": 57,
   "metadata": {},
   "outputs": [
    {
     "name": "stdout",
     "output_type": "stream",
     "text": [
      "fast\n"
     ]
    }
   ],
   "source": [
    "print(lem.lemmatize('faster', pos='a'))"
   ]
  },
  {
   "cell_type": "code",
   "execution_count": null,
   "metadata": {},
   "outputs": [],
   "source": []
  },
  {
   "cell_type": "markdown",
   "metadata": {},
   "source": [
    "### POS tagging"
   ]
  },
  {
   "cell_type": "code",
   "execution_count": 58,
   "metadata": {},
   "outputs": [],
   "source": [
    "from nltk import pos_tag"
   ]
  },
  {
   "cell_type": "code",
   "execution_count": null,
   "metadata": {},
   "outputs": [],
   "source": []
  },
  {
   "cell_type": "code",
   "execution_count": 59,
   "metadata": {},
   "outputs": [
    {
     "data": {
      "text/plain": [
       "'We are presenting a model that generates natural language descriptions of images and their regions. Our approach leverages datasets of images and their sentence descriptions to learn about the inter-modal correspondences between language and visual data. Our alignment model is based on a novel combination of Convolutional Neural Networks over image regions, bidirectional Recurrent Neural Networks over sentences, and a structured objective that aligns the two modalities through a multimodal embedding. We then describe a Multimodal Recurrent Neural Network architecture that uses the inferred alignments to learn to generate novel descriptions of image regions. We demonstrate that our alignment model produces state of the art results in retrieval experiments on Flickr8K, Flickr30K and MSCOCO datasets. We then show that the generated descriptions significantly outperform retrieval baselines on both full images and on a new dataset of region-level annotations.'"
      ]
     },
     "execution_count": 59,
     "metadata": {},
     "output_type": "execute_result"
    }
   ],
   "source": [
    "sample"
   ]
  },
  {
   "cell_type": "code",
   "execution_count": 60,
   "metadata": {},
   "outputs": [
    {
     "name": "stdout",
     "output_type": "stream",
     "text": [
      "['We', 'are', 'presenting', 'a', 'model', 'that', 'generates', 'natural', 'language', 'descriptions', 'of', 'images', 'and', 'their', 'regions', '.', 'Our', 'approach', 'leverages', 'datasets', 'of', 'images', 'and', 'their', 'sentence', 'descriptions', 'to', 'learn', 'about', 'the', 'inter-modal', 'correspondences', 'between', 'language', 'and', 'visual', 'data', '.', 'Our', 'alignment', 'model', 'is', 'based', 'on', 'a']\n"
     ]
    }
   ],
   "source": [
    "tokenized_word = word_tokenize(sample)\n",
    "\n",
    "print(tokenized_word[:45])"
   ]
  },
  {
   "cell_type": "code",
   "execution_count": null,
   "metadata": {},
   "outputs": [],
   "source": []
  },
  {
   "cell_type": "code",
   "execution_count": 61,
   "metadata": {},
   "outputs": [
    {
     "data": {
      "text/plain": [
       "[('We', 'PRP'),\n",
       " ('are', 'VBP'),\n",
       " ('presenting', 'VBG'),\n",
       " ('a', 'DT'),\n",
       " ('model', 'NN'),\n",
       " ('that', 'WDT'),\n",
       " ('generates', 'VBZ'),\n",
       " ('natural', 'JJ'),\n",
       " ('language', 'NN'),\n",
       " ('descriptions', 'NNS'),\n",
       " ('of', 'IN'),\n",
       " ('images', 'NNS'),\n",
       " ('and', 'CC'),\n",
       " ('their', 'PRP$'),\n",
       " ('regions', 'NNS'),\n",
       " ('.', '.'),\n",
       " ('Our', 'PRP$'),\n",
       " ('approach', 'NN'),\n",
       " ('leverages', 'VBZ'),\n",
       " ('datasets', 'NNS'),\n",
       " ('of', 'IN'),\n",
       " ('images', 'NNS'),\n",
       " ('and', 'CC'),\n",
       " ('their', 'PRP$'),\n",
       " ('sentence', 'NN'),\n",
       " ('descriptions', 'NNS'),\n",
       " ('to', 'TO'),\n",
       " ('learn', 'VB'),\n",
       " ('about', 'IN'),\n",
       " ('the', 'DT'),\n",
       " ('inter-modal', 'JJ'),\n",
       " ('correspondences', 'NNS'),\n",
       " ('between', 'IN'),\n",
       " ('language', 'NN'),\n",
       " ('and', 'CC'),\n",
       " ('visual', 'JJ'),\n",
       " ('data', 'NN'),\n",
       " ('.', '.'),\n",
       " ('Our', 'PRP$'),\n",
       " ('alignment', 'JJ'),\n",
       " ('model', 'NN'),\n",
       " ('is', 'VBZ'),\n",
       " ('based', 'VBN'),\n",
       " ('on', 'IN'),\n",
       " ('a', 'DT')]"
      ]
     },
     "execution_count": 61,
     "metadata": {},
     "output_type": "execute_result"
    }
   ],
   "source": [
    "pos_tag(tokenized_word[:45])"
   ]
  },
  {
   "cell_type": "code",
   "execution_count": null,
   "metadata": {},
   "outputs": [],
   "source": []
  },
  {
   "cell_type": "markdown",
   "metadata": {},
   "source": [
    "### Named entity org with NLTK"
   ]
  },
  {
   "cell_type": "code",
   "execution_count": 62,
   "metadata": {},
   "outputs": [],
   "source": [
    "from nltk.corpus import state_union"
   ]
  },
  {
   "cell_type": "code",
   "execution_count": 63,
   "metadata": {},
   "outputs": [],
   "source": [
    "sample = state_union.raw(\"2005-GwBush.txt\")"
   ]
  },
  {
   "cell_type": "code",
   "execution_count": 64,
   "metadata": {},
   "outputs": [
    {
     "name": "stdout",
     "output_type": "stream",
     "text": [
      "['PRESIDENT', 'GEORGE', 'W.', 'BUSH', \"'S\", 'ADDRESS', 'BEFORE', 'A', 'JOINT', 'SESSION', 'OF', 'THE', 'CONGRESS', 'ON', 'THE', 'STATE', 'OF', 'THE', 'UNION', 'February', '2', ',', '2005', '9:10', 'P.M.', 'EST', 'THE', 'PRESIDENT', ':', 'Mr.', 'Speaker', ',', 'Vice', 'President', 'Cheney', ',', 'members', 'of', 'Congress', ',', 'fellow', 'citizens', ':', 'As', 'a']\n"
     ]
    }
   ],
   "source": [
    "tokenized_word = word_tokenize(sample)\n",
    "\n",
    "print(tokenized_word[:45])"
   ]
  },
  {
   "cell_type": "code",
   "execution_count": 72,
   "metadata": {},
   "outputs": [],
   "source": [
    "pos_words =pos_tag(tokenized_word[:20])\n"
   ]
  },
  {
   "cell_type": "code",
   "execution_count": 73,
   "metadata": {},
   "outputs": [
    {
     "name": "stdout",
     "output_type": "stream",
     "text": [
      "[('PRESIDENT', 'NNP'), ('GEORGE', 'NNP'), ('W.', 'NNP'), ('BUSH', 'NNP'), (\"'S\", 'POS'), ('ADDRESS', 'NNP'), ('BEFORE', 'IN'), ('A', 'NNP'), ('JOINT', 'NNP'), ('SESSION', 'NNP'), ('OF', 'IN'), ('THE', 'NNP'), ('CONGRESS', 'NNP'), ('ON', 'NNP'), ('THE', 'NNP'), ('STATE', 'NNP'), ('OF', 'IN'), ('THE', 'NNP'), ('UNION', 'NNP'), ('February', 'NNP')]\n"
     ]
    }
   ],
   "source": [
    "print(pos_words)"
   ]
  },
  {
   "cell_type": "code",
   "execution_count": 74,
   "metadata": {},
   "outputs": [],
   "source": [
    "from nltk import ne_chunk"
   ]
  },
  {
   "cell_type": "code",
   "execution_count": 75,
   "metadata": {},
   "outputs": [
    {
     "name": "stderr",
     "output_type": "stream",
     "text": [
      "The Ghostscript executable isn't found.\n",
      "See http://web.mit.edu/ghostscript/www/Install.htm\n",
      "If you're using a Mac, you can try installing\n",
      "https://docs.brew.sh/Installation then `brew install ghostscript`\n"
     ]
    },
    {
     "ename": "LookupError",
     "evalue": "",
     "output_type": "error",
     "traceback": [
      "\u001b[1;31m---------------------------------------------------------------------------\u001b[0m",
      "\u001b[1;31mLookupError\u001b[0m                               Traceback (most recent call last)",
      "\u001b[1;32m~\\Anaconda3\\lib\\site-packages\\nltk\\tree.py\u001b[0m in \u001b[0;36m_repr_png_\u001b[1;34m(self)\u001b[0m\n\u001b[0;32m    805\u001b[0m                             \u001b[0menv_vars\u001b[0m\u001b[1;33m=\u001b[0m\u001b[1;33m[\u001b[0m\u001b[1;34m'PATH'\u001b[0m\u001b[1;33m]\u001b[0m\u001b[1;33m,\u001b[0m\u001b[1;33m\u001b[0m\u001b[1;33m\u001b[0m\u001b[0m\n\u001b[1;32m--> 806\u001b[1;33m                             \u001b[0mverbose\u001b[0m\u001b[1;33m=\u001b[0m\u001b[1;32mFalse\u001b[0m\u001b[1;33m,\u001b[0m\u001b[1;33m\u001b[0m\u001b[1;33m\u001b[0m\u001b[0m\n\u001b[0m\u001b[0;32m    807\u001b[0m                         )\n",
      "\u001b[1;32m~\\Anaconda3\\lib\\site-packages\\nltk\\internals.py\u001b[0m in \u001b[0;36mfind_binary\u001b[1;34m(name, path_to_bin, env_vars, searchpath, binary_names, url, verbose)\u001b[0m\n\u001b[0;32m    696\u001b[0m         find_binary_iter(\n\u001b[1;32m--> 697\u001b[1;33m             \u001b[0mname\u001b[0m\u001b[1;33m,\u001b[0m \u001b[0mpath_to_bin\u001b[0m\u001b[1;33m,\u001b[0m \u001b[0menv_vars\u001b[0m\u001b[1;33m,\u001b[0m \u001b[0msearchpath\u001b[0m\u001b[1;33m,\u001b[0m \u001b[0mbinary_names\u001b[0m\u001b[1;33m,\u001b[0m \u001b[0murl\u001b[0m\u001b[1;33m,\u001b[0m \u001b[0mverbose\u001b[0m\u001b[1;33m\u001b[0m\u001b[1;33m\u001b[0m\u001b[0m\n\u001b[0m\u001b[0;32m    698\u001b[0m         )\n",
      "\u001b[1;32m~\\Anaconda3\\lib\\site-packages\\nltk\\internals.py\u001b[0m in \u001b[0;36mfind_binary_iter\u001b[1;34m(name, path_to_bin, env_vars, searchpath, binary_names, url, verbose)\u001b[0m\n\u001b[0;32m    680\u001b[0m     for file in find_file_iter(\n\u001b[1;32m--> 681\u001b[1;33m         \u001b[0mpath_to_bin\u001b[0m \u001b[1;32mor\u001b[0m \u001b[0mname\u001b[0m\u001b[1;33m,\u001b[0m \u001b[0menv_vars\u001b[0m\u001b[1;33m,\u001b[0m \u001b[0msearchpath\u001b[0m\u001b[1;33m,\u001b[0m \u001b[0mbinary_names\u001b[0m\u001b[1;33m,\u001b[0m \u001b[0murl\u001b[0m\u001b[1;33m,\u001b[0m \u001b[0mverbose\u001b[0m\u001b[1;33m\u001b[0m\u001b[1;33m\u001b[0m\u001b[0m\n\u001b[0m\u001b[0;32m    682\u001b[0m     ):\n",
      "\u001b[1;32m~\\Anaconda3\\lib\\site-packages\\nltk\\internals.py\u001b[0m in \u001b[0;36mfind_file_iter\u001b[1;34m(filename, env_vars, searchpath, file_names, url, verbose, finding_dir)\u001b[0m\n\u001b[0;32m    638\u001b[0m         \u001b[0mdiv\u001b[0m \u001b[1;33m=\u001b[0m \u001b[1;34m'='\u001b[0m \u001b[1;33m*\u001b[0m \u001b[1;36m75\u001b[0m\u001b[1;33m\u001b[0m\u001b[1;33m\u001b[0m\u001b[0m\n\u001b[1;32m--> 639\u001b[1;33m         \u001b[1;32mraise\u001b[0m \u001b[0mLookupError\u001b[0m\u001b[1;33m(\u001b[0m\u001b[1;34m'\\n\\n%s\\n%s\\n%s'\u001b[0m \u001b[1;33m%\u001b[0m \u001b[1;33m(\u001b[0m\u001b[0mdiv\u001b[0m\u001b[1;33m,\u001b[0m \u001b[0mmsg\u001b[0m\u001b[1;33m,\u001b[0m \u001b[0mdiv\u001b[0m\u001b[1;33m)\u001b[0m\u001b[1;33m)\u001b[0m\u001b[1;33m\u001b[0m\u001b[1;33m\u001b[0m\u001b[0m\n\u001b[0m\u001b[0;32m    640\u001b[0m \u001b[1;33m\u001b[0m\u001b[0m\n",
      "\u001b[1;31mLookupError\u001b[0m: \n\n===========================================================================\nNLTK was unable to find the gs file!\nUse software specific configuration paramaters or set the PATH environment variable.\n===========================================================================",
      "\nDuring handling of the above exception, another exception occurred:\n",
      "\u001b[1;31mLookupError\u001b[0m                               Traceback (most recent call last)",
      "\u001b[1;32m~\\Anaconda3\\lib\\site-packages\\IPython\\core\\formatters.py\u001b[0m in \u001b[0;36m__call__\u001b[1;34m(self, obj)\u001b[0m\n\u001b[0;32m    343\u001b[0m             \u001b[0mmethod\u001b[0m \u001b[1;33m=\u001b[0m \u001b[0mget_real_method\u001b[0m\u001b[1;33m(\u001b[0m\u001b[0mobj\u001b[0m\u001b[1;33m,\u001b[0m \u001b[0mself\u001b[0m\u001b[1;33m.\u001b[0m\u001b[0mprint_method\u001b[0m\u001b[1;33m)\u001b[0m\u001b[1;33m\u001b[0m\u001b[1;33m\u001b[0m\u001b[0m\n\u001b[0;32m    344\u001b[0m             \u001b[1;32mif\u001b[0m \u001b[0mmethod\u001b[0m \u001b[1;32mis\u001b[0m \u001b[1;32mnot\u001b[0m \u001b[1;32mNone\u001b[0m\u001b[1;33m:\u001b[0m\u001b[1;33m\u001b[0m\u001b[1;33m\u001b[0m\u001b[0m\n\u001b[1;32m--> 345\u001b[1;33m                 \u001b[1;32mreturn\u001b[0m \u001b[0mmethod\u001b[0m\u001b[1;33m(\u001b[0m\u001b[1;33m)\u001b[0m\u001b[1;33m\u001b[0m\u001b[1;33m\u001b[0m\u001b[0m\n\u001b[0m\u001b[0;32m    346\u001b[0m             \u001b[1;32mreturn\u001b[0m \u001b[1;32mNone\u001b[0m\u001b[1;33m\u001b[0m\u001b[1;33m\u001b[0m\u001b[0m\n\u001b[0;32m    347\u001b[0m         \u001b[1;32melse\u001b[0m\u001b[1;33m:\u001b[0m\u001b[1;33m\u001b[0m\u001b[1;33m\u001b[0m\u001b[0m\n",
      "\u001b[1;32m~\\Anaconda3\\lib\\site-packages\\nltk\\tree.py\u001b[0m in \u001b[0;36m_repr_png_\u001b[1;34m(self)\u001b[0m\n\u001b[0;32m    817\u001b[0m                                         \"https://docs.brew.sh/Installation then `brew install ghostscript`\")                \n\u001b[0;32m    818\u001b[0m                 \u001b[0mprint\u001b[0m\u001b[1;33m(\u001b[0m\u001b[0mpre_error_message\u001b[0m\u001b[1;33m,\u001b[0m \u001b[0mfile\u001b[0m\u001b[1;33m=\u001b[0m\u001b[0msys\u001b[0m\u001b[1;33m.\u001b[0m\u001b[0mstderr\u001b[0m\u001b[1;33m)\u001b[0m\u001b[1;33m\u001b[0m\u001b[1;33m\u001b[0m\u001b[0m\n\u001b[1;32m--> 819\u001b[1;33m                 \u001b[1;32mraise\u001b[0m \u001b[0mLookupError\u001b[0m\u001b[1;33m\u001b[0m\u001b[1;33m\u001b[0m\u001b[0m\n\u001b[0m\u001b[0;32m    820\u001b[0m \u001b[1;33m\u001b[0m\u001b[0m\n\u001b[0;32m    821\u001b[0m             \u001b[1;32mwith\u001b[0m \u001b[0mopen\u001b[0m\u001b[1;33m(\u001b[0m\u001b[0mout_path\u001b[0m\u001b[1;33m,\u001b[0m \u001b[1;34m'rb'\u001b[0m\u001b[1;33m)\u001b[0m \u001b[1;32mas\u001b[0m \u001b[0msr\u001b[0m\u001b[1;33m:\u001b[0m\u001b[1;33m\u001b[0m\u001b[1;33m\u001b[0m\u001b[0m\n",
      "\u001b[1;31mLookupError\u001b[0m: "
     ]
    },
    {
     "data": {
      "text/plain": [
       "Tree('S', [('PRESIDENT', 'NNP'), Tree('PERSON', [('GEORGE', 'NNP'), ('W.', 'NNP'), ('BUSH', 'NNP')]), (\"'S\", 'POS'), Tree('ORGANIZATION', [('ADDRESS', 'NNP')]), ('BEFORE', 'IN'), ('A', 'NNP'), Tree('ORGANIZATION', [('JOINT', 'NNP')]), ('SESSION', 'NNP'), ('OF', 'IN'), Tree('ORGANIZATION', [('THE', 'NNP')]), Tree('ORGANIZATION', [('CONGRESS', 'NNP')]), ('ON', 'NNP'), ('THE', 'NNP'), Tree('ORGANIZATION', [('STATE', 'NNP'), ('OF', 'IN')]), Tree('ORGANIZATION', [('THE', 'NNP')]), Tree('ORGANIZATION', [('UNION', 'NNP')]), ('February', 'NNP')])"
      ]
     },
     "execution_count": 75,
     "metadata": {},
     "output_type": "execute_result"
    }
   ],
   "source": [
    "ner_word = ne_chunk(pos_words)\n",
    "ner_word"
   ]
  },
  {
   "cell_type": "code",
   "execution_count": null,
   "metadata": {},
   "outputs": [],
   "source": []
  },
  {
   "cell_type": "code",
   "execution_count": null,
   "metadata": {},
   "outputs": [],
   "source": []
  },
  {
   "cell_type": "code",
   "execution_count": null,
   "metadata": {},
   "outputs": [],
   "source": []
  },
  {
   "cell_type": "code",
   "execution_count": null,
   "metadata": {},
   "outputs": [],
   "source": []
  }
 ],
 "metadata": {
  "kernelspec": {
   "display_name": "Python 3",
   "language": "python",
   "name": "python3"
  },
  "language_info": {
   "codemirror_mode": {
    "name": "ipython",
    "version": 3
   },
   "file_extension": ".py",
   "mimetype": "text/x-python",
   "name": "python",
   "nbconvert_exporter": "python",
   "pygments_lexer": "ipython3",
   "version": "3.7.3"
  }
 },
 "nbformat": 4,
 "nbformat_minor": 2
}
